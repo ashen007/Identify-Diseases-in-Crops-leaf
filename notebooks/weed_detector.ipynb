{
 "cells": [
  {
   "cell_type": "code",
   "execution_count": 1,
   "metadata": {
    "collapsed": true
   },
   "outputs": [],
   "source": [
    "import os\n",
    "import numpy as np\n",
    "from keras.preprocessing.image import load_img"
   ]
  },
  {
   "cell_type": "code",
   "execution_count": 2,
   "outputs": [],
   "source": [
    "root = '../data/agri_data'\n",
    "src_root = os.path.join(root, 'data')\n",
    "dst_root = os.path.join(root, 'images')"
   ],
   "metadata": {
    "collapsed": false,
    "pycharm": {
     "name": "#%%\n"
    }
   }
  },
  {
   "cell_type": "code",
   "execution_count": 10,
   "outputs": [],
   "source": [
    "for file in os.listdir(src_root):\n",
    "    if '.txt' in file:\n",
    "        with open(os.path.join(src_root, file), 'r') as annot:\n",
    "            cls = annot.readline().split(' ')[0]\n",
    "            cls = int(cls)\n",
    "\n",
    "        img_path = os.path.join(src_root, file.replace('.txt', '.jpeg'))\n",
    "        dst_name = f\"{'crop' if cls==0 else 'weed'}_{file.replace('.txt', '.jpeg')}\"\n",
    "        img = load_img(img_path, target_size=(224,224))\n",
    "        img.save(os.path.join(dst_root,dst_name))"
   ],
   "metadata": {
    "collapsed": false,
    "pycharm": {
     "name": "#%%\n"
    }
   }
  }
 ],
 "metadata": {
  "kernelspec": {
   "display_name": "Python 3",
   "language": "python",
   "name": "python3"
  },
  "language_info": {
   "codemirror_mode": {
    "name": "ipython",
    "version": 2
   },
   "file_extension": ".py",
   "mimetype": "text/x-python",
   "name": "python",
   "nbconvert_exporter": "python",
   "pygments_lexer": "ipython2",
   "version": "2.7.6"
  }
 },
 "nbformat": 4,
 "nbformat_minor": 0
}