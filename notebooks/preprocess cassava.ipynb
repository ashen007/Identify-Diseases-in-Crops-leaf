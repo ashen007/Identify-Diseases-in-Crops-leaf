{
 "cells": [
  {
   "cell_type": "code",
   "execution_count": 1,
   "metadata": {
    "collapsed": true
   },
   "outputs": [],
   "source": [
    "import os\n",
    "import cv2 as cv\n",
    "import pandas as pd\n",
    "import numpy as np\n",
    "\n",
    "from matplotlib import pyplot as plt\n",
    "import tensorflow as tf\n",
    "from tensorflow.keras.preprocessing.image import img_to_array, array_to_img"
   ]
  },
  {
   "cell_type": "code",
   "execution_count": 7,
   "outputs": [],
   "source": [
    "cassava_dir = '../data/image data/train/Cassava/'\n",
    "cassava_sub_dir = os.listdir(cassava_dir)\n",
    "imgs = [os.listdir(os.path.join(cassava_dir, sub))[:3] for sub in cassava_sub_dir]"
   ],
   "metadata": {
    "collapsed": false,
    "pycharm": {
     "name": "#%%\n"
    }
   }
  },
  {
   "cell_type": "code",
   "execution_count": 9,
   "outputs": [
    {
     "name": "stdout",
     "output_type": "stream",
     "text": [
      "../data/image data/train/Cassava/Bacterial Blight (CBB)\\1000015157.jpg\n",
      "../data/image data/train/Cassava/Bacterial Blight (CBB)\\1001320321.jpg\n",
      "../data/image data/train/Cassava/Bacterial Blight (CBB)\\1003888281.jpg\n",
      "../data/image data/train/Cassava/Brown Streak Disease (CBSD)\\100042118.jpg\n",
      "../data/image data/train/Cassava/Brown Streak Disease (CBSD)\\1000723321.jpg\n",
      "../data/image data/train/Cassava/Brown Streak Disease (CBSD)\\1002088496.jpg\n",
      "../data/image data/train/Cassava/Green Mottle (CGM)\\1000910826.jpg\n",
      "../data/image data/train/Cassava/Green Mottle (CGM)\\1003218714.jpg\n",
      "../data/image data/train/Cassava/Green Mottle (CGM)\\100472565.jpg\n",
      "../data/image data/train/Cassava/Healthy\\1001723730.jpg\n",
      "../data/image data/train/Cassava/Healthy\\1003442061.jpg\n",
      "../data/image data/train/Cassava/Healthy\\100560400.jpg\n",
      "../data/image data/train/Cassava/Mosaic Disease (CMD)\\1000201771.jpg\n",
      "../data/image data/train/Cassava/Mosaic Disease (CMD)\\1000812911.jpg\n",
      "../data/image data/train/Cassava/Mosaic Disease (CMD)\\1000837476.jpg\n"
     ]
    }
   ],
   "source": [
    "paths = []\n",
    "\n",
    "for i in range(len(cassava_sub_dir)):\n",
    "    for img in imgs[i]:\n",
    "        path = os.path.join(cassava_dir, cassava_sub_dir[i], img)\n",
    "        paths.append(path)\n",
    "        print(path)"
   ],
   "metadata": {
    "collapsed": false,
    "pycharm": {
     "name": "#%%\n"
    }
   }
  },
  {
   "cell_type": "code",
   "execution_count": null,
   "outputs": [],
   "source": [],
   "metadata": {
    "collapsed": false,
    "pycharm": {
     "name": "#%%\n"
    }
   }
  }
 ],
 "metadata": {
  "kernelspec": {
   "display_name": "Python 3",
   "language": "python",
   "name": "python3"
  },
  "language_info": {
   "codemirror_mode": {
    "name": "ipython",
    "version": 2
   },
   "file_extension": ".py",
   "mimetype": "text/x-python",
   "name": "python",
   "nbconvert_exporter": "python",
   "pygments_lexer": "ipython2",
   "version": "2.7.6"
  }
 },
 "nbformat": 4,
 "nbformat_minor": 0
}