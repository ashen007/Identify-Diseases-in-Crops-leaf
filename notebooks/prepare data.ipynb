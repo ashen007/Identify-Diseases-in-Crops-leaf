{
 "cells": [
  {
   "cell_type": "markdown",
   "source": [
    "## organize data into folders"
   ],
   "metadata": {
    "collapsed": false
   }
  },
  {
   "cell_type": "code",
   "execution_count": 2,
   "metadata": {
    "collapsed": true
   },
   "outputs": [],
   "source": [
    "import os\n",
    "import shutil\n",
    "import pandas as pd\n",
    "import numpy as np"
   ]
  },
  {
   "cell_type": "code",
   "execution_count": 3,
   "outputs": [],
   "source": [
    "# examine folders\n",
    "base_dir = '../data'"
   ],
   "metadata": {
    "collapsed": false,
    "pycharm": {
     "name": "#%%\n"
    }
   }
  },
  {
   "cell_type": "code",
   "execution_count": 4,
   "outputs": [
    {
     "data": {
      "text/plain": "['cassava-leaf-disease-classification',\n 'plantvillage dataset',\n 'rice_leaf_diseases']"
     },
     "execution_count": 4,
     "metadata": {},
     "output_type": "execute_result"
    }
   ],
   "source": [
    "# list of main data sources\n",
    "os.listdir(base_dir)"
   ],
   "metadata": {
    "collapsed": false,
    "pycharm": {
     "name": "#%%\n"
    }
   }
  },
  {
   "cell_type": "code",
   "execution_count": 5,
   "outputs": [
    {
     "name": "stdout",
     "output_type": "stream",
     "text": [
      "cassava-leaf-disease-classification: ['label_num_to_disease_map.json', 'sample_submission.csv', 'test_images', 'test_tfrecords', 'train.csv', 'train_images', 'train_tfrecords']\n",
      "plantvillage dataset: ['color', 'grayscale', 'segmented']\n",
      "rice_leaf_diseases: ['_BrownSpot', '_Healthy', '_Hispa', '_LeafBlast']\n"
     ]
    }
   ],
   "source": [
    "for dir in os.listdir(base_dir):\n",
    "    print(f'{dir}: {os.listdir(os.path.join(base_dir, dir))}')"
   ],
   "metadata": {
    "collapsed": false,
    "pycharm": {
     "name": "#%%\n"
    }
   }
  },
  {
   "cell_type": "code",
   "execution_count": 6,
   "outputs": [],
   "source": [
    "cassava_dir = os.path.join(base_dir,'cassava-leaf-disease-classification')\n",
    "plant_village_dir = os.path.join(base_dir,'plantvillage dataset')\n",
    "rice_dir = os.path.join(base_dir,'rice_leaf_diseases')"
   ],
   "metadata": {
    "collapsed": false,
    "pycharm": {
     "name": "#%%\n"
    }
   }
  },
  {
   "cell_type": "code",
   "execution_count": 7,
   "outputs": [
    {
     "data": {
      "text/plain": "21397"
     },
     "execution_count": 7,
     "metadata": {},
     "output_type": "execute_result"
    }
   ],
   "source": [
    "len(os.listdir(os.path.join(cassava_dir,'train_images')))"
   ],
   "metadata": {
    "collapsed": false,
    "pycharm": {
     "name": "#%%\n"
    }
   }
  },
  {
   "cell_type": "code",
   "execution_count": 8,
   "outputs": [
    {
     "data": {
      "text/plain": "['Apple___Apple_scab',\n 'Apple___Black_rot',\n 'Apple___Cedar_apple_rust',\n 'Apple___healthy',\n 'Blueberry___healthy',\n 'Cherry_(including_sour)___healthy',\n 'Cherry_(including_sour)___Powdery_mildew',\n 'Corn_(maize)___Cercospora_leaf_spot Gray_leaf_spot',\n 'Corn_(maize)___Common_rust_',\n 'Corn_(maize)___healthy',\n 'Corn_(maize)___Northern_Leaf_Blight',\n 'Grape___Black_rot',\n 'Grape___Esca_(Black_Measles)',\n 'Grape___healthy',\n 'Grape___Leaf_blight_(Isariopsis_Leaf_Spot)',\n 'Orange___Haunglongbing_(Citrus_greening)',\n 'Peach___Bacterial_spot',\n 'Peach___healthy',\n 'Pepper,_bell___Bacterial_spot',\n 'Pepper,_bell___healthy',\n 'Potato___Early_blight',\n 'Potato___healthy',\n 'Potato___Late_blight',\n 'Raspberry___healthy',\n 'Soybean___healthy',\n 'Squash___Powdery_mildew',\n 'Strawberry___healthy',\n 'Strawberry___Leaf_scorch',\n 'Tomato___Bacterial_spot',\n 'Tomato___Early_blight',\n 'Tomato___healthy',\n 'Tomato___Late_blight',\n 'Tomato___Leaf_Mold',\n 'Tomato___Septoria_leaf_spot',\n 'Tomato___Spider_mites Two-spotted_spider_mite',\n 'Tomato___Target_Spot',\n 'Tomato___Tomato_mosaic_virus',\n 'Tomato___Tomato_Yellow_Leaf_Curl_Virus']"
     },
     "execution_count": 8,
     "metadata": {},
     "output_type": "execute_result"
    }
   ],
   "source": [
    "os.listdir(os.path.join(plant_village_dir,'color'))"
   ],
   "metadata": {
    "collapsed": false,
    "pycharm": {
     "name": "#%%\n"
    }
   }
  },
  {
   "cell_type": "code",
   "execution_count": 9,
   "outputs": [
    {
     "name": "stdout",
     "output_type": "stream",
     "text": [
      "Apple___Apple_scab: 630\n",
      "Apple___Black_rot: 621\n",
      "Apple___Cedar_apple_rust: 275\n",
      "Apple___healthy: 1645\n",
      "Blueberry___healthy: 1502\n",
      "Cherry_(including_sour)___healthy: 854\n",
      "Cherry_(including_sour)___Powdery_mildew: 1052\n",
      "Corn_(maize)___Cercospora_leaf_spot Gray_leaf_spot: 513\n",
      "Corn_(maize)___Common_rust_: 1192\n",
      "Corn_(maize)___healthy: 1162\n",
      "Corn_(maize)___Northern_Leaf_Blight: 985\n",
      "Grape___Black_rot: 1180\n",
      "Grape___Esca_(Black_Measles): 1383\n",
      "Grape___healthy: 423\n",
      "Grape___Leaf_blight_(Isariopsis_Leaf_Spot): 1076\n",
      "Orange___Haunglongbing_(Citrus_greening): 5507\n",
      "Peach___Bacterial_spot: 2297\n",
      "Peach___healthy: 360\n",
      "Pepper,_bell___Bacterial_spot: 997\n",
      "Pepper,_bell___healthy: 1478\n",
      "Potato___Early_blight: 1000\n",
      "Potato___healthy: 152\n",
      "Potato___Late_blight: 1000\n",
      "Raspberry___healthy: 371\n",
      "Soybean___healthy: 5090\n",
      "Squash___Powdery_mildew: 1835\n",
      "Strawberry___healthy: 456\n",
      "Strawberry___Leaf_scorch: 1109\n",
      "Tomato___Bacterial_spot: 2127\n",
      "Tomato___Early_blight: 1000\n",
      "Tomato___healthy: 1591\n",
      "Tomato___Late_blight: 1909\n",
      "Tomato___Leaf_Mold: 952\n",
      "Tomato___Septoria_leaf_spot: 1771\n",
      "Tomato___Spider_mites Two-spotted_spider_mite: 1676\n",
      "Tomato___Target_Spot: 1404\n",
      "Tomato___Tomato_mosaic_virus: 373\n",
      "Tomato___Tomato_Yellow_Leaf_Curl_Virus: 5357\n"
     ]
    }
   ],
   "source": [
    "for dir in os.listdir(os.path.join(plant_village_dir,'color')):\n",
    "    print(f'{dir}: {len(os.listdir(os.path.join(plant_village_dir,\"color\",dir)))}')"
   ],
   "metadata": {
    "collapsed": false,
    "pycharm": {
     "name": "#%%\n"
    }
   }
  },
  {
   "cell_type": "code",
   "execution_count": 10,
   "outputs": [
    {
     "name": "stdout",
     "output_type": "stream",
     "text": [
      "_BrownSpot: 523\n",
      "_Healthy: 1488\n",
      "_Hispa: 565\n",
      "_LeafBlast: 779\n"
     ]
    }
   ],
   "source": [
    "for dir in os.listdir(rice_dir):\n",
    "    print(f'{dir}: {len(os.listdir(os.path.join(rice_dir,dir)))}')"
   ],
   "metadata": {
    "collapsed": false,
    "pycharm": {
     "name": "#%%\n"
    }
   }
  }
 ],
 "metadata": {
  "kernelspec": {
   "display_name": "Python 3",
   "language": "python",
   "name": "python3"
  },
  "language_info": {
   "codemirror_mode": {
    "name": "ipython",
    "version": 2
   },
   "file_extension": ".py",
   "mimetype": "text/x-python",
   "name": "python",
   "nbconvert_exporter": "python",
   "pygments_lexer": "ipython2",
   "version": "2.7.6"
  }
 },
 "nbformat": 4,
 "nbformat_minor": 0
}