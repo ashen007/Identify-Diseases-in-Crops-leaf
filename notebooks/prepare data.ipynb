{
 "cells": [
  {
   "cell_type": "markdown",
   "source": [
    "# Organize data into folders"
   ],
   "metadata": {
    "collapsed": false
   }
  },
  {
   "cell_type": "code",
   "execution_count": 2,
   "metadata": {
    "collapsed": true
   },
   "outputs": [],
   "source": [
    "import os\n",
    "import shutil\n",
    "import pandas as pd\n",
    "import numpy as np"
   ]
  },
  {
   "cell_type": "code",
   "execution_count": 3,
   "outputs": [],
   "source": [
    "# examine folders\n",
    "base_dir = '../data'"
   ],
   "metadata": {
    "collapsed": false,
    "pycharm": {
     "name": "#%%\n"
    }
   }
  },
  {
   "cell_type": "code",
   "execution_count": 4,
   "outputs": [
    {
     "data": {
      "text/plain": "['cassava-leaf-disease-classification',\n 'plantvillage dataset',\n 'rice_leaf_diseases']"
     },
     "execution_count": 4,
     "metadata": {},
     "output_type": "execute_result"
    }
   ],
   "source": [
    "# list of main data sources\n",
    "os.listdir(base_dir)"
   ],
   "metadata": {
    "collapsed": false,
    "pycharm": {
     "name": "#%%\n"
    }
   }
  },
  {
   "cell_type": "code",
   "execution_count": 5,
   "outputs": [
    {
     "name": "stdout",
     "output_type": "stream",
     "text": [
      "cassava-leaf-disease-classification: ['label_num_to_disease_map.json', 'sample_submission.csv', 'test_images', 'test_tfrecords', 'train.csv', 'train_images', 'train_tfrecords']\n",
      "plantvillage dataset: ['color', 'grayscale', 'segmented']\n",
      "rice_leaf_diseases: ['_BrownSpot', '_Healthy', '_Hispa', '_LeafBlast']\n"
     ]
    }
   ],
   "source": [
    "for dir in os.listdir(base_dir):\n",
    "    print(f'{dir}: {os.listdir(os.path.join(base_dir, dir))}')"
   ],
   "metadata": {
    "collapsed": false,
    "pycharm": {
     "name": "#%%\n"
    }
   }
  },
  {
   "cell_type": "code",
   "execution_count": 6,
   "outputs": [],
   "source": [
    "cassava_dir = os.path.join(base_dir, 'cassava-leaf-disease-classification')\n",
    "plant_village_dir = os.path.join(base_dir, 'plantvillage dataset')\n",
    "rice_dir = os.path.join(base_dir, 'rice_leaf_diseases')"
   ],
   "metadata": {
    "collapsed": false,
    "pycharm": {
     "name": "#%%\n"
    }
   }
  },
  {
   "cell_type": "code",
   "execution_count": 7,
   "outputs": [
    {
     "data": {
      "text/plain": "21397"
     },
     "execution_count": 7,
     "metadata": {},
     "output_type": "execute_result"
    }
   ],
   "source": [
    "len(os.listdir(os.path.join(cassava_dir, 'train_images')))"
   ],
   "metadata": {
    "collapsed": false,
    "pycharm": {
     "name": "#%%\n"
    }
   }
  },
  {
   "cell_type": "code",
   "execution_count": 8,
   "outputs": [
    {
     "data": {
      "text/plain": "['Apple___Apple_scab',\n 'Apple___Black_rot',\n 'Apple___Cedar_apple_rust',\n 'Apple___healthy',\n 'Blueberry___healthy',\n 'Cherry_(including_sour)___healthy',\n 'Cherry_(including_sour)___Powdery_mildew',\n 'Corn_(maize)___Cercospora_leaf_spot Gray_leaf_spot',\n 'Corn_(maize)___Common_rust_',\n 'Corn_(maize)___healthy',\n 'Corn_(maize)___Northern_Leaf_Blight',\n 'Grape___Black_rot',\n 'Grape___Esca_(Black_Measles)',\n 'Grape___healthy',\n 'Grape___Leaf_blight_(Isariopsis_Leaf_Spot)',\n 'Orange___Haunglongbing_(Citrus_greening)',\n 'Peach___Bacterial_spot',\n 'Peach___healthy',\n 'Pepper,_bell___Bacterial_spot',\n 'Pepper,_bell___healthy',\n 'Potato___Early_blight',\n 'Potato___healthy',\n 'Potato___Late_blight',\n 'Raspberry___healthy',\n 'Soybean___healthy',\n 'Squash___Powdery_mildew',\n 'Strawberry___healthy',\n 'Strawberry___Leaf_scorch',\n 'Tomato___Bacterial_spot',\n 'Tomato___Early_blight',\n 'Tomato___healthy',\n 'Tomato___Late_blight',\n 'Tomato___Leaf_Mold',\n 'Tomato___Septoria_leaf_spot',\n 'Tomato___Spider_mites Two-spotted_spider_mite',\n 'Tomato___Target_Spot',\n 'Tomato___Tomato_mosaic_virus',\n 'Tomato___Tomato_Yellow_Leaf_Curl_Virus']"
     },
     "execution_count": 8,
     "metadata": {},
     "output_type": "execute_result"
    }
   ],
   "source": [
    "os.listdir(os.path.join(plant_village_dir, 'color'))"
   ],
   "metadata": {
    "collapsed": false,
    "pycharm": {
     "name": "#%%\n"
    }
   }
  },
  {
   "cell_type": "code",
   "execution_count": 9,
   "outputs": [
    {
     "name": "stdout",
     "output_type": "stream",
     "text": [
      "Apple___Apple_scab: 630\n",
      "Apple___Black_rot: 621\n",
      "Apple___Cedar_apple_rust: 275\n",
      "Apple___healthy: 1645\n",
      "Blueberry___healthy: 1502\n",
      "Cherry_(including_sour)___healthy: 854\n",
      "Cherry_(including_sour)___Powdery_mildew: 1052\n",
      "Corn_(maize)___Cercospora_leaf_spot Gray_leaf_spot: 513\n",
      "Corn_(maize)___Common_rust_: 1192\n",
      "Corn_(maize)___healthy: 1162\n",
      "Corn_(maize)___Northern_Leaf_Blight: 985\n",
      "Grape___Black_rot: 1180\n",
      "Grape___Esca_(Black_Measles): 1383\n",
      "Grape___healthy: 423\n",
      "Grape___Leaf_blight_(Isariopsis_Leaf_Spot): 1076\n",
      "Orange___Haunglongbing_(Citrus_greening): 5507\n",
      "Peach___Bacterial_spot: 2297\n",
      "Peach___healthy: 360\n",
      "Pepper,_bell___Bacterial_spot: 997\n",
      "Pepper,_bell___healthy: 1478\n",
      "Potato___Early_blight: 1000\n",
      "Potato___healthy: 152\n",
      "Potato___Late_blight: 1000\n",
      "Raspberry___healthy: 371\n",
      "Soybean___healthy: 5090\n",
      "Squash___Powdery_mildew: 1835\n",
      "Strawberry___healthy: 456\n",
      "Strawberry___Leaf_scorch: 1109\n",
      "Tomato___Bacterial_spot: 2127\n",
      "Tomato___Early_blight: 1000\n",
      "Tomato___healthy: 1591\n",
      "Tomato___Late_blight: 1909\n",
      "Tomato___Leaf_Mold: 952\n",
      "Tomato___Septoria_leaf_spot: 1771\n",
      "Tomato___Spider_mites Two-spotted_spider_mite: 1676\n",
      "Tomato___Target_Spot: 1404\n",
      "Tomato___Tomato_mosaic_virus: 373\n",
      "Tomato___Tomato_Yellow_Leaf_Curl_Virus: 5357\n"
     ]
    }
   ],
   "source": [
    "for dir in os.listdir(os.path.join(plant_village_dir, 'color')):\n",
    "    print(f'{dir}: {len(os.listdir(os.path.join(plant_village_dir, \"color\", dir)))}')"
   ],
   "metadata": {
    "collapsed": false,
    "pycharm": {
     "name": "#%%\n"
    }
   }
  },
  {
   "cell_type": "code",
   "execution_count": 10,
   "outputs": [
    {
     "name": "stdout",
     "output_type": "stream",
     "text": [
      "_BrownSpot: 523\n",
      "_Healthy: 1488\n",
      "_Hispa: 565\n",
      "_LeafBlast: 779\n"
     ]
    }
   ],
   "source": [
    "for dir in os.listdir(rice_dir):\n",
    "    print(f'{dir}: {len(os.listdir(os.path.join(rice_dir, dir)))}')"
   ],
   "metadata": {
    "collapsed": false,
    "pycharm": {
     "name": "#%%\n"
    }
   }
  },
  {
   "cell_type": "code",
   "execution_count": 34,
   "outputs": [],
   "source": [
    "fnames = []\n",
    "\n",
    "for dir in os.listdir(os.path.join(plant_village_dir, 'color')):\n",
    "    columns = dir.split('___')\n",
    "    columns.append(dir)\n",
    "    fnames.append(columns)"
   ],
   "metadata": {
    "collapsed": false,
    "pycharm": {
     "name": "#%%\n"
    }
   }
  },
  {
   "cell_type": "code",
   "execution_count": 36,
   "outputs": [
    {
     "data": {
      "text/plain": "                  Tree type                               Disease  \\\n0                     Apple                            Apple_scab   \n1                     Apple                             Black_rot   \n2                     Apple                      Cedar_apple_rust   \n3                     Apple                               healthy   \n4                 Blueberry                               healthy   \n5   Cherry_(including_sour)                               healthy   \n6   Cherry_(including_sour)                        Powdery_mildew   \n7              Corn_(maize)   Cercospora_leaf_spot Gray_leaf_spot   \n8              Corn_(maize)                          Common_rust_   \n9              Corn_(maize)                               healthy   \n10             Corn_(maize)                  Northern_Leaf_Blight   \n11                    Grape                             Black_rot   \n12                    Grape                  Esca_(Black_Measles)   \n13                    Grape                               healthy   \n14                    Grape    Leaf_blight_(Isariopsis_Leaf_Spot)   \n15                   Orange       Haunglongbing_(Citrus_greening)   \n16                    Peach                        Bacterial_spot   \n17                    Peach                               healthy   \n18             Pepper,_bell                        Bacterial_spot   \n19             Pepper,_bell                               healthy   \n20                   Potato                          Early_blight   \n21                   Potato                               healthy   \n22                   Potato                           Late_blight   \n23                Raspberry                               healthy   \n24                  Soybean                               healthy   \n25                   Squash                        Powdery_mildew   \n26               Strawberry                               healthy   \n27               Strawberry                           Leaf_scorch   \n28                   Tomato                        Bacterial_spot   \n29                   Tomato                          Early_blight   \n30                   Tomato                               healthy   \n31                   Tomato                           Late_blight   \n32                   Tomato                             Leaf_Mold   \n33                   Tomato                    Septoria_leaf_spot   \n34                   Tomato  Spider_mites Two-spotted_spider_mite   \n35                   Tomato                           Target_Spot   \n36                   Tomato                   Tomato_mosaic_virus   \n37                   Tomato         Tomato_Yellow_Leaf_Curl_Virus   \n\n                                               Folder  \n0                                  Apple___Apple_scab  \n1                                   Apple___Black_rot  \n2                            Apple___Cedar_apple_rust  \n3                                     Apple___healthy  \n4                                 Blueberry___healthy  \n5                   Cherry_(including_sour)___healthy  \n6            Cherry_(including_sour)___Powdery_mildew  \n7   Corn_(maize)___Cercospora_leaf_spot Gray_leaf_...  \n8                         Corn_(maize)___Common_rust_  \n9                              Corn_(maize)___healthy  \n10                Corn_(maize)___Northern_Leaf_Blight  \n11                                  Grape___Black_rot  \n12                       Grape___Esca_(Black_Measles)  \n13                                    Grape___healthy  \n14         Grape___Leaf_blight_(Isariopsis_Leaf_Spot)  \n15           Orange___Haunglongbing_(Citrus_greening)  \n16                             Peach___Bacterial_spot  \n17                                    Peach___healthy  \n18                      Pepper,_bell___Bacterial_spot  \n19                             Pepper,_bell___healthy  \n20                              Potato___Early_blight  \n21                                   Potato___healthy  \n22                               Potato___Late_blight  \n23                                Raspberry___healthy  \n24                                  Soybean___healthy  \n25                            Squash___Powdery_mildew  \n26                               Strawberry___healthy  \n27                           Strawberry___Leaf_scorch  \n28                            Tomato___Bacterial_spot  \n29                              Tomato___Early_blight  \n30                                   Tomato___healthy  \n31                               Tomato___Late_blight  \n32                                 Tomato___Leaf_Mold  \n33                        Tomato___Septoria_leaf_spot  \n34      Tomato___Spider_mites Two-spotted_spider_mite  \n35                               Tomato___Target_Spot  \n36                       Tomato___Tomato_mosaic_virus  \n37             Tomato___Tomato_Yellow_Leaf_Curl_Virus  ",
      "text/html": "<div>\n<style scoped>\n    .dataframe tbody tr th:only-of-type {\n        vertical-align: middle;\n    }\n\n    .dataframe tbody tr th {\n        vertical-align: top;\n    }\n\n    .dataframe thead th {\n        text-align: right;\n    }\n</style>\n<table border=\"1\" class=\"dataframe\">\n  <thead>\n    <tr style=\"text-align: right;\">\n      <th></th>\n      <th>Tree type</th>\n      <th>Disease</th>\n      <th>Folder</th>\n    </tr>\n  </thead>\n  <tbody>\n    <tr>\n      <th>0</th>\n      <td>Apple</td>\n      <td>Apple_scab</td>\n      <td>Apple___Apple_scab</td>\n    </tr>\n    <tr>\n      <th>1</th>\n      <td>Apple</td>\n      <td>Black_rot</td>\n      <td>Apple___Black_rot</td>\n    </tr>\n    <tr>\n      <th>2</th>\n      <td>Apple</td>\n      <td>Cedar_apple_rust</td>\n      <td>Apple___Cedar_apple_rust</td>\n    </tr>\n    <tr>\n      <th>3</th>\n      <td>Apple</td>\n      <td>healthy</td>\n      <td>Apple___healthy</td>\n    </tr>\n    <tr>\n      <th>4</th>\n      <td>Blueberry</td>\n      <td>healthy</td>\n      <td>Blueberry___healthy</td>\n    </tr>\n    <tr>\n      <th>5</th>\n      <td>Cherry_(including_sour)</td>\n      <td>healthy</td>\n      <td>Cherry_(including_sour)___healthy</td>\n    </tr>\n    <tr>\n      <th>6</th>\n      <td>Cherry_(including_sour)</td>\n      <td>Powdery_mildew</td>\n      <td>Cherry_(including_sour)___Powdery_mildew</td>\n    </tr>\n    <tr>\n      <th>7</th>\n      <td>Corn_(maize)</td>\n      <td>Cercospora_leaf_spot Gray_leaf_spot</td>\n      <td>Corn_(maize)___Cercospora_leaf_spot Gray_leaf_...</td>\n    </tr>\n    <tr>\n      <th>8</th>\n      <td>Corn_(maize)</td>\n      <td>Common_rust_</td>\n      <td>Corn_(maize)___Common_rust_</td>\n    </tr>\n    <tr>\n      <th>9</th>\n      <td>Corn_(maize)</td>\n      <td>healthy</td>\n      <td>Corn_(maize)___healthy</td>\n    </tr>\n    <tr>\n      <th>10</th>\n      <td>Corn_(maize)</td>\n      <td>Northern_Leaf_Blight</td>\n      <td>Corn_(maize)___Northern_Leaf_Blight</td>\n    </tr>\n    <tr>\n      <th>11</th>\n      <td>Grape</td>\n      <td>Black_rot</td>\n      <td>Grape___Black_rot</td>\n    </tr>\n    <tr>\n      <th>12</th>\n      <td>Grape</td>\n      <td>Esca_(Black_Measles)</td>\n      <td>Grape___Esca_(Black_Measles)</td>\n    </tr>\n    <tr>\n      <th>13</th>\n      <td>Grape</td>\n      <td>healthy</td>\n      <td>Grape___healthy</td>\n    </tr>\n    <tr>\n      <th>14</th>\n      <td>Grape</td>\n      <td>Leaf_blight_(Isariopsis_Leaf_Spot)</td>\n      <td>Grape___Leaf_blight_(Isariopsis_Leaf_Spot)</td>\n    </tr>\n    <tr>\n      <th>15</th>\n      <td>Orange</td>\n      <td>Haunglongbing_(Citrus_greening)</td>\n      <td>Orange___Haunglongbing_(Citrus_greening)</td>\n    </tr>\n    <tr>\n      <th>16</th>\n      <td>Peach</td>\n      <td>Bacterial_spot</td>\n      <td>Peach___Bacterial_spot</td>\n    </tr>\n    <tr>\n      <th>17</th>\n      <td>Peach</td>\n      <td>healthy</td>\n      <td>Peach___healthy</td>\n    </tr>\n    <tr>\n      <th>18</th>\n      <td>Pepper,_bell</td>\n      <td>Bacterial_spot</td>\n      <td>Pepper,_bell___Bacterial_spot</td>\n    </tr>\n    <tr>\n      <th>19</th>\n      <td>Pepper,_bell</td>\n      <td>healthy</td>\n      <td>Pepper,_bell___healthy</td>\n    </tr>\n    <tr>\n      <th>20</th>\n      <td>Potato</td>\n      <td>Early_blight</td>\n      <td>Potato___Early_blight</td>\n    </tr>\n    <tr>\n      <th>21</th>\n      <td>Potato</td>\n      <td>healthy</td>\n      <td>Potato___healthy</td>\n    </tr>\n    <tr>\n      <th>22</th>\n      <td>Potato</td>\n      <td>Late_blight</td>\n      <td>Potato___Late_blight</td>\n    </tr>\n    <tr>\n      <th>23</th>\n      <td>Raspberry</td>\n      <td>healthy</td>\n      <td>Raspberry___healthy</td>\n    </tr>\n    <tr>\n      <th>24</th>\n      <td>Soybean</td>\n      <td>healthy</td>\n      <td>Soybean___healthy</td>\n    </tr>\n    <tr>\n      <th>25</th>\n      <td>Squash</td>\n      <td>Powdery_mildew</td>\n      <td>Squash___Powdery_mildew</td>\n    </tr>\n    <tr>\n      <th>26</th>\n      <td>Strawberry</td>\n      <td>healthy</td>\n      <td>Strawberry___healthy</td>\n    </tr>\n    <tr>\n      <th>27</th>\n      <td>Strawberry</td>\n      <td>Leaf_scorch</td>\n      <td>Strawberry___Leaf_scorch</td>\n    </tr>\n    <tr>\n      <th>28</th>\n      <td>Tomato</td>\n      <td>Bacterial_spot</td>\n      <td>Tomato___Bacterial_spot</td>\n    </tr>\n    <tr>\n      <th>29</th>\n      <td>Tomato</td>\n      <td>Early_blight</td>\n      <td>Tomato___Early_blight</td>\n    </tr>\n    <tr>\n      <th>30</th>\n      <td>Tomato</td>\n      <td>healthy</td>\n      <td>Tomato___healthy</td>\n    </tr>\n    <tr>\n      <th>31</th>\n      <td>Tomato</td>\n      <td>Late_blight</td>\n      <td>Tomato___Late_blight</td>\n    </tr>\n    <tr>\n      <th>32</th>\n      <td>Tomato</td>\n      <td>Leaf_Mold</td>\n      <td>Tomato___Leaf_Mold</td>\n    </tr>\n    <tr>\n      <th>33</th>\n      <td>Tomato</td>\n      <td>Septoria_leaf_spot</td>\n      <td>Tomato___Septoria_leaf_spot</td>\n    </tr>\n    <tr>\n      <th>34</th>\n      <td>Tomato</td>\n      <td>Spider_mites Two-spotted_spider_mite</td>\n      <td>Tomato___Spider_mites Two-spotted_spider_mite</td>\n    </tr>\n    <tr>\n      <th>35</th>\n      <td>Tomato</td>\n      <td>Target_Spot</td>\n      <td>Tomato___Target_Spot</td>\n    </tr>\n    <tr>\n      <th>36</th>\n      <td>Tomato</td>\n      <td>Tomato_mosaic_virus</td>\n      <td>Tomato___Tomato_mosaic_virus</td>\n    </tr>\n    <tr>\n      <th>37</th>\n      <td>Tomato</td>\n      <td>Tomato_Yellow_Leaf_Curl_Virus</td>\n      <td>Tomato___Tomato_Yellow_Leaf_Curl_Virus</td>\n    </tr>\n  </tbody>\n</table>\n</div>"
     },
     "execution_count": 36,
     "metadata": {},
     "output_type": "execute_result"
    }
   ],
   "source": [
    "fnames = pd.DataFrame(fnames, columns=['Tree type', 'Disease', 'Folder'])\n",
    "fnames"
   ],
   "metadata": {
    "collapsed": false,
    "pycharm": {
     "name": "#%%\n"
    }
   }
  },
  {
   "cell_type": "code",
   "execution_count": 38,
   "outputs": [
    {
     "data": {
      "text/plain": "                  Tree type                               Disease  \\\n0                     Apple                            Apple scab   \n1                     Apple                             Black rot   \n2                     Apple                      Cedar apple rust   \n3                     Apple                               healthy   \n4                 Blueberry                               healthy   \n5   Cherry (including sour)                               healthy   \n6   Cherry (including sour)                        Powdery mildew   \n7              Corn (maize)   Cercospora leaf spot Gray leaf spot   \n8              Corn (maize)                          Common rust    \n9              Corn (maize)                               healthy   \n10             Corn (maize)                  Northern Leaf Blight   \n11                    Grape                             Black rot   \n12                    Grape                  Esca (Black Measles)   \n13                    Grape                               healthy   \n14                    Grape    Leaf blight (Isariopsis Leaf Spot)   \n15                   Orange       Haunglongbing (Citrus greening)   \n16                    Peach                        Bacterial spot   \n17                    Peach                               healthy   \n18             Pepper, bell                        Bacterial spot   \n19             Pepper, bell                               healthy   \n20                   Potato                          Early blight   \n21                   Potato                               healthy   \n22                   Potato                           Late blight   \n23                Raspberry                               healthy   \n24                  Soybean                               healthy   \n25                   Squash                        Powdery mildew   \n26               Strawberry                               healthy   \n27               Strawberry                           Leaf scorch   \n28                   Tomato                        Bacterial spot   \n29                   Tomato                          Early blight   \n30                   Tomato                               healthy   \n31                   Tomato                           Late blight   \n32                   Tomato                             Leaf Mold   \n33                   Tomato                    Septoria leaf spot   \n34                   Tomato  Spider mites Two-spotted spider mite   \n35                   Tomato                           Target Spot   \n36                   Tomato                   Tomato mosaic virus   \n37                   Tomato         Tomato Yellow Leaf Curl Virus   \n\n                                               Folder  \n0                                  Apple___Apple_scab  \n1                                   Apple___Black_rot  \n2                            Apple___Cedar_apple_rust  \n3                                     Apple___healthy  \n4                                 Blueberry___healthy  \n5                   Cherry_(including_sour)___healthy  \n6            Cherry_(including_sour)___Powdery_mildew  \n7   Corn_(maize)___Cercospora_leaf_spot Gray_leaf_...  \n8                         Corn_(maize)___Common_rust_  \n9                              Corn_(maize)___healthy  \n10                Corn_(maize)___Northern_Leaf_Blight  \n11                                  Grape___Black_rot  \n12                       Grape___Esca_(Black_Measles)  \n13                                    Grape___healthy  \n14         Grape___Leaf_blight_(Isariopsis_Leaf_Spot)  \n15           Orange___Haunglongbing_(Citrus_greening)  \n16                             Peach___Bacterial_spot  \n17                                    Peach___healthy  \n18                      Pepper,_bell___Bacterial_spot  \n19                             Pepper,_bell___healthy  \n20                              Potato___Early_blight  \n21                                   Potato___healthy  \n22                               Potato___Late_blight  \n23                                Raspberry___healthy  \n24                                  Soybean___healthy  \n25                            Squash___Powdery_mildew  \n26                               Strawberry___healthy  \n27                           Strawberry___Leaf_scorch  \n28                            Tomato___Bacterial_spot  \n29                              Tomato___Early_blight  \n30                                   Tomato___healthy  \n31                               Tomato___Late_blight  \n32                                 Tomato___Leaf_Mold  \n33                        Tomato___Septoria_leaf_spot  \n34      Tomato___Spider_mites Two-spotted_spider_mite  \n35                               Tomato___Target_Spot  \n36                       Tomato___Tomato_mosaic_virus  \n37             Tomato___Tomato_Yellow_Leaf_Curl_Virus  ",
      "text/html": "<div>\n<style scoped>\n    .dataframe tbody tr th:only-of-type {\n        vertical-align: middle;\n    }\n\n    .dataframe tbody tr th {\n        vertical-align: top;\n    }\n\n    .dataframe thead th {\n        text-align: right;\n    }\n</style>\n<table border=\"1\" class=\"dataframe\">\n  <thead>\n    <tr style=\"text-align: right;\">\n      <th></th>\n      <th>Tree type</th>\n      <th>Disease</th>\n      <th>Folder</th>\n    </tr>\n  </thead>\n  <tbody>\n    <tr>\n      <th>0</th>\n      <td>Apple</td>\n      <td>Apple scab</td>\n      <td>Apple___Apple_scab</td>\n    </tr>\n    <tr>\n      <th>1</th>\n      <td>Apple</td>\n      <td>Black rot</td>\n      <td>Apple___Black_rot</td>\n    </tr>\n    <tr>\n      <th>2</th>\n      <td>Apple</td>\n      <td>Cedar apple rust</td>\n      <td>Apple___Cedar_apple_rust</td>\n    </tr>\n    <tr>\n      <th>3</th>\n      <td>Apple</td>\n      <td>healthy</td>\n      <td>Apple___healthy</td>\n    </tr>\n    <tr>\n      <th>4</th>\n      <td>Blueberry</td>\n      <td>healthy</td>\n      <td>Blueberry___healthy</td>\n    </tr>\n    <tr>\n      <th>5</th>\n      <td>Cherry (including sour)</td>\n      <td>healthy</td>\n      <td>Cherry_(including_sour)___healthy</td>\n    </tr>\n    <tr>\n      <th>6</th>\n      <td>Cherry (including sour)</td>\n      <td>Powdery mildew</td>\n      <td>Cherry_(including_sour)___Powdery_mildew</td>\n    </tr>\n    <tr>\n      <th>7</th>\n      <td>Corn (maize)</td>\n      <td>Cercospora leaf spot Gray leaf spot</td>\n      <td>Corn_(maize)___Cercospora_leaf_spot Gray_leaf_...</td>\n    </tr>\n    <tr>\n      <th>8</th>\n      <td>Corn (maize)</td>\n      <td>Common rust</td>\n      <td>Corn_(maize)___Common_rust_</td>\n    </tr>\n    <tr>\n      <th>9</th>\n      <td>Corn (maize)</td>\n      <td>healthy</td>\n      <td>Corn_(maize)___healthy</td>\n    </tr>\n    <tr>\n      <th>10</th>\n      <td>Corn (maize)</td>\n      <td>Northern Leaf Blight</td>\n      <td>Corn_(maize)___Northern_Leaf_Blight</td>\n    </tr>\n    <tr>\n      <th>11</th>\n      <td>Grape</td>\n      <td>Black rot</td>\n      <td>Grape___Black_rot</td>\n    </tr>\n    <tr>\n      <th>12</th>\n      <td>Grape</td>\n      <td>Esca (Black Measles)</td>\n      <td>Grape___Esca_(Black_Measles)</td>\n    </tr>\n    <tr>\n      <th>13</th>\n      <td>Grape</td>\n      <td>healthy</td>\n      <td>Grape___healthy</td>\n    </tr>\n    <tr>\n      <th>14</th>\n      <td>Grape</td>\n      <td>Leaf blight (Isariopsis Leaf Spot)</td>\n      <td>Grape___Leaf_blight_(Isariopsis_Leaf_Spot)</td>\n    </tr>\n    <tr>\n      <th>15</th>\n      <td>Orange</td>\n      <td>Haunglongbing (Citrus greening)</td>\n      <td>Orange___Haunglongbing_(Citrus_greening)</td>\n    </tr>\n    <tr>\n      <th>16</th>\n      <td>Peach</td>\n      <td>Bacterial spot</td>\n      <td>Peach___Bacterial_spot</td>\n    </tr>\n    <tr>\n      <th>17</th>\n      <td>Peach</td>\n      <td>healthy</td>\n      <td>Peach___healthy</td>\n    </tr>\n    <tr>\n      <th>18</th>\n      <td>Pepper, bell</td>\n      <td>Bacterial spot</td>\n      <td>Pepper,_bell___Bacterial_spot</td>\n    </tr>\n    <tr>\n      <th>19</th>\n      <td>Pepper, bell</td>\n      <td>healthy</td>\n      <td>Pepper,_bell___healthy</td>\n    </tr>\n    <tr>\n      <th>20</th>\n      <td>Potato</td>\n      <td>Early blight</td>\n      <td>Potato___Early_blight</td>\n    </tr>\n    <tr>\n      <th>21</th>\n      <td>Potato</td>\n      <td>healthy</td>\n      <td>Potato___healthy</td>\n    </tr>\n    <tr>\n      <th>22</th>\n      <td>Potato</td>\n      <td>Late blight</td>\n      <td>Potato___Late_blight</td>\n    </tr>\n    <tr>\n      <th>23</th>\n      <td>Raspberry</td>\n      <td>healthy</td>\n      <td>Raspberry___healthy</td>\n    </tr>\n    <tr>\n      <th>24</th>\n      <td>Soybean</td>\n      <td>healthy</td>\n      <td>Soybean___healthy</td>\n    </tr>\n    <tr>\n      <th>25</th>\n      <td>Squash</td>\n      <td>Powdery mildew</td>\n      <td>Squash___Powdery_mildew</td>\n    </tr>\n    <tr>\n      <th>26</th>\n      <td>Strawberry</td>\n      <td>healthy</td>\n      <td>Strawberry___healthy</td>\n    </tr>\n    <tr>\n      <th>27</th>\n      <td>Strawberry</td>\n      <td>Leaf scorch</td>\n      <td>Strawberry___Leaf_scorch</td>\n    </tr>\n    <tr>\n      <th>28</th>\n      <td>Tomato</td>\n      <td>Bacterial spot</td>\n      <td>Tomato___Bacterial_spot</td>\n    </tr>\n    <tr>\n      <th>29</th>\n      <td>Tomato</td>\n      <td>Early blight</td>\n      <td>Tomato___Early_blight</td>\n    </tr>\n    <tr>\n      <th>30</th>\n      <td>Tomato</td>\n      <td>healthy</td>\n      <td>Tomato___healthy</td>\n    </tr>\n    <tr>\n      <th>31</th>\n      <td>Tomato</td>\n      <td>Late blight</td>\n      <td>Tomato___Late_blight</td>\n    </tr>\n    <tr>\n      <th>32</th>\n      <td>Tomato</td>\n      <td>Leaf Mold</td>\n      <td>Tomato___Leaf_Mold</td>\n    </tr>\n    <tr>\n      <th>33</th>\n      <td>Tomato</td>\n      <td>Septoria leaf spot</td>\n      <td>Tomato___Septoria_leaf_spot</td>\n    </tr>\n    <tr>\n      <th>34</th>\n      <td>Tomato</td>\n      <td>Spider mites Two-spotted spider mite</td>\n      <td>Tomato___Spider_mites Two-spotted_spider_mite</td>\n    </tr>\n    <tr>\n      <th>35</th>\n      <td>Tomato</td>\n      <td>Target Spot</td>\n      <td>Tomato___Target_Spot</td>\n    </tr>\n    <tr>\n      <th>36</th>\n      <td>Tomato</td>\n      <td>Tomato mosaic virus</td>\n      <td>Tomato___Tomato_mosaic_virus</td>\n    </tr>\n    <tr>\n      <th>37</th>\n      <td>Tomato</td>\n      <td>Tomato Yellow Leaf Curl Virus</td>\n      <td>Tomato___Tomato_Yellow_Leaf_Curl_Virus</td>\n    </tr>\n  </tbody>\n</table>\n</div>"
     },
     "execution_count": 38,
     "metadata": {},
     "output_type": "execute_result"
    }
   ],
   "source": [
    "fnames['Disease'] = fnames['Disease'].str.replace('_', ' ')\n",
    "fnames['Tree type'] = fnames['Tree type'].str.replace('_', ' ')\n",
    "fnames"
   ],
   "metadata": {
    "collapsed": false,
    "pycharm": {
     "name": "#%%\n"
    }
   }
  },
  {
   "cell_type": "code",
   "execution_count": 21,
   "outputs": [],
   "source": [
    "os.mkdir(os.path.join(base_dir, 'image data'))"
   ],
   "metadata": {
    "collapsed": false,
    "pycharm": {
     "name": "#%%\n"
    }
   }
  },
  {
   "cell_type": "code",
   "execution_count": 22,
   "outputs": [],
   "source": [
    "os.mkdir(os.path.join(base_dir, 'image data', 'train'))\n",
    "os.mkdir(os.path.join(base_dir, 'image data', 'validation'))\n",
    "os.mkdir(os.path.join(base_dir, 'image data', 'test'))"
   ],
   "metadata": {
    "collapsed": false,
    "pycharm": {
     "name": "#%%\n"
    }
   }
  },
  {
   "cell_type": "code",
   "execution_count": 23,
   "outputs": [],
   "source": [
    "train_path = os.path.join('../data/image data/train')\n",
    "val_path = os.path.join('../data/image data/validation')\n",
    "test_path = os.path.join('../data/image data/test')"
   ],
   "metadata": {
    "collapsed": false,
    "pycharm": {
     "name": "#%%\n"
    }
   }
  },
  {
   "cell_type": "code",
   "execution_count": 40,
   "outputs": [],
   "source": [
    "for tree in fnames['Tree type'].unique().tolist():\n",
    "    # create directory for tree\n",
    "    path_1 = os.path.join(train_path, tree)\n",
    "    path_2 = os.path.join(test_path, tree)\n",
    "    path_3 = os.path.join(val_path, tree)\n",
    "\n",
    "    os.mkdir(path_1)\n",
    "    os.mkdir(path_2)\n",
    "    os.mkdir(path_3)\n",
    "\n",
    "    for disease in fnames[fnames['Tree type'] == tree]['Disease'].tolist():\n",
    "        # create directory to each disease\n",
    "        sub_path_1 = os.path.join(path_1, disease)\n",
    "        sub_path_2 = os.path.join(path_2, disease)\n",
    "        sub_path_3 = os.path.join(path_3, disease)\n",
    "\n",
    "        os.mkdir(sub_path_1)\n",
    "        os.mkdir(sub_path_2)\n",
    "        os.mkdir(sub_path_3)"
   ],
   "metadata": {
    "collapsed": false,
    "pycharm": {
     "name": "#%%\n"
    }
   }
  }
 ],
 "metadata": {
  "kernelspec": {
   "display_name": "Python 3",
   "language": "python",
   "name": "python3"
  },
  "language_info": {
   "codemirror_mode": {
    "name": "ipython",
    "version": 2
   },
   "file_extension": ".py",
   "mimetype": "text/x-python",
   "name": "python",
   "nbconvert_exporter": "python",
   "pygments_lexer": "ipython2",
   "version": "2.7.6"
  }
 },
 "nbformat": 4,
 "nbformat_minor": 0
}