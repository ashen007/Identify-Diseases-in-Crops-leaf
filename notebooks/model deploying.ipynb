{
 "cells": [
  {
   "cell_type": "code",
   "execution_count": 1,
   "metadata": {
    "collapsed": true
   },
   "outputs": [],
   "source": [
    "import tensorflow as tf\n",
    "from tensorflow.keras.models import load_model"
   ]
  },
  {
   "cell_type": "code",
   "execution_count": 2,
   "outputs": [],
   "source": [
    "model = load_model('../models/best models/VGGNet_based_with_all_data_be_top.hdf5')"
   ],
   "metadata": {
    "collapsed": false,
    "pycharm": {
     "name": "#%%\n"
    }
   }
  },
  {
   "cell_type": "code",
   "execution_count": 3,
   "outputs": [
    {
     "data": {
      "text/plain": "[<keras.layers.convolutional.Conv2D at 0x25ee4a4bfa0>,\n <keras.layers.normalization.batch_normalization.BatchNormalization at 0x25ee4a4b820>,\n <keras.layers.convolutional.Conv2D at 0x25ee4a7ac10>,\n <keras.layers.normalization.batch_normalization.BatchNormalization at 0x25ee3a663d0>,\n <keras.layers.pooling.MaxPooling2D at 0x25ee3a5f040>,\n <keras.layers.core.dropout.Dropout at 0x25ee3a65040>,\n <keras.layers.convolutional.Conv2D at 0x25ee3a65070>,\n <keras.layers.normalization.batch_normalization.BatchNormalization at 0x25ee4a4f430>,\n <keras.layers.convolutional.Conv2D at 0x25ee3a65e20>,\n <keras.layers.normalization.batch_normalization.BatchNormalization at 0x25ee4a72d00>,\n <keras.layers.pooling.MaxPooling2D at 0x25ee4a57040>,\n <keras.layers.core.dropout.Dropout at 0x25ee3a65190>,\n <keras.layers.convolutional.Conv2D at 0x25ee4a43760>,\n <keras.layers.normalization.batch_normalization.BatchNormalization at 0x25ee3a52790>,\n <keras.layers.convolutional.Conv2D at 0x25ee4a72f40>,\n <keras.layers.normalization.batch_normalization.BatchNormalization at 0x25ee3a4da90>,\n <keras.layers.convolutional.Conv2D at 0x25e8571b520>,\n <keras.layers.normalization.batch_normalization.BatchNormalization at 0x25e8571daf0>,\n <keras.layers.pooling.MaxPooling2D at 0x25e857304f0>,\n <keras.layers.core.dropout.Dropout at 0x25e857303a0>,\n <keras.layers.convolutional.Conv2D at 0x25e857335b0>,\n <keras.layers.normalization.batch_normalization.BatchNormalization at 0x25e85733ee0>,\n <keras.layers.convolutional.Conv2D at 0x25e8573fe50>,\n <keras.layers.normalization.batch_normalization.BatchNormalization at 0x25e85743730>,\n <keras.layers.convolutional.Conv2D at 0x25e85748c40>,\n <keras.layers.normalization.batch_normalization.BatchNormalization at 0x25e8574e490>,\n <keras.layers.pooling.MaxPooling2D at 0x25e859e4d30>,\n <keras.layers.core.dropout.Dropout at 0x25e859e4bb0>,\n <keras.layers.core.flatten.Flatten at 0x25e859eba00>,\n <keras.layers.core.dense.Dense at 0x25e859f0190>,\n <keras.layers.core.dropout.Dropout at 0x25e859f09a0>,\n <keras.layers.core.dense.Dense at 0x25e8574ef10>,\n <keras.layers.core.dropout.Dropout at 0x25e859fad30>,\n <keras.layers.core.dense.Dense at 0x25e859fae80>]"
     },
     "execution_count": 3,
     "metadata": {},
     "output_type": "execute_result"
    }
   ],
   "source": [
    "model.layers"
   ],
   "metadata": {
    "collapsed": false,
    "pycharm": {
     "name": "#%%\n"
    }
   }
  },
  {
   "cell_type": "code",
   "execution_count": 4,
   "outputs": [
    {
     "name": "stdout",
     "output_type": "stream",
     "text": [
      "Model: \"sequential\"\n",
      "_________________________________________________________________\n",
      " Layer (type)                Output Shape              Param #   \n",
      "=================================================================\n",
      " conv2d (Conv2D)             (None, 56, 56, 64)        1792      \n",
      "                                                                 \n",
      " batch_normalization (BatchN  (None, 56, 56, 64)       256       \n",
      " ormalization)                                                   \n",
      "                                                                 \n",
      " conv2d_1 (Conv2D)           (None, 56, 56, 64)        36928     \n",
      "                                                                 \n",
      " batch_normalization_1 (Batc  (None, 56, 56, 64)       256       \n",
      " hNormalization)                                                 \n",
      "                                                                 \n",
      " max_pooling2d (MaxPooling2D  (None, 28, 28, 64)       0         \n",
      " )                                                               \n",
      "                                                                 \n",
      " dropout (Dropout)           (None, 28, 28, 64)        0         \n",
      "                                                                 \n",
      " conv2d_2 (Conv2D)           (None, 28, 28, 128)       73856     \n",
      "                                                                 \n",
      " batch_normalization_2 (Batc  (None, 28, 28, 128)      512       \n",
      " hNormalization)                                                 \n",
      "                                                                 \n",
      " conv2d_3 (Conv2D)           (None, 28, 28, 128)       147584    \n",
      "                                                                 \n",
      " batch_normalization_3 (Batc  (None, 28, 28, 128)      512       \n",
      " hNormalization)                                                 \n",
      "                                                                 \n",
      " max_pooling2d_1 (MaxPooling  (None, 14, 14, 128)      0         \n",
      " 2D)                                                             \n",
      "                                                                 \n",
      " dropout_1 (Dropout)         (None, 14, 14, 128)       0         \n",
      "                                                                 \n",
      " conv2d_4 (Conv2D)           (None, 14, 14, 256)       295168    \n",
      "                                                                 \n",
      " batch_normalization_4 (Batc  (None, 14, 14, 256)      1024      \n",
      " hNormalization)                                                 \n",
      "                                                                 \n",
      " conv2d_5 (Conv2D)           (None, 14, 14, 256)       590080    \n",
      "                                                                 \n",
      " batch_normalization_5 (Batc  (None, 14, 14, 256)      1024      \n",
      " hNormalization)                                                 \n",
      "                                                                 \n",
      " conv2d_6 (Conv2D)           (None, 14, 14, 256)       590080    \n",
      "                                                                 \n",
      " batch_normalization_6 (Batc  (None, 14, 14, 256)      1024      \n",
      " hNormalization)                                                 \n",
      "                                                                 \n",
      " max_pooling2d_2 (MaxPooling  (None, 7, 7, 256)        0         \n",
      " 2D)                                                             \n",
      "                                                                 \n",
      " dropout_2 (Dropout)         (None, 7, 7, 256)         0         \n",
      "                                                                 \n",
      " conv2d_7 (Conv2D)           (None, 7, 7, 512)         1180160   \n",
      "                                                                 \n",
      " batch_normalization_7 (Batc  (None, 7, 7, 512)        2048      \n",
      " hNormalization)                                                 \n",
      "                                                                 \n",
      " conv2d_8 (Conv2D)           (None, 7, 7, 512)         2359808   \n",
      "                                                                 \n",
      " batch_normalization_8 (Batc  (None, 7, 7, 512)        2048      \n",
      " hNormalization)                                                 \n",
      "                                                                 \n",
      " conv2d_9 (Conv2D)           (None, 7, 7, 512)         2359808   \n",
      "                                                                 \n",
      " batch_normalization_9 (Batc  (None, 7, 7, 512)        2048      \n",
      " hNormalization)                                                 \n",
      "                                                                 \n",
      " max_pooling2d_3 (MaxPooling  (None, 3, 3, 512)        0         \n",
      " 2D)                                                             \n",
      "                                                                 \n",
      " dropout_3 (Dropout)         (None, 3, 3, 512)         0         \n",
      "                                                                 \n",
      " flatten (Flatten)           (None, 4608)              0         \n",
      "                                                                 \n",
      " dense (Dense)               (None, 1024)              4719616   \n",
      "                                                                 \n",
      " dropout_4 (Dropout)         (None, 1024)              0         \n",
      "                                                                 \n",
      " dense_1 (Dense)             (None, 1024)              1049600   \n",
      "                                                                 \n",
      " dropout_5 (Dropout)         (None, 1024)              0         \n",
      "                                                                 \n",
      " dense_2 (Dense)             (None, 42)                43050     \n",
      "                                                                 \n",
      "=================================================================\n",
      "Total params: 13,458,282\n",
      "Trainable params: 13,452,906\n",
      "Non-trainable params: 5,376\n",
      "_________________________________________________________________\n"
     ]
    }
   ],
   "source": [
    "model.summary()"
   ],
   "metadata": {
    "collapsed": false,
    "pycharm": {
     "name": "#%%\n"
    }
   }
  }
 ],
 "metadata": {
  "kernelspec": {
   "display_name": "Python 3",
   "language": "python",
   "name": "python3"
  },
  "language_info": {
   "codemirror_mode": {
    "name": "ipython",
    "version": 2
   },
   "file_extension": ".py",
   "mimetype": "text/x-python",
   "name": "python",
   "nbconvert_exporter": "python",
   "pygments_lexer": "ipython2",
   "version": "2.7.6"
  }
 },
 "nbformat": 4,
 "nbformat_minor": 0
}