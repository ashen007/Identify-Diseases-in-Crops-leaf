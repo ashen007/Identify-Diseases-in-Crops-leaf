{
 "cells": [
  {
   "cell_type": "code",
   "execution_count": 18,
   "metadata": {
    "collapsed": true
   },
   "outputs": [],
   "source": [
    "import os\n",
    "import numpy as np\n",
    "import pandas as pd\n",
    "from bs4 import BeautifulSoup as bs\n",
    "\n",
    "from tensorflow.keras.preprocessing.image import ImageDataGenerator\n",
    "from tensorflow.keras.utils import load_img, img_to_array"
   ]
  },
  {
   "cell_type": "code",
   "execution_count": 4,
   "outputs": [
    {
     "data": {
      "text/plain": "3120"
     },
     "execution_count": 4,
     "metadata": {},
     "output_type": "execute_result"
    }
   ],
   "source": [
    "root_dic = '../data/new data/coffee/Annotations/RoCoLe-voc/export'\n",
    "len(os.listdir(os.path.join(root_dic)))"
   ],
   "metadata": {
    "collapsed": false,
    "pycharm": {
     "name": "#%%\n"
    }
   }
  },
  {
   "cell_type": "code",
   "execution_count": 11,
   "outputs": [],
   "source": [
    "image_labels = []\n",
    "\n",
    "for file in os.listdir(os.path.join(root_dic)):\n",
    "    with open(os.path.join(root_dic, file), 'r') as xml:\n",
    "        content = xml.read()\n",
    "\n",
    "    soup = bs(content, 'lxml')\n",
    "    name = soup.find('name')\n",
    "    image_labels.append([file, str(name).replace('<name>', '').replace('</name>', '')])"
   ],
   "metadata": {
    "collapsed": false,
    "pycharm": {
     "name": "#%%\n"
    }
   }
  },
  {
   "cell_type": "code",
   "execution_count": 13,
   "outputs": [
    {
     "data": {
      "text/plain": "                  file                       label\n0        plantdoc0.xml   Tomato Septoria leaf spot\n1        plantdoc1.xml     Tomato leaf late blight\n2       plantdoc10.xml                  Peach leaf\n3      plantdoc100.xml              Corn rust leaf\n4     plantdoc1000.xml                  Apple leaf\n...                ...                         ...\n2325   plantdoc995.xml                 Tomato leaf\n2326   plantdoc996.xml    Tomato leaf mosaic virus\n2327   plantdoc997.xml    Tomato leaf mosaic virus\n2328   plantdoc998.xml   Tomato Septoria leaf spot\n2329   plantdoc999.xml  Squash Powdery mildew leaf\n\n[2330 rows x 2 columns]",
      "text/html": "<div>\n<style scoped>\n    .dataframe tbody tr th:only-of-type {\n        vertical-align: middle;\n    }\n\n    .dataframe tbody tr th {\n        vertical-align: top;\n    }\n\n    .dataframe thead th {\n        text-align: right;\n    }\n</style>\n<table border=\"1\" class=\"dataframe\">\n  <thead>\n    <tr style=\"text-align: right;\">\n      <th></th>\n      <th>file</th>\n      <th>label</th>\n    </tr>\n  </thead>\n  <tbody>\n    <tr>\n      <th>0</th>\n      <td>plantdoc0.xml</td>\n      <td>Tomato Septoria leaf spot</td>\n    </tr>\n    <tr>\n      <th>1</th>\n      <td>plantdoc1.xml</td>\n      <td>Tomato leaf late blight</td>\n    </tr>\n    <tr>\n      <th>2</th>\n      <td>plantdoc10.xml</td>\n      <td>Peach leaf</td>\n    </tr>\n    <tr>\n      <th>3</th>\n      <td>plantdoc100.xml</td>\n      <td>Corn rust leaf</td>\n    </tr>\n    <tr>\n      <th>4</th>\n      <td>plantdoc1000.xml</td>\n      <td>Apple leaf</td>\n    </tr>\n    <tr>\n      <th>...</th>\n      <td>...</td>\n      <td>...</td>\n    </tr>\n    <tr>\n      <th>2325</th>\n      <td>plantdoc995.xml</td>\n      <td>Tomato leaf</td>\n    </tr>\n    <tr>\n      <th>2326</th>\n      <td>plantdoc996.xml</td>\n      <td>Tomato leaf mosaic virus</td>\n    </tr>\n    <tr>\n      <th>2327</th>\n      <td>plantdoc997.xml</td>\n      <td>Tomato leaf mosaic virus</td>\n    </tr>\n    <tr>\n      <th>2328</th>\n      <td>plantdoc998.xml</td>\n      <td>Tomato Septoria leaf spot</td>\n    </tr>\n    <tr>\n      <th>2329</th>\n      <td>plantdoc999.xml</td>\n      <td>Squash Powdery mildew leaf</td>\n    </tr>\n  </tbody>\n</table>\n<p>2330 rows × 2 columns</p>\n</div>"
     },
     "execution_count": 13,
     "metadata": {},
     "output_type": "execute_result"
    }
   ],
   "source": [
    "train_data = pd.DataFrame(image_labels, columns=['file', 'label'])\n",
    "train_data"
   ],
   "metadata": {
    "collapsed": false,
    "pycharm": {
     "name": "#%%\n"
    }
   }
  },
  {
   "cell_type": "code",
   "execution_count": 15,
   "outputs": [
    {
     "data": {
      "text/plain": "array(['Tomato Septoria leaf spot', 'Tomato leaf late blight',\n       'Peach leaf', 'Corn rust leaf', 'Apple leaf', 'Corn leaf blight',\n       'Potato leaf late blight', 'Bell_pepper leaf spot',\n       'Apple rust leaf', 'Tomato mold leaf',\n       'Squash Powdery mildew leaf', 'Tomato leaf yellow virus',\n       'Potato leaf early blight', 'Cherry leaf',\n       'Tomato leaf mosaic virus', 'Soyabean leaf',\n       'Tomato leaf bacterial spot', 'Blueberry leaf', 'Bell_pepper leaf',\n       'Apple Scab Leaf', 'Tomato Early blight leaf', 'Raspberry leaf',\n       'Corn Gray leaf spot', 'grape leaf', 'Strawberry leaf',\n       'grape leaf black rot', 'Tomato leaf', 'None',\n       'Tomato two spotted spider mites leaf', 'Soybean leaf'],\n      dtype=object)"
     },
     "execution_count": 15,
     "metadata": {},
     "output_type": "execute_result"
    }
   ],
   "source": [
    "train_data.label.unique()"
   ],
   "metadata": {
    "collapsed": false,
    "pycharm": {
     "name": "#%%\n"
    }
   }
  },
  {
   "cell_type": "code",
   "execution_count": 16,
   "outputs": [
    {
     "data": {
      "text/plain": "Corn leaf blight                        178\nTomato Septoria leaf spot               137\nSquash Powdery mildew leaf              124\nRaspberry leaf                          112\nCorn rust leaf                          106\nPotato leaf early blight                105\nBlueberry leaf                          103\nPeach leaf                              102\nTomato leaf bacterial spot              101\nTomato leaf late blight                  99\nPotato leaf late blight                  95\nStrawberry leaf                          88\nTomato mold leaf                         86\nApple Scab Leaf                          83\nApple leaf                               82\nApple rust leaf                          78\nTomato Early blight leaf                 77\nTomato leaf yellow virus                 68\nBell_pepper leaf spot                    62\nCorn Gray leaf spot                      61\ngrape leaf                               57\nSoyabean leaf                            57\ngrape leaf black rot                     56\nTomato leaf                              56\nBell_pepper leaf                         53\nCherry leaf                              47\nTomato leaf mosaic virus                 44\nNone                                     10\nTomato two spotted spider mites leaf      2\nSoybean leaf                              1\nName: label, dtype: int64"
     },
     "execution_count": 16,
     "metadata": {},
     "output_type": "execute_result"
    }
   ],
   "source": [
    "train_data.label.value_counts()"
   ],
   "metadata": {
    "collapsed": false,
    "pycharm": {
     "name": "#%%\n"
    }
   }
  },
  {
   "cell_type": "code",
   "execution_count": 17,
   "outputs": [
    {
     "data": {
      "text/plain": "                  file label\n166   plantdoc1147.xml  None\n234   plantdoc1208.xml  None\n693   plantdoc1621.xml  None\n1248  plantdoc2120.xml  None\n1375  plantdoc2235.xml  None\n1623   plantdoc362.xml  None\n1664     plantdoc4.xml  None\n1789   plantdoc511.xml  None\n1863   plantdoc579.xml  None\n1873   plantdoc588.xml  None",
      "text/html": "<div>\n<style scoped>\n    .dataframe tbody tr th:only-of-type {\n        vertical-align: middle;\n    }\n\n    .dataframe tbody tr th {\n        vertical-align: top;\n    }\n\n    .dataframe thead th {\n        text-align: right;\n    }\n</style>\n<table border=\"1\" class=\"dataframe\">\n  <thead>\n    <tr style=\"text-align: right;\">\n      <th></th>\n      <th>file</th>\n      <th>label</th>\n    </tr>\n  </thead>\n  <tbody>\n    <tr>\n      <th>166</th>\n      <td>plantdoc1147.xml</td>\n      <td>None</td>\n    </tr>\n    <tr>\n      <th>234</th>\n      <td>plantdoc1208.xml</td>\n      <td>None</td>\n    </tr>\n    <tr>\n      <th>693</th>\n      <td>plantdoc1621.xml</td>\n      <td>None</td>\n    </tr>\n    <tr>\n      <th>1248</th>\n      <td>plantdoc2120.xml</td>\n      <td>None</td>\n    </tr>\n    <tr>\n      <th>1375</th>\n      <td>plantdoc2235.xml</td>\n      <td>None</td>\n    </tr>\n    <tr>\n      <th>1623</th>\n      <td>plantdoc362.xml</td>\n      <td>None</td>\n    </tr>\n    <tr>\n      <th>1664</th>\n      <td>plantdoc4.xml</td>\n      <td>None</td>\n    </tr>\n    <tr>\n      <th>1789</th>\n      <td>plantdoc511.xml</td>\n      <td>None</td>\n    </tr>\n    <tr>\n      <th>1863</th>\n      <td>plantdoc579.xml</td>\n      <td>None</td>\n    </tr>\n    <tr>\n      <th>1873</th>\n      <td>plantdoc588.xml</td>\n      <td>None</td>\n    </tr>\n  </tbody>\n</table>\n</div>"
     },
     "execution_count": 17,
     "metadata": {},
     "output_type": "execute_result"
    }
   ],
   "source": [
    "train_data[train_data.label == 'None']"
   ],
   "metadata": {
    "collapsed": false,
    "pycharm": {
     "name": "#%%\n"
    }
   }
  },
  {
   "cell_type": "code",
   "execution_count": 23,
   "outputs": [],
   "source": [
    "train_data.drop(labels=train_data[train_data.label == 'None'].index, axis=0, inplace=True)"
   ],
   "metadata": {
    "collapsed": false,
    "pycharm": {
     "name": "#%%\n"
    }
   }
  },
  {
   "cell_type": "code",
   "execution_count": 24,
   "outputs": [],
   "source": [
    "train_data_labels_other = {'apple apple scab': 0,\n",
    "                           'apple black rot': 1,\n",
    "                           'apple cedar apple rust': 2,\n",
    "                           'apple healthy': 3,\n",
    "                           'blueberry healthy': 4,\n",
    "                           'cherry (including sour) healthy': 5,\n",
    "                           'cherry (including sour) powdery mildew': 6,\n",
    "                           'corn (maize) cercospora leaf spot gray leaf spot': 7,\n",
    "                           'corn (maize) common rust ': 8,\n",
    "                           'corn (maize) healthy': 9,\n",
    "                           'corn (maize) northern leaf blight': 10,\n",
    "                           'grape black rot': 11,\n",
    "                           'grape esca (black measles)': 12,\n",
    "                           'grape healthy': 13,\n",
    "                           'grape leaf blight (isariopsis leaf spot)': 14,\n",
    "                           'orange haunglongbing (citrus greening)': 15,\n",
    "                           'peach bacterial spot': 16,\n",
    "                           'peach healthy': 17,\n",
    "                           'pepper, bell bacterial spot': 18,\n",
    "                           'pepper, bell healthy': 19,\n",
    "                           'potato early blight': 20,\n",
    "                           'potato healthy': 21,\n",
    "                           'potato late blight': 22,\n",
    "                           'raspberry healthy': 23,\n",
    "                           'rice brownspot': 24,\n",
    "                           'rice healthy': 25,\n",
    "                           'rice hispa': 26,\n",
    "                           'rice leafblast': 27,\n",
    "                           'soybean healthy': 28,\n",
    "                           'squash powdery mildew': 29,\n",
    "                           'strawberry healthy': 30,\n",
    "                           'strawberry leaf scorch': 31,\n",
    "                           'tomato bacterial spot': 32,\n",
    "                           'tomato early blight': 33,\n",
    "                           'tomato healthy': 34,\n",
    "                           'tomato late blight': 35,\n",
    "                           'tomato leaf mold': 36,\n",
    "                           'tomato septoria leaf spot': 37,\n",
    "                           'tomato spider mites two-spotted spider mite': 38,\n",
    "                           'tomato target spot': 39,\n",
    "                           'tomato tomato mosaic virus': 40,\n",
    "                           'tomato tomato yellow leaf curl virus': 41}"
   ],
   "metadata": {
    "collapsed": false,
    "pycharm": {
     "name": "#%%\n"
    }
   }
  },
  {
   "cell_type": "code",
   "execution_count": 25,
   "outputs": [
    {
     "data": {
      "text/plain": "array(['Tomato Septoria leaf spot', 'Tomato leaf late blight',\n       'Peach leaf', 'Corn rust leaf', 'Apple leaf', 'Corn leaf blight',\n       'Potato leaf late blight', 'Bell_pepper leaf spot',\n       'Apple rust leaf', 'Tomato mold leaf',\n       'Squash Powdery mildew leaf', 'Tomato leaf yellow virus',\n       'Potato leaf early blight', 'Cherry leaf',\n       'Tomato leaf mosaic virus', 'Soyabean leaf',\n       'Tomato leaf bacterial spot', 'Blueberry leaf', 'Bell_pepper leaf',\n       'Apple Scab Leaf', 'Tomato Early blight leaf', 'Raspberry leaf',\n       'Corn Gray leaf spot', 'grape leaf', 'Strawberry leaf',\n       'grape leaf black rot', 'Tomato leaf',\n       'Tomato two spotted spider mites leaf', 'Soybean leaf'],\n      dtype=object)"
     },
     "execution_count": 25,
     "metadata": {},
     "output_type": "execute_result"
    }
   ],
   "source": [
    "train_data.label.unique()"
   ],
   "metadata": {
    "collapsed": false,
    "pycharm": {
     "name": "#%%\n"
    }
   }
  },
  {
   "cell_type": "code",
   "execution_count": 13,
   "outputs": [],
   "source": [
    "generator = ImageDataGenerator(rotation_range=90,\n",
    "                               width_shift_range=0.3,\n",
    "                               height_shift_range=0.3,\n",
    "                               brightness_range=(0.1, 1.0),\n",
    "                               shear_range=0.3,\n",
    "                               zoom_range=(0.3, 1.0),\n",
    "                               channel_shift_range=150,\n",
    "                               horizontal_flip=True,\n",
    "                               vertical_flip=True,\n",
    "                               fill_mode='wrap')"
   ],
   "metadata": {
    "collapsed": false,
    "pycharm": {
     "name": "#%%\n"
    }
   }
  },
  {
   "cell_type": "code",
   "execution_count": 30,
   "outputs": [],
   "source": [
    "for sub in os.listdir('../data/new data/experiment'):\n",
    "    files_in_sub = []\n",
    "    dst_path = os.path.join('../data/new data/augmented', sub)\n",
    "    os.mkdir(dst_path)\n",
    "\n",
    "    for img_file in os.listdir(os.path.join('../data/new data/experiment', sub)):\n",
    "        img = img_to_array(\n",
    "            load_img(os.path.join('../data/new data/experiment/', sub, img_file), target_size=(256, 256)))\n",
    "        files_in_sub.append(img)\n",
    "\n",
    "    files_in_sub = np.asarray(files_in_sub)\n",
    "\n",
    "    img_gen = generator.flow(files_in_sub,\n",
    "                             save_to_dir=dst_path,\n",
    "                             save_format='jpg',\n",
    "                             save_prefix='aug-')\n",
    "\n",
    "    for i in range(3):\n",
    "        for j in range(len(img_gen)):\n",
    "            img_gen.next()"
   ],
   "metadata": {
    "collapsed": false,
    "pycharm": {
     "name": "#%%\n"
    }
   }
  }
 ],
 "metadata": {
  "kernelspec": {
   "display_name": "Python 3",
   "language": "python",
   "name": "python3"
  },
  "language_info": {
   "codemirror_mode": {
    "name": "ipython",
    "version": 2
   },
   "file_extension": ".py",
   "mimetype": "text/x-python",
   "name": "python",
   "nbconvert_exporter": "python",
   "pygments_lexer": "ipython2",
   "version": "2.7.6"
  }
 },
 "nbformat": 4,
 "nbformat_minor": 0
}