{
 "cells": [
  {
   "cell_type": "code",
   "execution_count": 1,
   "metadata": {
    "collapsed": true
   },
   "outputs": [],
   "source": [
    "import os\n",
    "import numpy as np\n",
    "import pandas as pd\n",
    "from bs4 import BeautifulSoup as bs"
   ]
  },
  {
   "cell_type": "code",
   "execution_count": 2,
   "outputs": [
    {
     "data": {
      "text/plain": "2330"
     },
     "execution_count": 2,
     "metadata": {},
     "output_type": "execute_result"
    }
   ],
   "source": [
    "root_dic = '../data/new data/plant doc/annotations'\n",
    "len(os.listdir(os.path.join(root_dic)))"
   ],
   "metadata": {
    "collapsed": false,
    "pycharm": {
     "name": "#%%\n"
    }
   }
  },
  {
   "cell_type": "code",
   "execution_count": 11,
   "outputs": [],
   "source": [
    "image_labels = []\n",
    "\n",
    "for file in os.listdir(os.path.join(root_dic)):\n",
    "    with open(os.path.join(root_dic, file), 'r') as xml:\n",
    "        content = xml.read()\n",
    "\n",
    "    soup = bs(content, 'lxml')\n",
    "    name = soup.find('name')\n",
    "    image_labels.append([file, str(name).replace('<name>', '').replace('</name>', '')])"
   ],
   "metadata": {
    "collapsed": false,
    "pycharm": {
     "name": "#%%\n"
    }
   }
  },
  {
   "cell_type": "code",
   "execution_count": 13,
   "outputs": [
    {
     "data": {
      "text/plain": "                  file                       label\n0        plantdoc0.xml   Tomato Septoria leaf spot\n1        plantdoc1.xml     Tomato leaf late blight\n2       plantdoc10.xml                  Peach leaf\n3      plantdoc100.xml              Corn rust leaf\n4     plantdoc1000.xml                  Apple leaf\n...                ...                         ...\n2325   plantdoc995.xml                 Tomato leaf\n2326   plantdoc996.xml    Tomato leaf mosaic virus\n2327   plantdoc997.xml    Tomato leaf mosaic virus\n2328   plantdoc998.xml   Tomato Septoria leaf spot\n2329   plantdoc999.xml  Squash Powdery mildew leaf\n\n[2330 rows x 2 columns]",
      "text/html": "<div>\n<style scoped>\n    .dataframe tbody tr th:only-of-type {\n        vertical-align: middle;\n    }\n\n    .dataframe tbody tr th {\n        vertical-align: top;\n    }\n\n    .dataframe thead th {\n        text-align: right;\n    }\n</style>\n<table border=\"1\" class=\"dataframe\">\n  <thead>\n    <tr style=\"text-align: right;\">\n      <th></th>\n      <th>file</th>\n      <th>label</th>\n    </tr>\n  </thead>\n  <tbody>\n    <tr>\n      <th>0</th>\n      <td>plantdoc0.xml</td>\n      <td>Tomato Septoria leaf spot</td>\n    </tr>\n    <tr>\n      <th>1</th>\n      <td>plantdoc1.xml</td>\n      <td>Tomato leaf late blight</td>\n    </tr>\n    <tr>\n      <th>2</th>\n      <td>plantdoc10.xml</td>\n      <td>Peach leaf</td>\n    </tr>\n    <tr>\n      <th>3</th>\n      <td>plantdoc100.xml</td>\n      <td>Corn rust leaf</td>\n    </tr>\n    <tr>\n      <th>4</th>\n      <td>plantdoc1000.xml</td>\n      <td>Apple leaf</td>\n    </tr>\n    <tr>\n      <th>...</th>\n      <td>...</td>\n      <td>...</td>\n    </tr>\n    <tr>\n      <th>2325</th>\n      <td>plantdoc995.xml</td>\n      <td>Tomato leaf</td>\n    </tr>\n    <tr>\n      <th>2326</th>\n      <td>plantdoc996.xml</td>\n      <td>Tomato leaf mosaic virus</td>\n    </tr>\n    <tr>\n      <th>2327</th>\n      <td>plantdoc997.xml</td>\n      <td>Tomato leaf mosaic virus</td>\n    </tr>\n    <tr>\n      <th>2328</th>\n      <td>plantdoc998.xml</td>\n      <td>Tomato Septoria leaf spot</td>\n    </tr>\n    <tr>\n      <th>2329</th>\n      <td>plantdoc999.xml</td>\n      <td>Squash Powdery mildew leaf</td>\n    </tr>\n  </tbody>\n</table>\n<p>2330 rows × 2 columns</p>\n</div>"
     },
     "execution_count": 13,
     "metadata": {},
     "output_type": "execute_result"
    }
   ],
   "source": [
    "train_data = pd.DataFrame(image_labels, columns=['file','label'])\n",
    "train_data"
   ],
   "metadata": {
    "collapsed": false,
    "pycharm": {
     "name": "#%%\n"
    }
   }
  },
  {
   "cell_type": "code",
   "execution_count": 15,
   "outputs": [
    {
     "data": {
      "text/plain": "array(['Tomato Septoria leaf spot', 'Tomato leaf late blight',\n       'Peach leaf', 'Corn rust leaf', 'Apple leaf', 'Corn leaf blight',\n       'Potato leaf late blight', 'Bell_pepper leaf spot',\n       'Apple rust leaf', 'Tomato mold leaf',\n       'Squash Powdery mildew leaf', 'Tomato leaf yellow virus',\n       'Potato leaf early blight', 'Cherry leaf',\n       'Tomato leaf mosaic virus', 'Soyabean leaf',\n       'Tomato leaf bacterial spot', 'Blueberry leaf', 'Bell_pepper leaf',\n       'Apple Scab Leaf', 'Tomato Early blight leaf', 'Raspberry leaf',\n       'Corn Gray leaf spot', 'grape leaf', 'Strawberry leaf',\n       'grape leaf black rot', 'Tomato leaf', 'None',\n       'Tomato two spotted spider mites leaf', 'Soybean leaf'],\n      dtype=object)"
     },
     "execution_count": 15,
     "metadata": {},
     "output_type": "execute_result"
    }
   ],
   "source": [
    "train_data.label.unique()"
   ],
   "metadata": {
    "collapsed": false,
    "pycharm": {
     "name": "#%%\n"
    }
   }
  },
  {
   "cell_type": "code",
   "execution_count": 16,
   "outputs": [
    {
     "data": {
      "text/plain": "Corn leaf blight                        178\nTomato Septoria leaf spot               137\nSquash Powdery mildew leaf              124\nRaspberry leaf                          112\nCorn rust leaf                          106\nPotato leaf early blight                105\nBlueberry leaf                          103\nPeach leaf                              102\nTomato leaf bacterial spot              101\nTomato leaf late blight                  99\nPotato leaf late blight                  95\nStrawberry leaf                          88\nTomato mold leaf                         86\nApple Scab Leaf                          83\nApple leaf                               82\nApple rust leaf                          78\nTomato Early blight leaf                 77\nTomato leaf yellow virus                 68\nBell_pepper leaf spot                    62\nCorn Gray leaf spot                      61\ngrape leaf                               57\nSoyabean leaf                            57\ngrape leaf black rot                     56\nTomato leaf                              56\nBell_pepper leaf                         53\nCherry leaf                              47\nTomato leaf mosaic virus                 44\nNone                                     10\nTomato two spotted spider mites leaf      2\nSoybean leaf                              1\nName: label, dtype: int64"
     },
     "execution_count": 16,
     "metadata": {},
     "output_type": "execute_result"
    }
   ],
   "source": [
    "train_data.label.value_counts()"
   ],
   "metadata": {
    "collapsed": false,
    "pycharm": {
     "name": "#%%\n"
    }
   }
  },
  {
   "cell_type": "code",
   "execution_count": 17,
   "outputs": [
    {
     "data": {
      "text/plain": "                  file label\n166   plantdoc1147.xml  None\n234   plantdoc1208.xml  None\n693   plantdoc1621.xml  None\n1248  plantdoc2120.xml  None\n1375  plantdoc2235.xml  None\n1623   plantdoc362.xml  None\n1664     plantdoc4.xml  None\n1789   plantdoc511.xml  None\n1863   plantdoc579.xml  None\n1873   plantdoc588.xml  None",
      "text/html": "<div>\n<style scoped>\n    .dataframe tbody tr th:only-of-type {\n        vertical-align: middle;\n    }\n\n    .dataframe tbody tr th {\n        vertical-align: top;\n    }\n\n    .dataframe thead th {\n        text-align: right;\n    }\n</style>\n<table border=\"1\" class=\"dataframe\">\n  <thead>\n    <tr style=\"text-align: right;\">\n      <th></th>\n      <th>file</th>\n      <th>label</th>\n    </tr>\n  </thead>\n  <tbody>\n    <tr>\n      <th>166</th>\n      <td>plantdoc1147.xml</td>\n      <td>None</td>\n    </tr>\n    <tr>\n      <th>234</th>\n      <td>plantdoc1208.xml</td>\n      <td>None</td>\n    </tr>\n    <tr>\n      <th>693</th>\n      <td>plantdoc1621.xml</td>\n      <td>None</td>\n    </tr>\n    <tr>\n      <th>1248</th>\n      <td>plantdoc2120.xml</td>\n      <td>None</td>\n    </tr>\n    <tr>\n      <th>1375</th>\n      <td>plantdoc2235.xml</td>\n      <td>None</td>\n    </tr>\n    <tr>\n      <th>1623</th>\n      <td>plantdoc362.xml</td>\n      <td>None</td>\n    </tr>\n    <tr>\n      <th>1664</th>\n      <td>plantdoc4.xml</td>\n      <td>None</td>\n    </tr>\n    <tr>\n      <th>1789</th>\n      <td>plantdoc511.xml</td>\n      <td>None</td>\n    </tr>\n    <tr>\n      <th>1863</th>\n      <td>plantdoc579.xml</td>\n      <td>None</td>\n    </tr>\n    <tr>\n      <th>1873</th>\n      <td>plantdoc588.xml</td>\n      <td>None</td>\n    </tr>\n  </tbody>\n</table>\n</div>"
     },
     "execution_count": 17,
     "metadata": {},
     "output_type": "execute_result"
    }
   ],
   "source": [
    "train_data[train_data.label=='None']"
   ],
   "metadata": {
    "collapsed": false,
    "pycharm": {
     "name": "#%%\n"
    }
   }
  },
  {
   "cell_type": "code",
   "execution_count": 23,
   "outputs": [],
   "source": [
    "train_data.drop(labels=train_data[train_data.label=='None'].index, axis=0, inplace=True)"
   ],
   "metadata": {
    "collapsed": false,
    "pycharm": {
     "name": "#%%\n"
    }
   }
  },
  {
   "cell_type": "code",
   "execution_count": null,
   "outputs": [],
   "source": [],
   "metadata": {
    "collapsed": false,
    "pycharm": {
     "name": "#%%\n"
    }
   }
  }
 ],
 "metadata": {
  "kernelspec": {
   "display_name": "Python 3",
   "language": "python",
   "name": "python3"
  },
  "language_info": {
   "codemirror_mode": {
    "name": "ipython",
    "version": 2
   },
   "file_extension": ".py",
   "mimetype": "text/x-python",
   "name": "python",
   "nbconvert_exporter": "python",
   "pygments_lexer": "ipython2",
   "version": "2.7.6"
  }
 },
 "nbformat": 4,
 "nbformat_minor": 0
}