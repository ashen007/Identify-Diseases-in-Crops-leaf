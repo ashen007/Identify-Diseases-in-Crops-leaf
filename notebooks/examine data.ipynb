{
 "cells": [
  {
   "cell_type": "markdown",
   "source": [
    "# Examine data"
   ],
   "metadata": {
    "collapsed": false
   }
  },
  {
   "cell_type": "code",
   "execution_count": 12,
   "metadata": {
    "collapsed": true
   },
   "outputs": [],
   "source": [
    "import os\n",
    "import cv2 as cv\n",
    "import pandas as pd\n",
    "import numpy as np\n",
    "from matplotlib import pyplot as plt"
   ]
  },
  {
   "cell_type": "code",
   "execution_count": 10,
   "outputs": [
    {
     "data": {
      "text/plain": "['Apple',\n 'Cassava',\n 'Cherry (including sour)',\n 'Corn (maize)',\n 'Grape',\n 'Orange',\n 'Peach',\n 'Pepper, bell',\n 'Potato',\n 'Rice',\n 'Squash',\n 'Strawberry',\n 'Tomato']"
     },
     "execution_count": 10,
     "metadata": {},
     "output_type": "execute_result"
    }
   ],
   "source": [
    "tree_types = os.listdir('../data/image data/train')\n",
    "tree_types"
   ],
   "metadata": {
    "collapsed": false,
    "pycharm": {
     "name": "#%%\n"
    }
   }
  },
  {
   "cell_type": "code",
   "execution_count": 11,
   "outputs": [
    {
     "data": {
      "text/plain": "                       tree                               disease  \\\n0                     Apple                            Apple scab   \n1                     Apple                             Black rot   \n2                     Apple                      Cedar apple rust   \n3                     Apple                               healthy   \n4                   Cassava                Bacterial Blight (CBB)   \n5                   Cassava           Brown Streak Disease (CBSD)   \n6                   Cassava                    Green Mottle (CGM)   \n7                   Cassava                               Healthy   \n8                   Cassava                  Mosaic Disease (CMD)   \n9   Cherry (including sour)                               healthy   \n10  Cherry (including sour)                        Powdery mildew   \n11             Corn (maize)   Cercospora leaf spot Gray leaf spot   \n12             Corn (maize)                           Common rust   \n13             Corn (maize)                               healthy   \n14             Corn (maize)                  Northern Leaf Blight   \n15                    Grape                             Black rot   \n16                    Grape                  Esca (Black Measles)   \n17                    Grape                               healthy   \n18                    Grape    Leaf blight (Isariopsis Leaf Spot)   \n19                   Orange       Haunglongbing (Citrus greening)   \n20                    Peach                        Bacterial spot   \n21                    Peach                               healthy   \n22             Pepper, bell                        Bacterial spot   \n23             Pepper, bell                               healthy   \n24                   Potato                          Early blight   \n25                   Potato                               healthy   \n26                   Potato                           Late blight   \n27                     Rice                             BrownSpot   \n28                     Rice                               Healthy   \n29                     Rice                                 Hispa   \n30                     Rice                             LeafBlast   \n31                   Squash                        Powdery mildew   \n32               Strawberry                               healthy   \n33               Strawberry                           Leaf scorch   \n34                   Tomato                        Bacterial spot   \n35                   Tomato                          Early blight   \n36                   Tomato                               healthy   \n37                   Tomato                           Late blight   \n38                   Tomato                             Leaf Mold   \n39                   Tomato                    Septoria leaf spot   \n40                   Tomato  Spider mites Two-spotted spider mite   \n41                   Tomato                           Target Spot   \n42                   Tomato                   Tomato mosaic virus   \n43                   Tomato         Tomato Yellow Leaf Curl Virus   \n\n                                                 path  \n0   ../data/image data/train\\Apple\\Apple scab\\0007...  \n1   ../data/image data/train\\Apple\\Black rot\\0090d...  \n2   ../data/image data/train\\Apple\\Cedar apple rus...  \n3   ../data/image data/train\\Apple\\healthy\\0055dd2...  \n4   ../data/image data/train\\Cassava\\Bacterial Bli...  \n5   ../data/image data/train\\Cassava\\Brown Streak ...  \n6   ../data/image data/train\\Cassava\\Green Mottle ...  \n7   ../data/image data/train\\Cassava\\Healthy\\10017...  \n8   ../data/image data/train\\Cassava\\Mosaic Diseas...  \n9   ../data/image data/train\\Cherry (including sou...  \n10  ../data/image data/train\\Cherry (including sou...  \n11  ../data/image data/train\\Corn (maize)\\Cercospo...  \n12  ../data/image data/train\\Corn (maize)\\Common r...  \n13  ../data/image data/train\\Corn (maize)\\healthy\\...  \n14  ../data/image data/train\\Corn (maize)\\Northern...  \n15  ../data/image data/train\\Grape\\Black rot\\00090...  \n16  ../data/image data/train\\Grape\\Esca (Black Mea...  \n17  ../data/image data/train\\Grape\\healthy\\00e0091...  \n18  ../data/image data/train\\Grape\\Leaf blight (Is...  \n19  ../data/image data/train\\Orange\\Haunglongbing ...  \n20  ../data/image data/train\\Peach\\Bacterial spot\\...  \n21  ../data/image data/train\\Peach\\healthy\\017d3d8...  \n22  ../data/image data/train\\Pepper, bell\\Bacteria...  \n23  ../data/image data/train\\Pepper, bell\\healthy\\...  \n24  ../data/image data/train\\Potato\\Early blight\\0...  \n25  ../data/image data/train\\Potato\\healthy\\00fc2e...  \n26  ../data/image data/train\\Potato\\Late blight\\00...  \n27  ../data/image data/train\\Rice\\BrownSpot\\shape ...  \n28  ../data/image data/train\\Rice\\Healthy\\shape 1 ...  \n29   ../data/image data/train\\Rice\\Hispa\\shape 1 .jpg  \n30  ../data/image data/train\\Rice\\LeafBlast\\shape ...  \n31  ../data/image data/train\\Squash\\Powdery mildew...  \n32  ../data/image data/train\\Strawberry\\healthy\\00...  \n33  ../data/image data/train\\Strawberry\\Leaf scorc...  \n34  ../data/image data/train\\Tomato\\Bacterial spot...  \n35  ../data/image data/train\\Tomato\\Early blight\\0...  \n36  ../data/image data/train\\Tomato\\healthy\\000146...  \n37  ../data/image data/train\\Tomato\\Late blight\\00...  \n38  ../data/image data/train\\Tomato\\Leaf Mold\\0069...  \n39  ../data/image data/train\\Tomato\\Septoria leaf ...  \n40  ../data/image data/train\\Tomato\\Spider mites T...  \n41  ../data/image data/train\\Tomato\\Target Spot\\00...  \n42  ../data/image data/train\\Tomato\\Tomato mosaic ...  \n43  ../data/image data/train\\Tomato\\Tomato Yellow ...  ",
      "text/html": "<div>\n<style scoped>\n    .dataframe tbody tr th:only-of-type {\n        vertical-align: middle;\n    }\n\n    .dataframe tbody tr th {\n        vertical-align: top;\n    }\n\n    .dataframe thead th {\n        text-align: right;\n    }\n</style>\n<table border=\"1\" class=\"dataframe\">\n  <thead>\n    <tr style=\"text-align: right;\">\n      <th></th>\n      <th>tree</th>\n      <th>disease</th>\n      <th>path</th>\n    </tr>\n  </thead>\n  <tbody>\n    <tr>\n      <th>0</th>\n      <td>Apple</td>\n      <td>Apple scab</td>\n      <td>../data/image data/train\\Apple\\Apple scab\\0007...</td>\n    </tr>\n    <tr>\n      <th>1</th>\n      <td>Apple</td>\n      <td>Black rot</td>\n      <td>../data/image data/train\\Apple\\Black rot\\0090d...</td>\n    </tr>\n    <tr>\n      <th>2</th>\n      <td>Apple</td>\n      <td>Cedar apple rust</td>\n      <td>../data/image data/train\\Apple\\Cedar apple rus...</td>\n    </tr>\n    <tr>\n      <th>3</th>\n      <td>Apple</td>\n      <td>healthy</td>\n      <td>../data/image data/train\\Apple\\healthy\\0055dd2...</td>\n    </tr>\n    <tr>\n      <th>4</th>\n      <td>Cassava</td>\n      <td>Bacterial Blight (CBB)</td>\n      <td>../data/image data/train\\Cassava\\Bacterial Bli...</td>\n    </tr>\n    <tr>\n      <th>5</th>\n      <td>Cassava</td>\n      <td>Brown Streak Disease (CBSD)</td>\n      <td>../data/image data/train\\Cassava\\Brown Streak ...</td>\n    </tr>\n    <tr>\n      <th>6</th>\n      <td>Cassava</td>\n      <td>Green Mottle (CGM)</td>\n      <td>../data/image data/train\\Cassava\\Green Mottle ...</td>\n    </tr>\n    <tr>\n      <th>7</th>\n      <td>Cassava</td>\n      <td>Healthy</td>\n      <td>../data/image data/train\\Cassava\\Healthy\\10017...</td>\n    </tr>\n    <tr>\n      <th>8</th>\n      <td>Cassava</td>\n      <td>Mosaic Disease (CMD)</td>\n      <td>../data/image data/train\\Cassava\\Mosaic Diseas...</td>\n    </tr>\n    <tr>\n      <th>9</th>\n      <td>Cherry (including sour)</td>\n      <td>healthy</td>\n      <td>../data/image data/train\\Cherry (including sou...</td>\n    </tr>\n    <tr>\n      <th>10</th>\n      <td>Cherry (including sour)</td>\n      <td>Powdery mildew</td>\n      <td>../data/image data/train\\Cherry (including sou...</td>\n    </tr>\n    <tr>\n      <th>11</th>\n      <td>Corn (maize)</td>\n      <td>Cercospora leaf spot Gray leaf spot</td>\n      <td>../data/image data/train\\Corn (maize)\\Cercospo...</td>\n    </tr>\n    <tr>\n      <th>12</th>\n      <td>Corn (maize)</td>\n      <td>Common rust</td>\n      <td>../data/image data/train\\Corn (maize)\\Common r...</td>\n    </tr>\n    <tr>\n      <th>13</th>\n      <td>Corn (maize)</td>\n      <td>healthy</td>\n      <td>../data/image data/train\\Corn (maize)\\healthy\\...</td>\n    </tr>\n    <tr>\n      <th>14</th>\n      <td>Corn (maize)</td>\n      <td>Northern Leaf Blight</td>\n      <td>../data/image data/train\\Corn (maize)\\Northern...</td>\n    </tr>\n    <tr>\n      <th>15</th>\n      <td>Grape</td>\n      <td>Black rot</td>\n      <td>../data/image data/train\\Grape\\Black rot\\00090...</td>\n    </tr>\n    <tr>\n      <th>16</th>\n      <td>Grape</td>\n      <td>Esca (Black Measles)</td>\n      <td>../data/image data/train\\Grape\\Esca (Black Mea...</td>\n    </tr>\n    <tr>\n      <th>17</th>\n      <td>Grape</td>\n      <td>healthy</td>\n      <td>../data/image data/train\\Grape\\healthy\\00e0091...</td>\n    </tr>\n    <tr>\n      <th>18</th>\n      <td>Grape</td>\n      <td>Leaf blight (Isariopsis Leaf Spot)</td>\n      <td>../data/image data/train\\Grape\\Leaf blight (Is...</td>\n    </tr>\n    <tr>\n      <th>19</th>\n      <td>Orange</td>\n      <td>Haunglongbing (Citrus greening)</td>\n      <td>../data/image data/train\\Orange\\Haunglongbing ...</td>\n    </tr>\n    <tr>\n      <th>20</th>\n      <td>Peach</td>\n      <td>Bacterial spot</td>\n      <td>../data/image data/train\\Peach\\Bacterial spot\\...</td>\n    </tr>\n    <tr>\n      <th>21</th>\n      <td>Peach</td>\n      <td>healthy</td>\n      <td>../data/image data/train\\Peach\\healthy\\017d3d8...</td>\n    </tr>\n    <tr>\n      <th>22</th>\n      <td>Pepper, bell</td>\n      <td>Bacterial spot</td>\n      <td>../data/image data/train\\Pepper, bell\\Bacteria...</td>\n    </tr>\n    <tr>\n      <th>23</th>\n      <td>Pepper, bell</td>\n      <td>healthy</td>\n      <td>../data/image data/train\\Pepper, bell\\healthy\\...</td>\n    </tr>\n    <tr>\n      <th>24</th>\n      <td>Potato</td>\n      <td>Early blight</td>\n      <td>../data/image data/train\\Potato\\Early blight\\0...</td>\n    </tr>\n    <tr>\n      <th>25</th>\n      <td>Potato</td>\n      <td>healthy</td>\n      <td>../data/image data/train\\Potato\\healthy\\00fc2e...</td>\n    </tr>\n    <tr>\n      <th>26</th>\n      <td>Potato</td>\n      <td>Late blight</td>\n      <td>../data/image data/train\\Potato\\Late blight\\00...</td>\n    </tr>\n    <tr>\n      <th>27</th>\n      <td>Rice</td>\n      <td>BrownSpot</td>\n      <td>../data/image data/train\\Rice\\BrownSpot\\shape ...</td>\n    </tr>\n    <tr>\n      <th>28</th>\n      <td>Rice</td>\n      <td>Healthy</td>\n      <td>../data/image data/train\\Rice\\Healthy\\shape 1 ...</td>\n    </tr>\n    <tr>\n      <th>29</th>\n      <td>Rice</td>\n      <td>Hispa</td>\n      <td>../data/image data/train\\Rice\\Hispa\\shape 1 .jpg</td>\n    </tr>\n    <tr>\n      <th>30</th>\n      <td>Rice</td>\n      <td>LeafBlast</td>\n      <td>../data/image data/train\\Rice\\LeafBlast\\shape ...</td>\n    </tr>\n    <tr>\n      <th>31</th>\n      <td>Squash</td>\n      <td>Powdery mildew</td>\n      <td>../data/image data/train\\Squash\\Powdery mildew...</td>\n    </tr>\n    <tr>\n      <th>32</th>\n      <td>Strawberry</td>\n      <td>healthy</td>\n      <td>../data/image data/train\\Strawberry\\healthy\\00...</td>\n    </tr>\n    <tr>\n      <th>33</th>\n      <td>Strawberry</td>\n      <td>Leaf scorch</td>\n      <td>../data/image data/train\\Strawberry\\Leaf scorc...</td>\n    </tr>\n    <tr>\n      <th>34</th>\n      <td>Tomato</td>\n      <td>Bacterial spot</td>\n      <td>../data/image data/train\\Tomato\\Bacterial spot...</td>\n    </tr>\n    <tr>\n      <th>35</th>\n      <td>Tomato</td>\n      <td>Early blight</td>\n      <td>../data/image data/train\\Tomato\\Early blight\\0...</td>\n    </tr>\n    <tr>\n      <th>36</th>\n      <td>Tomato</td>\n      <td>healthy</td>\n      <td>../data/image data/train\\Tomato\\healthy\\000146...</td>\n    </tr>\n    <tr>\n      <th>37</th>\n      <td>Tomato</td>\n      <td>Late blight</td>\n      <td>../data/image data/train\\Tomato\\Late blight\\00...</td>\n    </tr>\n    <tr>\n      <th>38</th>\n      <td>Tomato</td>\n      <td>Leaf Mold</td>\n      <td>../data/image data/train\\Tomato\\Leaf Mold\\0069...</td>\n    </tr>\n    <tr>\n      <th>39</th>\n      <td>Tomato</td>\n      <td>Septoria leaf spot</td>\n      <td>../data/image data/train\\Tomato\\Septoria leaf ...</td>\n    </tr>\n    <tr>\n      <th>40</th>\n      <td>Tomato</td>\n      <td>Spider mites Two-spotted spider mite</td>\n      <td>../data/image data/train\\Tomato\\Spider mites T...</td>\n    </tr>\n    <tr>\n      <th>41</th>\n      <td>Tomato</td>\n      <td>Target Spot</td>\n      <td>../data/image data/train\\Tomato\\Target Spot\\00...</td>\n    </tr>\n    <tr>\n      <th>42</th>\n      <td>Tomato</td>\n      <td>Tomato mosaic virus</td>\n      <td>../data/image data/train\\Tomato\\Tomato mosaic ...</td>\n    </tr>\n    <tr>\n      <th>43</th>\n      <td>Tomato</td>\n      <td>Tomato Yellow Leaf Curl Virus</td>\n      <td>../data/image data/train\\Tomato\\Tomato Yellow ...</td>\n    </tr>\n  </tbody>\n</table>\n</div>"
     },
     "execution_count": 11,
     "metadata": {},
     "output_type": "execute_result"
    }
   ],
   "source": [
    "image_paths = []\n",
    "\n",
    "for tree in tree_types:\n",
    "    tree_path = os.path.join('../data/image data/train', tree)\n",
    "    tree_disease_types = os.listdir(tree_path)\n",
    "\n",
    "    for disease in tree_disease_types:\n",
    "        img_name = os.listdir(os.path.join(tree_path, disease))[0]\n",
    "        image_paths.append([tree, disease, os.path.join(tree_path, disease, img_name)])\n",
    "\n",
    "image_paths = pd.DataFrame(image_paths,columns=['tree','disease','path'])\n",
    "image_paths"
   ],
   "metadata": {
    "collapsed": false,
    "pycharm": {
     "name": "#%%\n"
    }
   }
  },
  {
   "cell_type": "code",
   "execution_count": null,
   "outputs": [],
   "source": [],
   "metadata": {
    "collapsed": false,
    "pycharm": {
     "name": "#%%\n"
    }
   }
  }
 ],
 "metadata": {
  "kernelspec": {
   "display_name": "Python 3",
   "language": "python",
   "name": "python3"
  },
  "language_info": {
   "codemirror_mode": {
    "name": "ipython",
    "version": 2
   },
   "file_extension": ".py",
   "mimetype": "text/x-python",
   "name": "python",
   "nbconvert_exporter": "python",
   "pygments_lexer": "ipython2",
   "version": "2.7.6"
  }
 },
 "nbformat": 4,
 "nbformat_minor": 0
}