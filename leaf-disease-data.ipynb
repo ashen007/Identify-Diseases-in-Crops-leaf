{
 "metadata": {
  "kernelspec": {
   "language": "python",
   "display_name": "Python 3",
   "name": "python3"
  },
  "language_info": {
   "pygments_lexer": "ipython3",
   "nbconvert_exporter": "python",
   "version": "3.6.4",
   "file_extension": ".py",
   "codemirror_mode": {
    "name": "ipython",
    "version": 3
   },
   "name": "python",
   "mimetype": "text/x-python"
  }
 },
 "nbformat_minor": 4,
 "nbformat": 4,
 "cells": [
  {
   "cell_type": "code",
   "source": [
    "import os\n",
    "import shutil\n",
    "import pandas as pd\n",
    "import cv2 as cv\n",
    "\n",
    "import tensorflow as tf\n",
    "from tensorflow.keras.utils import plot_model, save_img\n",
    "from tensorflow.keras.preprocessing.image import load_img, img_to_array, array_to_img"
   ],
   "metadata": {
    "_uuid": "8f2839f25d086af736a60e9eeb907d3b93b6e0e5",
    "_cell_guid": "b1076dfc-b9ad-4769-8c92-a6c4dae69d19",
    "execution": {
     "iopub.status.busy": "2022-01-08T05:27:29.262184Z",
     "iopub.execute_input": "2022-01-08T05:27:29.262477Z",
     "iopub.status.idle": "2022-01-08T05:27:29.272909Z",
     "shell.execute_reply.started": "2022-01-08T05:27:29.262446Z",
     "shell.execute_reply": "2022-01-08T05:27:29.272082Z"
    },
    "trusted": true
   },
   "execution_count": null,
   "outputs": []
  },
  {
   "cell_type": "code",
   "source": [
    "base_dir = '../input'"
   ],
   "metadata": {
    "execution": {
     "iopub.status.busy": "2022-01-08T05:04:48.632926Z",
     "iopub.execute_input": "2022-01-08T05:04:48.63317Z",
     "iopub.status.idle": "2022-01-08T05:04:48.640016Z",
     "shell.execute_reply.started": "2022-01-08T05:04:48.633133Z",
     "shell.execute_reply": "2022-01-08T05:04:48.639244Z"
    },
    "trusted": true
   },
   "execution_count": null,
   "outputs": []
  },
  {
   "cell_type": "code",
   "source": [
    "cassava_dir = os.path.join(base_dir, 'cassava-leaf-disease-classification')\n",
    "plant_village_dir = os.path.join(base_dir, 'plantvillage-dataset')\n",
    "rice_dir = os.path.join(base_dir, 'rice-leaf-images/rice_images')"
   ],
   "metadata": {
    "execution": {
     "iopub.status.busy": "2022-01-08T05:04:48.643023Z",
     "iopub.execute_input": "2022-01-08T05:04:48.643787Z",
     "iopub.status.idle": "2022-01-08T05:04:48.654051Z",
     "shell.execute_reply.started": "2022-01-08T05:04:48.643748Z",
     "shell.execute_reply": "2022-01-08T05:04:48.653303Z"
    },
    "trusted": true
   },
   "execution_count": null,
   "outputs": []
  },
  {
   "cell_type": "code",
   "source": [
    "fnames = []\n",
    "\n",
    "for dir in os.listdir(os.path.join(plant_village_dir, 'color')):\n",
    "    columns = dir.split('___')\n",
    "    columns.append(dir)\n",
    "    fnames.append(columns)"
   ],
   "metadata": {
    "execution": {
     "iopub.status.busy": "2022-01-08T05:04:48.658634Z",
     "iopub.execute_input": "2022-01-08T05:04:48.659011Z",
     "iopub.status.idle": "2022-01-08T05:04:48.671528Z",
     "shell.execute_reply.started": "2022-01-08T05:04:48.658979Z",
     "shell.execute_reply": "2022-01-08T05:04:48.670518Z"
    },
    "trusted": true
   },
   "execution_count": null,
   "outputs": []
  },
  {
   "cell_type": "code",
   "source": [
    "fnames = pd.DataFrame(fnames, columns=['Tree type', 'Disease', 'Folder'])\n",
    "fnames"
   ],
   "metadata": {
    "execution": {
     "iopub.status.busy": "2022-01-08T05:04:48.67258Z",
     "iopub.execute_input": "2022-01-08T05:04:48.672774Z",
     "iopub.status.idle": "2022-01-08T05:04:48.717856Z",
     "shell.execute_reply.started": "2022-01-08T05:04:48.672747Z",
     "shell.execute_reply": "2022-01-08T05:04:48.716679Z"
    },
    "trusted": true
   },
   "execution_count": null,
   "outputs": []
  },
  {
   "cell_type": "code",
   "source": [
    "fnames.drop([4, 17, 33], axis=0, inplace=True)"
   ],
   "metadata": {
    "execution": {
     "iopub.status.busy": "2022-01-08T05:04:48.719591Z",
     "iopub.execute_input": "2022-01-08T05:04:48.720051Z",
     "iopub.status.idle": "2022-01-08T05:04:48.735495Z",
     "shell.execute_reply.started": "2022-01-08T05:04:48.720014Z",
     "shell.execute_reply": "2022-01-08T05:04:48.734183Z"
    },
    "trusted": true
   },
   "execution_count": null,
   "outputs": []
  },
  {
   "cell_type": "code",
   "source": [
    "fnames['Disease'] = fnames['Disease'].str.replace('_', ' ')\n",
    "fnames['Disease'] = fnames['Disease'].str.lstrip()\n",
    "fnames['Tree type'] = fnames['Tree type'].str.replace('_', ' ')\n",
    "fnames['Tree type'] = fnames['Tree type'].str.lstrip()\n",
    "\n",
    "fnames['Disease'] = fnames['Disease'].str.lower()\n",
    "fnames['Tree type'] = fnames['Tree type'].str.lower()\n",
    "\n",
    "fnames"
   ],
   "metadata": {
    "execution": {
     "iopub.status.busy": "2022-01-08T05:04:48.737057Z",
     "iopub.execute_input": "2022-01-08T05:04:48.737295Z",
     "iopub.status.idle": "2022-01-08T05:04:48.774237Z",
     "shell.execute_reply.started": "2022-01-08T05:04:48.737262Z",
     "shell.execute_reply": "2022-01-08T05:04:48.77348Z"
    },
    "trusted": true
   },
   "execution_count": null,
   "outputs": []
  },
  {
   "cell_type": "code",
   "source": [
    "os.mkdir('image data')"
   ],
   "metadata": {
    "execution": {
     "iopub.status.busy": "2022-01-08T05:04:48.77578Z",
     "iopub.execute_input": "2022-01-08T05:04:48.778585Z",
     "iopub.status.idle": "2022-01-08T05:04:48.782715Z",
     "shell.execute_reply.started": "2022-01-08T05:04:48.778543Z",
     "shell.execute_reply": "2022-01-08T05:04:48.781848Z"
    },
    "trusted": true
   },
   "execution_count": null,
   "outputs": []
  },
  {
   "cell_type": "code",
   "source": [
    "os.mkdir(os.path.join('image data', 'train'))\n",
    "os.mkdir(os.path.join('image data', 'validation'))\n",
    "os.mkdir(os.path.join('image data', 'test'))"
   ],
   "metadata": {
    "execution": {
     "iopub.status.busy": "2022-01-08T05:04:48.785503Z",
     "iopub.execute_input": "2022-01-08T05:04:48.786239Z",
     "iopub.status.idle": "2022-01-08T05:04:48.792664Z",
     "shell.execute_reply.started": "2022-01-08T05:04:48.7862Z",
     "shell.execute_reply": "2022-01-08T05:04:48.791535Z"
    },
    "trusted": true
   },
   "execution_count": null,
   "outputs": []
  },
  {
   "cell_type": "code",
   "source": [
    "train_path = os.path.join('image data/train')\n",
    "val_path = os.path.join('image data/validation')\n",
    "test_path = os.path.join('image data/test')"
   ],
   "metadata": {
    "execution": {
     "iopub.status.busy": "2022-01-08T05:04:48.797042Z",
     "iopub.execute_input": "2022-01-08T05:04:48.798011Z",
     "iopub.status.idle": "2022-01-08T05:04:48.806004Z",
     "shell.execute_reply.started": "2022-01-08T05:04:48.797951Z",
     "shell.execute_reply": "2022-01-08T05:04:48.805111Z"
    },
    "trusted": true
   },
   "execution_count": null,
   "outputs": []
  },
  {
   "cell_type": "code",
   "source": [
    "for tree in fnames['Tree type'].unique().tolist():\n",
    "    # create directory for tree\n",
    "    path_1 = os.path.join(train_path, tree)\n",
    "    path_2 = os.path.join(test_path, tree)\n",
    "    path_3 = os.path.join(val_path, tree)\n",
    "\n",
    "    os.mkdir(path_1)\n",
    "    os.mkdir(path_2)\n",
    "    os.mkdir(path_3)\n",
    "\n",
    "    for disease, folder in fnames[fnames['Tree type'] == tree][['Disease', 'Folder']].values.tolist():\n",
    "        # create directory to each disease\n",
    "        sub_path_1 = os.path.join(path_1, disease.strip())\n",
    "        sub_path_2 = os.path.join(path_2, disease.strip())\n",
    "        sub_path_3 = os.path.join(path_3, disease.strip())\n",
    "\n",
    "        os.mkdir(sub_path_1)\n",
    "        os.mkdir(sub_path_2)\n",
    "        os.mkdir(sub_path_3)\n",
    "\n",
    "        # read data from source folder\n",
    "        src = os.path.join(plant_village_dir, 'color', folder)\n",
    "        image_count = len(os.listdir(src))\n",
    "        test_img_count = image_count // 10\n",
    "        val_img_count = (image_count - test_img_count) // 5\n",
    "        train_img_count = image_count - (test_img_count + val_img_count)\n",
    "        counts = [train_img_count, test_img_count, val_img_count]\n",
    "        splits = [sub_path_1, sub_path_2, sub_path_3]\n",
    "\n",
    "        for i in range(3):\n",
    "            images = os.listdir(src)\n",
    "            for j in images[:counts[i]]:\n",
    "                shutil.copyfile(src=os.path.join(src, j),\n",
    "                                dst=os.path.join(splits[i], j))"
   ],
   "metadata": {
    "execution": {
     "iopub.status.busy": "2022-01-08T05:04:48.808006Z",
     "iopub.execute_input": "2022-01-08T05:04:48.808688Z",
     "iopub.status.idle": "2022-01-08T05:07:51.513647Z",
     "shell.execute_reply.started": "2022-01-08T05:04:48.808622Z",
     "shell.execute_reply": "2022-01-08T05:07:51.512905Z"
    },
    "trusted": true
   },
   "execution_count": null,
   "outputs": []
  },
  {
   "cell_type": "code",
   "source": [
    "os.mkdir(os.path.join(train_path, 'Rice'))\n",
    "os.mkdir(os.path.join(test_path, 'Rice'))\n",
    "os.mkdir(os.path.join(val_path, 'Rice'))"
   ],
   "metadata": {
    "execution": {
     "iopub.status.busy": "2022-01-08T05:07:51.515029Z",
     "iopub.execute_input": "2022-01-08T05:07:51.515516Z",
     "iopub.status.idle": "2022-01-08T05:07:51.520995Z",
     "shell.execute_reply.started": "2022-01-08T05:07:51.515478Z",
     "shell.execute_reply": "2022-01-08T05:07:51.520312Z"
    },
    "trusted": true
   },
   "execution_count": null,
   "outputs": []
  },
  {
   "cell_type": "code",
   "source": [
    "source_dirs = os.listdir(rice_dir)\n",
    "\n",
    "for source in source_dirs:\n",
    "    src = os.path.join(rice_dir, source)\n",
    "    image_count = len(os.listdir(src))\n",
    "    test_img_count = image_count // 10\n",
    "    val_img_count = (image_count - test_img_count) // 5\n",
    "    train_img_count = image_count - (test_img_count + val_img_count)\n",
    "    path_1 = os.path.join('image data/train/Rice', source.replace('_', ''))\n",
    "    path_2 = os.path.join('image data/test/Rice', source.replace('_', ''))\n",
    "    path_3 = os.path.join('image data/validation/Rice', source.replace('_', ''))\n",
    "\n",
    "    os.mkdir(path_1)\n",
    "    os.mkdir(path_2)\n",
    "    os.mkdir(path_3)\n",
    "    paths = [path_1, path_2, path_3]\n",
    "    split_counts = [train_img_count, test_img_count, val_img_count]\n",
    "\n",
    "    for i in range(3):\n",
    "        images = os.listdir(src)\n",
    "        for j in images[:split_counts[i]]:\n",
    "            shutil.copyfile(src=os.path.join(src, j),\n",
    "                            dst=os.path.join(paths[i], j))"
   ],
   "metadata": {
    "execution": {
     "iopub.status.busy": "2022-01-08T05:07:51.521994Z",
     "iopub.execute_input": "2022-01-08T05:07:51.524166Z",
     "iopub.status.idle": "2022-01-08T05:07:57.259152Z",
     "shell.execute_reply.started": "2022-01-08T05:07:51.524127Z",
     "shell.execute_reply": "2022-01-08T05:07:57.258408Z"
    },
    "trusted": true
   },
   "execution_count": null,
   "outputs": []
  },
  {
   "cell_type": "code",
   "source": [
    "disease_map = {0: \"Bacterial Blight (CBB)\",\n",
    "               1: \"Brown Streak Disease (CBSD)\",\n",
    "               2: \"Green Mottle (CGM)\",\n",
    "               3: \"Mosaic Disease (CMD)\",\n",
    "               4: \"Healthy\"}"
   ],
   "metadata": {
    "execution": {
     "iopub.status.busy": "2022-01-08T05:07:57.260717Z",
     "iopub.execute_input": "2022-01-08T05:07:57.260973Z",
     "iopub.status.idle": "2022-01-08T05:07:57.265411Z",
     "shell.execute_reply.started": "2022-01-08T05:07:57.260939Z",
     "shell.execute_reply": "2022-01-08T05:07:57.264604Z"
    },
    "trusted": true
   },
   "execution_count": null,
   "outputs": []
  },
  {
   "cell_type": "code",
   "source": [
    "pd.read_csv('../input/cassava-leaf-disease-classification/train.csv')['label'].value_counts()"
   ],
   "metadata": {
    "execution": {
     "iopub.status.busy": "2022-01-08T05:07:57.266558Z",
     "iopub.execute_input": "2022-01-08T05:07:57.267022Z",
     "iopub.status.idle": "2022-01-08T05:07:57.302985Z",
     "shell.execute_reply.started": "2022-01-08T05:07:57.266984Z",
     "shell.execute_reply": "2022-01-08T05:07:57.302336Z"
    },
    "trusted": true
   },
   "execution_count": null,
   "outputs": []
  },
  {
   "cell_type": "code",
   "source": [
    "os.mkdir(os.path.join(train_path, 'Cassava'))\n",
    "os.mkdir(os.path.join(test_path, 'Cassava'))\n",
    "os.mkdir(os.path.join(val_path, 'Cassava'))"
   ],
   "metadata": {
    "execution": {
     "iopub.status.busy": "2022-01-08T05:07:57.304161Z",
     "iopub.execute_input": "2022-01-08T05:07:57.304434Z",
     "iopub.status.idle": "2022-01-08T05:07:57.310095Z",
     "shell.execute_reply.started": "2022-01-08T05:07:57.304395Z",
     "shell.execute_reply": "2022-01-08T05:07:57.309222Z"
    },
    "trusted": true
   },
   "execution_count": null,
   "outputs": []
  },
  {
   "cell_type": "code",
   "source": [
    "for disease in disease_map.values():\n",
    "    os.mkdir(os.path.join('image data/train/Cassava', disease))\n",
    "    os.mkdir(os.path.join('image data/test/Cassava', disease))\n",
    "    os.mkdir(os.path.join('image data/validation/Cassava', disease))"
   ],
   "metadata": {
    "execution": {
     "iopub.status.busy": "2022-01-08T05:07:57.311139Z",
     "iopub.execute_input": "2022-01-08T05:07:57.311638Z",
     "iopub.status.idle": "2022-01-08T05:07:57.318897Z",
     "shell.execute_reply.started": "2022-01-08T05:07:57.311598Z",
     "shell.execute_reply": "2022-01-08T05:07:57.318229Z"
    },
    "trusted": true
   },
   "execution_count": null,
   "outputs": []
  },
  {
   "cell_type": "code",
   "source": [
    "remove_cassava = ['1000201771.jpg', '100204014.jpg', '1002255315.jpg', '1003298598.jpg', '1004163647.jpg',\n",
    "                  '1004881261.jpg', '1005138819.jpg', '1005200906.jpg', '100533489.jpg', '100560400.jpg',\n",
    "                  '1007196516.jpg', '1009361983.jpg', '1009489704.jpg', '1009749557.jpg', '1010648150.jpg',\n",
    "                  '1010855776.jpg', '1011571614.jpg', '1011909285.jpg', '1012257169.jpg', '1012599090.jpg',\n",
    "                  '1012902365.jpg', '1013734375.jpg', '1014332426.jpg', '1014359226.jpg', '1014888611.jpg',\n",
    "                  '1015034348.jpg', '1015143489.jpg', '1015749198.jpg', '10169000.jpg', '1017006970.jpg',\n",
    "                  '1019366633.jpg', '1019398233.jpg', '1019486948.jpg', '1020245430.jpg', '1020387881.jpg',\n",
    "                  '1020423203.jpg', '1020636424.jpg', '1021758544.jpg', '1022008227.jpg', '1022475063.jpg',\n",
    "                  '1022850256.jpg', '1023937437.jpg', '1024995071.jpg', '1025060651.jpg', '1025198223.jpg',\n",
    "                  '1026915452.jpg', '102719039.jpg', '1027550629.jpg', '1028041356.jpg', '1028128877.jpg',\n",
    "                  '1028318593.jpg', '1028446573.jpg', '1028697500.jpg', '102968016.jpg', '1029778366.jpg',\n",
    "                  '1029779424.jpg', '1030448520.jpg', '1031500522.jpg', '1031772206.jpg', '1034219276.jpg',\n",
    "                  '1034286210.jpg', '1034407153.jpg',\n",
    "                  '1034548842.jpg', '1034577161.jpg', '103630546.jpg', '1036692910.jpg', '1036697361.jpg',\n",
    "                  '1036774035.jpg', '1037337861.jpg', '1038176489.jpg', '1039176615.jpg', '1039292236.jpg',\n",
    "                  '1040079282.jpg', '1040828572.jpg', '104086261.jpg', '1041022257.jpg', '1041651309.jpg',\n",
    "                  '1041666046.jpg', '1041701814.jpg', '1041922165.jpg', '1041923025.jpg', '1042223039.jpg',\n",
    "                  '1042521522.jpg', '1043083985.jpg', '1043238803.jpg', '1043392236.jpg', '1043857809.jpg',\n",
    "                  '1044411903.jpg', '1044545725.jpg', '1044918414.jpg', '1044930186.jpg', '1044971650.jpg',\n",
    "                  '1045099368.jpg', '1045339937.jpg', '104535906.jpg', '1045545977.jpg', '1045708576.jpg',\n",
    "                  '1045776023.jpg', '1045989131.jpg', '1046187121.jpg', '1046222396.jpg', '1046631452.jpg',\n",
    "                  '1046703257.jpg', '1046776729.jpg', '1046830901.jpg', '1047071545.jpg', '1047272845.jpg',\n",
    "                  '1047645957.jpg', '1047958369.jpg', '1048678959.jpg', '1048686894.jpg', '1048738679.jpg',\n",
    "                  '1048872437.jpg', '1049791378.jpg', '1050263382.jpg', '1050847556.jpg', '105315247.jpg',\n",
    "                  '1054232796.jpg', '1054946133.jpg', '1054987687.jpg', '1055305901.jpg', '105741284.jpg',\n",
    "                  '1057462029.jpg', '1057519931.jpg', '1058428683.jpg', '1058466257.jpg', '1058931181.jpg',\n",
    "                  '1059334615.jpg', '1059412486.jpg', '1059986462.jpg', '1060214168.jpg', '1060477140.jpg',\n",
    "                  '1060644080.jpg', '10606813.jpg', '1060691063.jpg', '10607686.jpg', '1061187521.jpg',\n",
    "                  '1063572140.jpg', '1064635740.jpg', '1065474134.jpg', '1065833532.jpg', '1066635665.jpg',\n",
    "                  '1067081821.jpg', '1067618974.jpg', '1067694987.jpg', '1067983435.jpg', '1068558018.jpg',\n",
    "                  '1070151605.jpg', '1071136061.jpg', '1071700805.jpg', '1071960213.jpg', '1072157342.jpg',\n",
    "                  '1072929806.jpg', '107350755.jpg', '1073893170.jpg', '107427326.jpg', '1074399386.jpg',\n",
    "                  '107443287.jpg', '1074544926.jpg', '107466550.jpg', '1074721909.jpg', '1074804892.jpg',\n",
    "                  '1074822391.jpg', '1075008294.jpg', '1075249116.jpg', '1075841093.jpg', '107608677.jpg',\n",
    "                  '1076699996.jpg', '1077138637.jpg', '1077343678.jpg', '1077647851.jpg', '1077728760.jpg',\n",
    "                  '107801790.jpg', '10780620.jpg', '1078497809.jpg', '1079107547.jpg', '1079514795.jpg',\n",
    "                  '1081031509.jpg', '1081937072.jpg', '1082822990.jpg', '1083021605.jpg', '1083149527.jpg',\n",
    "                  '108321963.jpg', '1083535091.jpg', '1083681960.jpg', '1083896176.jpg', '1084885558.jpg',\n",
    "                  '1085038226.jpg', '1085629921.jpg', '1085879366.jpg', '1085931637.jpg', '1086499006.jpg',\n",
    "                  '1086549590.jpg', '1086683858.jpg', '1088048736.jpg', '1088104223.jpg', '1088416255.jpg',\n",
    "                  '1088631003.jpg', '1089147259.jpg', '1089887353.jpg', '1090285146.jpg', '109039552.jpg',\n",
    "                  '1091388730.jpg', '1091452653.jpg', '1091727259.jpg', '1091837239.jpg', '1092535479.jpg',\n",
    "                  '1092828758.jpg', '1092874124.jpg', '1093114557.jpg', '1093739814.jpg', '1093765262.jpg',\n",
    "                  '1093908406.jpg', '1094476490.jpg', '1094482700.jpg', '1094769327.jpg', '1094811132.jpg',\n",
    "                  '1095008050.jpg', '1095482483.jpg', '1095723751.jpg', '1095798136.jpg', '1095906723.jpg',\n",
    "                  '1095991625.jpg', '1096216935.jpg', '1096438409.jpg', '1097202105.jpg', '1097206620.jpg',\n",
    "                  '1097213244.jpg', '1097497550.jpg', '1097598508.jpg', '1097658176.jpg', '109787893.jpg',\n",
    "                  '1097928870.jpg', '1098348421.jpg', '1098441542.jpg', '1098603613.jpg', '1098903353.jpg',\n",
    "                  '1099450301.jpg', '1099869110.jpg', '1100049957.jpg', '1100052546.jpg', '1100532272.jpg',\n",
    "                  '1100677588.jpg', '1100718808.jpg', '1101317234.jpg', '1101409116.jpg', '1102114596.jpg',\n",
    "                  '1102683272.jpg', '1103304372.jpg', '110359894.jpg', '1104298311.jpg', '1104322555.jpg',\n",
    "                  '1104743192.jpg', '1105650232.jpg', '1105873839.jpg', '110588438.jpg', '1106106088.jpg',\n",
    "                  '1107481034.jpg', '1109052326.jpg', '1110416706.jpg', '1110421964.jpg', '1110776878.jpg',\n",
    "                  '111117998.jpg', '1111352870.jpg', '1111719655.jpg', '1111946219.jpg', '1112896854.jpg',\n",
    "                  '1112943175.jpg', '1113547652.jpg', '1113624946.jpg', '1113813904.jpg', '1113946759.jpg',\n",
    "                  '1114588792.jpg', '1115273193.jpg', '1115331699.jpg', '1115389496.jpg', '1115451372.jpg',\n",
    "                  '1116129173.jpg', '1116229616.jpg', '11162952.jpg', '1117253517.jpg', '111755849.jpg',\n",
    "                  '1118049363.jpg', '1118064801.jpg', '1118164655.jpg', '1118381273.jpg', '1119403430.jpg',\n",
    "                  '1119665495.jpg', '1119934368.jpg', '1119995789.jpg', '1120005690.jpg', '1120538910.jpg',\n",
    "                  '1120557501.jpg', '1120732120.jpg', '1120933008.jpg', '1121089876.jpg', '1122080430.jpg',\n",
    "                  '1122491573.jpg', '1122533329.jpg', '1122970967.jpg', '1122980752.jpg', '1123691141.jpg',\n",
    "                  '1123902504.jpg', '1124029406.jpg', '1124430120.jpg', '1124545066.jpg', '112487271.jpg',\n",
    "                  '1125148529.jpg', '112690000.jpg', '1127920784.jpg', '1128080664.jpg', '1129442307.jpg',\n",
    "                  '1130848139.jpg', '1133337432.jpg', '1135103288.jpg', '113596289.jpg', '1138036719.jpg',\n",
    "                  '1138058391.jpg', '1138645276.jpg', '1138779690.jpg', '1139665721.jpg', '1140116873.jpg',\n",
    "                  '1146557184.jpg', '1146671365.jpg', '1149596528.jpg', '1152631724.jpg', '1153882793.jpg',\n",
    "                  '1154479394.jpg', '1155507570.jpg', '1158624632.jpg', '1160633739.jpg', '1161718761.jpg',\n",
    "                  '1162152381.jpg', '116338302.jpg', '1164692375.jpg', '1166986456.jpg', '1169336431.jpg',\n",
    "                  '1170720367.jpg', '1171302816.jpg', '1171418212.jpg', '1176861748.jpg', '1177346702.jpg',\n",
    "                  '1178307457.jpg', '1179062519.jpg', '1179237425.jpg', '1179908738.jpg', '1181613818.jpg',\n",
    "                  '1181678723.jpg', '1184908873.jpg', '1190399034.jpg', '1194042617.jpg', '1194838492.jpg',\n",
    "                  '1195235889.jpg', '119590613.jpg', '1198476572.jpg', '1198521073.jpg', '1199307978.jpg',\n",
    "                  '1200660912.jpg', '1200666322.jpg', '1202113453.jpg', '1202567382.jpg', '1203118326.jpg',\n",
    "                  '1203248171.jpg', '1203861431.jpg', '1204938946.jpg', '1205478806.jpg', '1207142999.jpg',\n",
    "                  '1208930498.jpg', '1209157685.jpg', '1210363668.jpg', '1212460226.jpg', '1213094661.jpg',\n",
    "                  '1218204606.jpg', '1218759874.jpg', '1226235183.jpg', '1226905166.jpg', '1227531167.jpg',\n",
    "                  '1228668761.jpg', '1230760429.jpg', '1230922273.jpg', '1230982659.jpg', '1231695981.jpg',\n",
    "                  '1233532275.jpg', '1235142158.jpg', '1236127980.jpg', '1236840149.jpg', '1238159478.jpg',\n",
    "                  '1238413001.jpg', '1238821861.jpg', '1240341274.jpg', '1248159312.jpg', '1250532785.jpg',\n",
    "                  '1252288895.jpg', '1256756297.jpg', '125703440.jpg', '1257722336.jpg', '1258222691.jpg',\n",
    "                  '1261918701.jpg', '1264219928.jpg', '1264302367.jpg', '1267456239.jpg', '1267796913.jpg',\n",
    "                  '12688038.jpg', '1269646820.jpg', '1271039917.jpg', '1272381477.jpg', '1276561660.jpg',\n",
    "                  '1276900213.jpg', '1277057359.jpg', '1277210685.jpg', '127742871.jpg', '1278924259.jpg',\n",
    "                  '1279832641.jpg', '1282714006.jpg', '1288893945.jpg', '1289519057.jpg', '1290024042.jpg',\n",
    "                  '1290729293.jpg', '1291425796.jpg', '129262656.jpg', '1293001652.jpg', '1293096589.jpg',\n",
    "                  '1297767108.jpg', '1299050149.jpg', '1300977508.jpg', '1302328544.jpg', '1303082197.jpg',\n",
    "                  '1304633262.jpg', '1305777482.jpg', '1308234304.jpg', '1309174561.jpg', '1309794504.jpg',\n",
    "                  '1310462986.jpg', '1312658140.jpg', '1313344197.jpg', '1316234196.jpg', '1316805765.jpg',\n",
    "                  '1317487445.jpg', '132012134.jpg', '1322108824.jpg', '1325098159.jpg', '1329201937.jpg',\n",
    "                  '1330510466.jpg', '133097678.jpg', '1331134229.jpg', '1331226893.jpg', '1331260806.jpg',\n",
    "                  '1333185003.jpg', '133326379.jpg', '133431114.jpg', '1338355057.jpg', '1341694459.jpg',\n",
    "                  '1343301467.jpg', '1344212681.jpg', '1344533607.jpg', '1345845382.jpg', '1346595943.jpg',\n",
    "                  '1347999958.jpg', '1348307468.jpg', '1350837396.jpg', '1350898322.jpg', '1351460531.jpg',\n",
    "                  '1352363015.jpg', '135270912.jpg', '1354666610.jpg', '1355521556.jpg', '1357774593.jpg',\n",
    "                  '1357797590.jpg', '1358792990.jpg', '1359969815.jpg', '1361142044.jpg', '1363807985.jpg',\n",
    "                  '1364063429.jpg', '1364435251.jpg', '1365612235.jpg', '1371946692.jpg', '1373499412.jpg',\n",
    "                  '1375425264.jpg', '1376091294.jpg', '1376107939.jpg', '1377344118.jpg', '1378549599.jpg',\n",
    "                  '1379079003.jpg', '1379189798.jpg', '1383020993.jpg', '1385808202.jpg', '1386736977.jpg',\n",
    "                  '1391719532.jpg', '139442048.jpg', '1396197326.jpg', '1396847821.jpg', '1398184409.jpg',\n",
    "                  '1401539761.jpg', '1401653529.jpg', '1402359353.jpg', '1403410864.jpg', '140350208.jpg',\n",
    "                  '140439386.jpg', '1407062920.jpg', '1410225488.jpg', '1410638110.jpg', '1415860816.jpg',\n",
    "                  '1421062396.jpg', '1425912705.jpg', '1426690752.jpg', '1427678310.jpg', '1428302810.jpg',\n",
    "                  '1428569100.jpg', '1430092169.jpg', '143092286.jpg', '1431172246.jpg', '1432249645.jpg',\n",
    "                  '1432401820.jpg', '1433652364.jpg', '1435237849.jpg', '1436718296.jpg', '1438129678.jpg',\n",
    "                  '1438263670.jpg', '1438664994.jpg', '1439711843.jpg', '1442249007.jpg', '1442310291.jpg',\n",
    "                  '1443356256.jpg', '1445110215.jpg', '1446872004.jpg', '144778428.jpg', '1448897511.jpg',\n",
    "                  '1452260416.jpg', '1453190275.jpg', '1457571171.jpg', '1458175598.jpg', '1459278356.jpg',\n",
    "                  '1460020462.jpg', '1460087437.jpg', '1465908426.jpg', '1466655821.jpg', '1468646624.jpg',\n",
    "                  '1469167700.jpg', '1469713619.jpg', '1469715307.jpg', '146995101.jpg', '147082706.jpg',\n",
    "                  '1472319237.jpg', '1474472052.jpg', '1475659703.jpg', '1478666869.jpg', '1479311027.jpg',\n",
    "                  '147932460.jpg', '1481071460.jpg', '1483767138.jpg', '1483888570.jpg', '1485229040.jpg',\n",
    "                  '1485387248.jpg', '1489138795.jpg', '1489483095.jpg', '1492204596.jpg', '149232931.jpg',\n",
    "                  '1493133127.jpg', '1495411222.jpg', '1496279708.jpg', '1496786758.jpg', '1497799028.jpg',\n",
    "                  '149781263.jpg', '1497853421.jpg', '1498477767.jpg', '1501728003.jpg', '1503832819.jpg',\n",
    "                  '1506710218.jpg', '1506855289.jpg', '1510478103.jpg', '1510845223.jpg', '1513772475.jpg',\n",
    "                  '1514204503.jpg', '1515921207.jpg', '1518295866.jpg', '1518949710.jpg', '1519337929.jpg',\n",
    "                  '1519424592.jpg', '1519657958.jpg', '1520672258.jpg', '1524278014.jpg', '1524451384.jpg',\n",
    "                  '1524470833.jpg', '152599670.jpg', '1526090875.jpg', '1527255990.jpg', '1528254413.jpg',\n",
    "                  '1528321401.jpg', '1528657939.jpg', '1529293180.jpg', '1532462284.jpg', '1532691436.jpg',\n",
    "                  '1533215166.jpg', '1534971214.jpg', '1536479398.jpg', '1540564326.jpg', '1541021369.jpg',\n",
    "                  '1542437080.jpg', '1542540755.jpg', '1543608329.jpg', '1544883510.jpg', '1545341197.jpg',\n",
    "                  '1545947455.jpg', '1549044290.jpg', '1549275495.jpg', '1550131198.jpg', '1550490538.jpg',\n",
    "                  '1552938679.jpg', '1553800019.jpg', '1553857773.jpg', '1558263812.jpg', '1558894441.jpg',\n",
    "                  '1559321663.jpg', '155945117.jpg', '156080014.jpg', '1563395006.jpg', '1567877420.jpg',\n",
    "                  '1570477723.jpg', '1581350775.jpg', '1582056654.jpg', '1587173996.jpg', '159031113.jpg',\n",
    "                  '1591211160.jpg', '159163820.jpg', '1592499949.jpg', '1593413079.jpg', '1594527839.jpg',\n",
    "                  '1596468225.jpg', '1597577379.jpg', '1598396225.jpg', '1599665158.jpg', '1601560938.jpg',\n",
    "                  '1602542703.jpg', '1604090930.jpg', '1605560939.jpg', '1606458459.jpg', '1611948994.jpg',\n",
    "                  '1612928638.jpg', '1613918546.jpg', '161407663.jpg', '1620397384.jpg', '1621255319.jpg',\n",
    "                  '1622070201.jpg', '1622159386.jpg', '1622560138.jpg', '1628755791.jpg', '1629406213.jpg',\n",
    "                  '1630010851.jpg', '1632014154.jpg', '1633620342.jpg', '1634210078.jpg', '163705693.jpg',\n",
    "                  '1640860200.jpg', '1642673136.jpg', '1643316247.jpg', '1644495428.jpg', '1645132898.jpg',\n",
    "                  '1645164318.jpg', '16457413.jpg', '1649231975.jpg', '1649500149.jpg', '1649961148.jpg',\n",
    "                  '1650247048.jpg', '165028458.jpg', '1652379583.jpg', '1653281533.jpg', '1653382438.jpg',\n",
    "                  '1655615998.jpg', '1657183324.jpg', '1658025063.jpg', '1667294993.jpg', '1670109351.jpg',\n",
    "                  '1672251151.jpg', '1676410549.jpg', '1677019415.jpg', '1677901945.jpg', '1681274509.jpg',\n",
    "                  '1681299084.jpg', '1682790213.jpg', '1682859600.jpg', '1683319632.jpg', '1683413272.jpg',\n",
    "                  '1684430173.jpg', '1685392765.jpg', '1685873117.jpg', '168669351.jpg', '1687247558.jpg',\n",
    "                  '1687852669.jpg', '1688625660.jpg', '1689108113.jpg', '1690277956.jpg', '1694570941.jpg',\n",
    "                  '1695184578.jpg', '1695601618.jpg', '1698435462.jpg', '1698641308.jpg', '1698873307.jpg',\n",
    "                  '1702300197.jpg', '1706671174.jpg', '1707820452.jpg', '1708593214.jpg', '1709404074.jpg',\n",
    "                  '1709988412.jpg', '1712397585.jpg', '1713403658.jpg', '1714701345.jpg', '1722175051.jpg',\n",
    "                  '1725548375.jpg', '1725598881.jpg', '1729836525.jpg', '1733293864.jpg', '1736063036.jpg',\n",
    "                  '1738922613.jpg', '1740920965.jpg', '1743119913.jpg', '1744206889.jpg', '1745816126.jpg',\n",
    "                  '1748981350.jpg', '175171305.jpg', '1753806581.jpg', '1757123102.jpg', '176082101.jpg',\n",
    "                  '1762956560.jpg', '1763195879.jpg', '1763486772.jpg', '1765190680.jpg', '1767778795.jpg',\n",
    "                  '1772879705.jpg', '1774341872.jpg', '1774492072.jpg', '1774675464.jpg', '1775343418.jpg',\n",
    "                  '17774752.jpg', '1779278752.jpg', '1780364325.jpg', '1788201755.jpg', '1792460758.jpg',\n",
    "                  '1792694473.jpg', '1797773732.jpg', '1807049681.jpg', '181157076.jpg', '1814601844.jpg',\n",
    "                  '181506329.jpg', '1815863009.jpg', '1815972967.jpg', '181667206.jpg', '1820146745.jpg',\n",
    "                  '1820335596.jpg', '1823201205.jpg', '1823946129.jpg', '1825775258.jpg', '1828496803.jpg',\n",
    "                  '1831075447.jpg', '1831712346.jpg', '1836048821.jpg', '1837284696.jpg', '1850723562.jpg',\n",
    "                  '185241766.jpg', '1852697554.jpg', '1854790191.jpg', '1855389006.jpg', '1859104179.jpg',\n",
    "                  '1860121418.jpg', '1861666326.jpg', '1862072615.jpg', '1870606014.jpg', '1870824948.jpg',\n",
    "                  '187186579.jpg', '1875934102.jpg', '1878129720.jpg', '1881994461.jpg', '1883419936.jpg',\n",
    "                  '1884499886.jpg', '188551774.jpg', '1886828385.jpg', '1889617951.jpg', '1889796065.jpg',\n",
    "                  '1891755915.jpg', '1903950320.jpg', '1906106521.jpg', '1906649077.jpg', '1916594362.jpg',\n",
    "                  '1918860127.jpg', '1922719796.jpg', '1927144610.jpg', '1927778435.jpg', '193173270.jpg',\n",
    "                  '1931764885.jpg', '1932481347.jpg', '1936058467.jpg', '1945153538.jpg', '1948389107.jpg',\n",
    "                  '1948688497.jpg', '1949071639.jpg', '1952684921.jpg', '1954353329.jpg', '1959916308.jpg',\n",
    "                  '1960012199.jpg', '1963206223.jpg', '1965850227.jpg', '1966061216.jpg', '1966385524.jpg',\n",
    "                  '1968596086.jpg', '1970877091.jpg', '197416826.jpg', '1981073260.jpg', '1982908964.jpg',\n",
    "                  '1983454737.jpg', '1984779021.jpg', '19872828.jpg', '19890423.jpg', '1989453071.jpg',\n",
    "                  '1991094852.jpg', '1991311917.jpg', '1991955434.jpg', '1993917626.jpg', '1994159340.jpg',\n",
    "                  '1996031857.jpg', '1998817609.jpg', '2002337945.jpg', '2003348266.jpg', '2007047411.jpg',\n",
    "                  '2008117756.jpg', '2012639155.jpg', '2015623065.jpg', '2019165943.jpg', '2021948804.jpg',\n",
    "                  '2028027958.jpg', '2028546131.jpg', '2031634119.jpg', '2033648478.jpg', '2033655713.jpg',\n",
    "                  '2035009601.jpg', '2038601042.jpg', '2051495839.jpg', '2052193319.jpg', '2054830345.jpg',\n",
    "                  '2067363667.jpg', '208548099.jpg', '2150625929.jpg', '2169173551.jpg', '2170826967.jpg',\n",
    "                  '2181262010.jpg', '2198388199.jpg', '2235761050.jpg', '2258402011.jpg', '2273730548.jpg',\n",
    "                  '2274473837.jpg', '2313023027.jpg', '2321358067.jpg', '2326914865.jpg', '2330534234.jpg',\n",
    "                  '2353511211.jpg', '2363265177.jpg', '2365326310.jpg', '2368198157.jpg', '2372527098.jpg',\n",
    "                  '2373132884.jpg', '2384852516.jpg', '2393701311.jpg', '2394377949.jpg', '2406261775.jpg']"
   ],
   "metadata": {},
   "execution_count": null,
   "outputs": []
  },
  {
   "cell_type": "code",
   "source": [
    "df = pd.read_csv('../input/cassava-leaf-disease-classification/train.csv')\n",
    "df1 = df[df['label'] == 0].reset_index().loc[:378, 'image_id']\n",
    "df2 = df[df['label'] == 0].reset_index().loc[378:486, 'image_id']\n",
    "df3 = df[df['label'] == 0].reset_index().loc[486:540, 'image_id']\n",
    "\n",
    "for img in df1:\n",
    "    if img not in remove_cassava:\n",
    "        src = os.path.join(cassava_dir, 'train_images', img)\n",
    "        dst = os.path.join('image data/train/Cassava', disease_map[0], img)\n",
    "\n",
    "        if os.path.isfile(src):\n",
    "            img_ = img_to_array(load_img(src))\n",
    "            cropped = tf.image.central_crop(img_, central_fraction=0.65)\n",
    "            save_img(dst, cv.resize(src=img_to_array(cropped), dsize=(256, 256)))\n",
    "\n",
    "for img in df2:\n",
    "    src = os.path.join(cassava_dir, 'train_images', img)\n",
    "    dst = os.path.join('image data/test/Cassava', disease_map[0], img)\n",
    "\n",
    "    if os.path.isfile(src):\n",
    "        img_ = img_to_array(load_img(src))\n",
    "        cropped = tf.image.central_crop(img_, central_fraction=0.65)\n",
    "        save_img(dst, cv.resize(src=img_to_array(cropped), dsize=(256, 256)))\n",
    "\n",
    "for img in df3:\n",
    "    src = os.path.join(cassava_dir, 'train_images', img)\n",
    "    dst = os.path.join('image data/validation/Cassava', disease_map[0], img)\n",
    "\n",
    "    if os.path.isfile(src):\n",
    "        img_ = img_to_array(load_img(src))\n",
    "        cropped = tf.image.central_crop(img_, central_fraction=0.65)\n",
    "        save_img(dst, cv.resize(src=img_to_array(cropped), dsize=(256, 256)))"
   ],
   "metadata": {
    "execution": {
     "iopub.status.busy": "2022-01-08T05:07:57.320143Z",
     "iopub.execute_input": "2022-01-08T05:07:57.320476Z",
     "iopub.status.idle": "2022-01-08T05:08:14.756559Z",
     "shell.execute_reply.started": "2022-01-08T05:07:57.320436Z",
     "shell.execute_reply": "2022-01-08T05:08:14.755819Z"
    },
    "trusted": true
   },
   "execution_count": null,
   "outputs": []
  },
  {
   "cell_type": "code",
   "source": [
    "for i in range(1, 4):\n",
    "    df1 = df[df['label'] == i].reset_index().loc[:448, 'image_id']\n",
    "    df2 = df[df['label'] == i].reset_index().loc[448:572, 'image_id']\n",
    "    df3 = df[df['label'] == i].reset_index().loc[572:634, 'image_id']\n",
    "\n",
    "    for img in df1:\n",
    "        if img not in remove_cassava:\n",
    "            src = os.path.join(cassava_dir, 'train_images', img)\n",
    "            dst = os.path.join('image data/train/Cassava', disease_map[i], img)\n",
    "\n",
    "            if os.path.isfile(src):\n",
    "                img_ = img_to_array(load_img(src))\n",
    "                cropped = tf.image.central_crop(img_, central_fraction=0.65)\n",
    "                save_img(dst, cv.resize(src=img_to_array(cropped), dsize=(256, 256)))\n",
    "\n",
    "    for img in df2:\n",
    "        src = os.path.join(cassava_dir, 'train_images', img)\n",
    "        dst = os.path.join('image data/test/Cassava', disease_map[i], img)\n",
    "\n",
    "        if os.path.isfile(src):\n",
    "            img_ = img_to_array(load_img(src))\n",
    "            cropped = tf.image.central_crop(img_, central_fraction=0.65)\n",
    "            save_img(dst, cv.resize(src=img_to_array(cropped), dsize=(256, 256)))\n",
    "\n",
    "    for img in df3:\n",
    "        src = os.path.join(cassava_dir, 'train_images', img)\n",
    "        dst = os.path.join('image data/validation/Cassava', disease_map[i], img)\n",
    "\n",
    "        if os.path.isfile(src):\n",
    "            img_ = img_to_array(load_img(src))\n",
    "            cropped = tf.image.central_crop(img_, central_fraction=0.65)\n",
    "            save_img(dst, cv.resize(src=img_to_array(cropped), dsize=(256, 256)))"
   ],
   "metadata": {
    "execution": {
     "iopub.status.busy": "2022-01-08T05:08:14.757834Z",
     "iopub.execute_input": "2022-01-08T05:08:14.758074Z",
     "iopub.status.idle": "2022-01-08T05:09:05.824302Z",
     "shell.execute_reply.started": "2022-01-08T05:08:14.758041Z",
     "shell.execute_reply": "2022-01-08T05:09:05.823525Z"
    },
    "trusted": true
   },
   "execution_count": null,
   "outputs": []
  },
  {
   "cell_type": "code",
   "source": [
    "df1 = df[df['label'] == 4].reset_index().loc[:708, 'image_id']\n",
    "df2 = df[df['label'] == 4].reset_index().loc[708:910, 'image_id']\n",
    "df3 = df[df['label'] == 4].reset_index().loc[910:1011, 'image_id']\n",
    "\n",
    "for img in df1:\n",
    "    if img not in remove_cassava:\n",
    "        src = os.path.join(cassava_dir, 'train_images', img)\n",
    "        dst = os.path.join('image data/train/Cassava', disease_map[4], img)\n",
    "\n",
    "        if os.path.isfile(src):\n",
    "            img_ = img_to_array(load_img(src))\n",
    "            cropped = tf.image.central_crop(img_, central_fraction=0.65)\n",
    "            save_img(dst, cv.resize(src=img_to_array(cropped), dsize=(256, 256)))\n",
    "\n",
    "for img in df2:\n",
    "    src = os.path.join(cassava_dir, 'train_images', img)\n",
    "    dst = os.path.join('image data/test/Cassava', disease_map[4], img)\n",
    "\n",
    "    if os.path.isfile(src):\n",
    "        img_ = img_to_array(load_img(src))\n",
    "        cropped = tf.image.central_crop(img_, central_fraction=0.65)\n",
    "        save_img(dst, cv.resize(src=img_to_array(cropped), dsize=(256, 256)))\n",
    "\n",
    "for img in df3:\n",
    "    src = os.path.join(cassava_dir, 'train_images', img)\n",
    "    dst = os.path.join('image data/validation/Cassava', disease_map[4], img)\n",
    "\n",
    "    if os.path.isfile(src):\n",
    "        img_ = img_to_array(load_img(src))\n",
    "        cropped = tf.image.central_crop(img_, central_fraction=0.65)\n",
    "        save_img(dst, cv.resize(src=img_to_array(cropped), dsize=(256, 256)))"
   ],
   "metadata": {
    "execution": {
     "iopub.status.busy": "2022-01-08T05:09:05.825688Z",
     "iopub.execute_input": "2022-01-08T05:09:05.827688Z",
     "iopub.status.idle": "2022-01-08T05:09:32.127232Z",
     "shell.execute_reply.started": "2022-01-08T05:09:05.827649Z",
     "shell.execute_reply": "2022-01-08T05:09:32.126511Z"
    },
    "trusted": true,
    "pycharm": {
     "name": "#%%\n"
    }
   },
   "execution_count": null,
   "outputs": []
  }
 ]
}