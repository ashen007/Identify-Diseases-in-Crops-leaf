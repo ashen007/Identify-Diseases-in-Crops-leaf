{
 "cells": [
  {
   "cell_type": "markdown",
   "source": [
    "## Baseline modeling"
   ],
   "metadata": {
    "collapsed": false
   }
  },
  {
   "cell_type": "code",
   "execution_count": 9,
   "metadata": {
    "collapsed": true
   },
   "outputs": [],
   "source": [
    "import os\n",
    "import numpy as np\n",
    "import pandas as pd\n",
    "import seaborn as sns\n",
    "import cv2 as cv\n",
    "\n",
    "from matplotlib import pyplot as plt\n",
    "from sklearn.preprocessing import MultiLabelBinarizer\n",
    "from tensorflow.keras.preprocessing.image import ImageDataGenerator\n",
    "from tensorflow.keras.models import Sequential\n",
    "from tensorflow.keras.layers import InputLayer, Dense, Flatten\n",
    "from tensorflow.keras.activations import relu, sigmoid\n",
    "from tensorflow.keras.optimizers import Adam\n",
    "from tensorflow.keras.losses import binary_crossentropy\n",
    "from tensorflow.keras.utils import plot_model"
   ]
  },
  {
   "cell_type": "code",
   "execution_count": 2,
   "outputs": [],
   "source": [
    "tree_types = os.listdir('../data/image data/train')\n",
    "X = []\n",
    "y = []\n",
    "\n",
    "for tree in tree_types:\n",
    "    tree_path = os.path.join('../data/image data/train', tree)\n",
    "    tree_disease_types = os.listdir(tree_path)\n",
    "\n",
    "    for disease in tree_disease_types:\n",
    "        img_name = os.listdir(os.path.join(tree_path, disease))\n",
    "\n",
    "        for img in img_name:\n",
    "            image_path = os.path.join(tree_path, disease, img)\n",
    "            image = cv.resize(cv.imread(image_path), dsize=(128, 128))\n",
    "            X.append(image)\n",
    "            y.append([tree, disease])"
   ],
   "metadata": {
    "collapsed": false,
    "pycharm": {
     "name": "#%%\n"
    }
   }
  },
  {
   "cell_type": "code",
   "execution_count": 3,
   "outputs": [
    {
     "data": {
      "text/plain": "array([[1, 1, 0, ..., 0, 0, 0],\n       [1, 1, 0, ..., 0, 0, 0],\n       [1, 1, 0, ..., 0, 0, 0],\n       ...,\n       [0, 0, 0, ..., 1, 0, 0],\n       [0, 0, 0, ..., 1, 0, 0],\n       [0, 0, 0, ..., 1, 0, 0]])"
     },
     "execution_count": 3,
     "metadata": {},
     "output_type": "execute_result"
    }
   ],
   "source": [
    "mlb = MultiLabelBinarizer()\n",
    "y = mlb.fit_transform(y)\n",
    "y"
   ],
   "metadata": {
    "collapsed": false,
    "pycharm": {
     "name": "#%%\n"
    }
   }
  },
  {
   "cell_type": "code",
   "execution_count": 15,
   "outputs": [
    {
     "data": {
      "text/plain": "array([[[[197, 164, 168],\n         [195, 162, 166],\n         [195, 162, 166],\n         ...,\n         [215, 186, 189],\n         [213, 184, 187],\n         [209, 180, 183]],\n\n        [[198, 165, 169],\n         [196, 163, 167],\n         [195, 162, 166],\n         ...,\n         [214, 185, 188],\n         [215, 186, 189],\n         [212, 183, 186]],\n\n        [[198, 165, 169],\n         [199, 166, 170],\n         [199, 166, 170],\n         ...,\n         [213, 184, 187],\n         [213, 184, 187],\n         [213, 184, 187]],\n\n        ...,\n\n        [[130,  96, 106],\n         [126,  92, 102],\n         [125,  91, 101],\n         ...,\n         [135, 108, 124],\n         [136, 109, 125],\n         [136, 109, 125]],\n\n        [[126,  92, 102],\n         [128,  94, 104],\n         [126,  92, 102],\n         ...,\n         [138, 111, 127],\n         [139, 112, 128],\n         [138, 111, 127]],\n\n        [[127,  93, 103],\n         [127,  93, 103],\n         [126,  92, 102],\n         ...,\n         [130, 103, 119],\n         [132, 105, 121],\n         [134, 107, 123]]],\n\n\n       [[[176, 125, 132],\n         [172, 121, 128],\n         [176, 125, 132],\n         ...,\n         [175, 119, 124],\n         [173, 117, 122],\n         [173, 117, 122]],\n\n        [[174, 123, 130],\n         [179, 128, 135],\n         [174, 123, 130],\n         ...,\n         [175, 119, 124],\n         [173, 117, 122],\n         [174, 118, 123]],\n\n        [[176, 125, 132],\n         [174, 123, 130],\n         [170, 119, 126],\n         ...,\n         [175, 119, 124],\n         [173, 117, 122],\n         [176, 120, 125]],\n\n        ...,\n\n        [[ 63,  34,  50],\n         [ 64,  34,  51],\n         [ 64,  35,  51],\n         ...,\n         [115,  78,  86],\n         [117,  80,  88],\n         [120,  83,  91]],\n\n        [[ 60,  34,  50],\n         [ 60,  34,  50],\n         [ 60,  33,  49],\n         ...,\n         [114,  77,  85],\n         [116,  79,  87],\n         [119,  82,  90]],\n\n        [[ 53,  30,  45],\n         [ 52,  29,  44],\n         [ 51,  28,  43],\n         ...,\n         [112,  78,  85],\n         [113,  79,  86],\n         [115,  81,  88]]],\n\n\n       [[[177, 135, 123],\n         [178, 136, 124],\n         [177, 135, 123],\n         ...,\n         [183, 139, 126],\n         [180, 136, 123],\n         [187, 143, 130]],\n\n        [[176, 134, 122],\n         [176, 134, 122],\n         [175, 133, 121],\n         ...,\n         [184, 140, 127],\n         [182, 138, 125],\n         [183, 139, 126]],\n\n        [[176, 134, 122],\n         [176, 134, 122],\n         [175, 133, 121],\n         ...,\n         [186, 142, 129],\n         [183, 139, 126],\n         [184, 140, 127]],\n\n        ...,\n\n        [[127, 124, 114],\n         [105,  95,  89],\n         [ 90,  69,  68],\n         ...,\n         [144, 112, 113],\n         [144, 112, 113],\n         [137, 105, 106]],\n\n        [[ 90,  89,  78],\n         [ 75,  63,  56],\n         [ 93,  70,  69],\n         ...,\n         [142, 110, 111],\n         [137, 105, 106],\n         [138, 106, 107]],\n\n        [[ 67,  66,  54],\n         [ 83,  72,  64],\n         [102,  77,  76],\n         ...,\n         [142, 110, 111],\n         [142, 110, 111],\n         [146, 114, 115]]],\n\n\n       ...,\n\n\n       [[[142, 152, 169],\n         [131, 141, 158],\n         [146, 156, 173],\n         ...,\n         [153, 156, 170],\n         [167, 170, 184],\n         [161, 164, 178]],\n\n        [[133, 143, 160],\n         [126, 136, 153],\n         [153, 163, 180],\n         ...,\n         [160, 163, 177],\n         [191, 194, 208],\n         [183, 186, 200]],\n\n        [[122, 132, 149],\n         [141, 151, 168],\n         [131, 141, 158],\n         ...,\n         [158, 161, 175],\n         [158, 161, 175],\n         [169, 172, 186]],\n\n        ...,\n\n        [[124, 130, 149],\n         [129, 135, 154],\n         [117, 123, 142],\n         ...,\n         [144, 144, 160],\n         [150, 150, 166],\n         [150, 150, 166]],\n\n        [[128, 134, 153],\n         [124, 130, 149],\n         [127, 133, 152],\n         ...,\n         [143, 143, 159],\n         [146, 146, 162],\n         [162, 162, 178]],\n\n        [[142, 148, 167],\n         [129, 135, 154],\n         [109, 115, 134],\n         ...,\n         [160, 160, 176],\n         [137, 137, 153],\n         [152, 152, 168]]],\n\n\n       [[[146, 142, 141],\n         [146, 142, 141],\n         [146, 142, 141],\n         ...,\n         [145, 143, 142],\n         [143, 141, 140],\n         [142, 140, 139]],\n\n        [[147, 143, 142],\n         [147, 143, 142],\n         [147, 143, 142],\n         ...,\n         [147, 145, 144],\n         [146, 144, 143],\n         [145, 143, 142]],\n\n        [[148, 144, 143],\n         [148, 144, 143],\n         [148, 144, 143],\n         ...,\n         [147, 145, 144],\n         [147, 145, 144],\n         [147, 145, 144]],\n\n        ...,\n\n        [[ 64,  68,  69],\n         [ 60,  64,  65],\n         [ 56,  60,  61],\n         ...,\n         [ 64,  68,  69],\n         [ 64,  68,  69],\n         [ 62,  66,  67]],\n\n        [[ 58,  62,  63],\n         [ 57,  61,  62],\n         [ 56,  60,  61],\n         ...,\n         [ 63,  67,  68],\n         [ 63,  67,  68],\n         [ 62,  66,  67]],\n\n        [[ 61,  65,  66],\n         [ 63,  67,  68],\n         [ 61,  65,  66],\n         ...,\n         [ 60,  64,  65],\n         [ 60,  64,  65],\n         [ 61,  65,  66]]],\n\n\n       [[[128, 128, 128],\n         [130, 130, 130],\n         [129, 129, 129],\n         ...,\n         [175, 173, 172],\n         [175, 173, 172],\n         [175, 173, 172]],\n\n        [[132, 132, 132],\n         [134, 134, 134],\n         [133, 133, 133],\n         ...,\n         [175, 173, 172],\n         [175, 173, 172],\n         [175, 173, 172]],\n\n        [[128, 128, 128],\n         [130, 130, 130],\n         [131, 131, 131],\n         ...,\n         [174, 172, 171],\n         [174, 172, 171],\n         [174, 172, 171]],\n\n        ...,\n\n        [[ 91,  94,  98],\n         [ 92,  95,  99],\n         [ 93,  96, 100],\n         ...,\n         [162, 165, 163],\n         [162, 165, 163],\n         [161, 164, 162]],\n\n        [[ 94,  97, 101],\n         [ 94,  97, 101],\n         [ 94,  97, 101],\n         ...,\n         [161, 164, 162],\n         [162, 165, 163],\n         [162, 165, 163]],\n\n        [[ 95,  98, 102],\n         [ 95,  98, 102],\n         [ 95,  98, 102],\n         ...,\n         [160, 163, 161],\n         [162, 165, 163],\n         [162, 165, 163]]]], dtype=uint8)"
     },
     "execution_count": 15,
     "metadata": {},
     "output_type": "execute_result"
    }
   ],
   "source": [
    "X = np.asarray(X)\n",
    "X"
   ],
   "metadata": {
    "collapsed": false,
    "pycharm": {
     "name": "#%%\n"
    }
   }
  },
  {
   "cell_type": "code",
   "execution_count": 5,
   "outputs": [],
   "source": [
    "val_x = []\n",
    "val_y = []\n",
    "\n",
    "for tree in tree_types:\n",
    "    tree_path = os.path.join('../data/image data/validation', tree)\n",
    "    tree_disease_types = os.listdir(tree_path)\n",
    "\n",
    "    for disease in tree_disease_types:\n",
    "        img_name = os.listdir(os.path.join(tree_path, disease))\n",
    "\n",
    "        for img in img_name:\n",
    "            image_path = os.path.join(tree_path, disease, img)\n",
    "            image = cv.resize(cv.imread(image_path), dsize=(128, 128))\n",
    "            val_x.append(image)\n",
    "            val_y.append([tree, disease])"
   ],
   "metadata": {
    "collapsed": false,
    "pycharm": {
     "name": "#%%\n"
    }
   }
  },
  {
   "cell_type": "code",
   "execution_count": 6,
   "outputs": [
    {
     "data": {
      "text/plain": "array([[1, 1, 0, ..., 0, 0, 0],\n       [1, 1, 0, ..., 0, 0, 0],\n       [1, 1, 0, ..., 0, 0, 0],\n       ...,\n       [0, 0, 0, ..., 1, 0, 0],\n       [0, 0, 0, ..., 1, 0, 0],\n       [0, 0, 0, ..., 1, 0, 0]])"
     },
     "execution_count": 6,
     "metadata": {},
     "output_type": "execute_result"
    }
   ],
   "source": [
    "val_y = mlb.transform(val_y)\n",
    "val_y"
   ],
   "metadata": {
    "collapsed": false,
    "pycharm": {
     "name": "#%%\n"
    }
   }
  },
  {
   "cell_type": "code",
   "execution_count": 16,
   "outputs": [
    {
     "data": {
      "text/plain": "array([[[[175, 157, 164],\n         [182, 164, 171],\n         [169, 151, 158],\n         ...,\n         [183, 164, 173],\n         [183, 164, 173],\n         [178, 159, 168]],\n\n        [[163, 145, 152],\n         [177, 159, 166],\n         [173, 155, 162],\n         ...,\n         [177, 158, 167],\n         [183, 164, 173],\n         [187, 168, 177]],\n\n        [[180, 162, 169],\n         [186, 168, 175],\n         [185, 167, 174],\n         ...,\n         [183, 164, 173],\n         [189, 170, 179],\n         [185, 166, 175]],\n\n        ...,\n\n        [[163, 143, 156],\n         [149, 129, 142],\n         [160, 140, 153],\n         ...,\n         [169, 147, 165],\n         [161, 141, 160],\n         [161, 141, 160]],\n\n        [[133, 113, 126],\n         [171, 151, 164],\n         [158, 138, 151],\n         ...,\n         [168, 146, 164],\n         [161, 142, 161],\n         [150, 131, 150]],\n\n        [[153, 133, 146],\n         [159, 139, 152],\n         [162, 142, 155],\n         ...,\n         [170, 148, 166],\n         [162, 142, 161],\n         [137, 121, 139]]],\n\n\n       [[[147, 120, 136],\n         [151, 124, 140],\n         [159, 132, 148],\n         ...,\n         [156, 129, 145],\n         [155, 128, 144],\n         [153, 126, 142]],\n\n        [[149, 122, 138],\n         [148, 121, 137],\n         [139, 112, 128],\n         ...,\n         [161, 134, 150],\n         [158, 131, 147],\n         [154, 127, 143]],\n\n        [[160, 133, 149],\n         [141, 114, 130],\n         [154, 127, 143],\n         ...,\n         [154, 127, 143],\n         [148, 121, 137],\n         [154, 127, 143]],\n\n        ...,\n\n        [[ 39,  26,  28],\n         [ 44,  31,  33],\n         [ 42,  29,  31],\n         ...,\n         [ 41,  27,  28],\n         [ 41,  27,  28],\n         [ 41,  27,  28]],\n\n        [[ 34,  23,  25],\n         [ 34,  23,  25],\n         [ 35,  24,  26],\n         ...,\n         [ 42,  28,  29],\n         [ 42,  28,  29],\n         [ 42,  28,  29]],\n\n        [[ 27,  16,  18],\n         [ 25,  14,  16],\n         [ 28,  17,  19],\n         ...,\n         [ 39,  27,  27],\n         [ 39,  27,  27],\n         [ 39,  27,  27]]],\n\n\n       [[[141,  98, 101],\n         [144, 101, 104],\n         [144, 101, 104],\n         ...,\n         [126,  84,  91],\n         [135,  93, 100],\n         [133,  91,  98]],\n\n        [[151, 108, 111],\n         [138,  95,  98],\n         [138,  95,  98],\n         ...,\n         [134,  92,  99],\n         [135,  93, 100],\n         [135,  93, 100]],\n\n        [[144, 101, 104],\n         [146, 103, 106],\n         [146, 103, 106],\n         ...,\n         [137,  95, 102],\n         [136,  94, 101],\n         [136,  94, 101]],\n\n        ...,\n\n        [[154, 121, 128],\n         [155, 122, 129],\n         [158, 125, 132],\n         ...,\n         [147, 106, 114],\n         [146, 105, 113],\n         [147, 106, 114]],\n\n        [[154, 121, 128],\n         [152, 119, 126],\n         [151, 118, 125],\n         ...,\n         [153, 112, 120],\n         [148, 107, 115],\n         [153, 112, 120]],\n\n        [[149, 116, 123],\n         [151, 118, 125],\n         [148, 115, 122],\n         ...,\n         [143, 102, 110],\n         [137,  96, 104],\n         [145, 104, 112]]],\n\n\n       ...,\n\n\n       [[[105, 107, 107],\n         [106, 108, 108],\n         [105, 107, 107],\n         ...,\n         [ 74,  78,  79],\n         [ 78,  82,  83],\n         [ 81,  85,  86]],\n\n        [[101, 103, 103],\n         [105, 107, 107],\n         [106, 108, 108],\n         ...,\n         [ 77,  81,  82],\n         [ 79,  83,  84],\n         [ 79,  83,  84]],\n\n        [[103, 105, 105],\n         [107, 109, 109],\n         [105, 107, 107],\n         ...,\n         [ 79,  83,  84],\n         [ 78,  82,  83],\n         [ 77,  81,  82]],\n\n        ...,\n\n        [[ 87,  92,  90],\n         [ 81,  86,  84],\n         [ 83,  88,  86],\n         ...,\n         [ 85,  86,  84],\n         [ 82,  83,  81],\n         [ 79,  80,  78]],\n\n        [[ 88,  93,  91],\n         [ 85,  90,  88],\n         [ 88,  93,  91],\n         ...,\n         [ 83,  84,  82],\n         [ 83,  84,  82],\n         [ 80,  81,  79]],\n\n        [[ 86,  91,  89],\n         [ 88,  93,  91],\n         [ 85,  90,  88],\n         ...,\n         [ 86,  87,  85],\n         [ 86,  87,  85],\n         [ 78,  79,  77]]],\n\n\n       [[[ 96,  94, 100],\n         [106, 104, 110],\n         [120, 118, 124],\n         ...,\n         [108, 104, 115],\n         [117, 113, 124],\n         [100,  96, 107]],\n\n        [[102, 100, 106],\n         [105, 103, 109],\n         [107, 105, 111],\n         ...,\n         [ 90,  86,  97],\n         [110, 106, 117],\n         [111, 107, 118]],\n\n        [[ 98,  96, 102],\n         [113, 111, 117],\n         [111, 109, 115],\n         ...,\n         [ 99,  95, 106],\n         [102,  98, 109],\n         [105, 101, 112]],\n\n        ...,\n\n        [[165, 163, 169],\n         [167, 165, 171],\n         [168, 166, 172],\n         ...,\n         [159, 158, 168],\n         [159, 158, 168],\n         [158, 157, 167]],\n\n        [[160, 158, 164],\n         [158, 156, 162],\n         [166, 164, 170],\n         ...,\n         [165, 164, 174],\n         [161, 160, 170],\n         [154, 153, 163]],\n\n        [[168, 166, 172],\n         [168, 166, 172],\n         [166, 164, 170],\n         ...,\n         [163, 162, 172],\n         [159, 158, 168],\n         [159, 158, 168]]],\n\n\n       [[[145, 151, 150],\n         [146, 152, 151],\n         [148, 154, 153],\n         ...,\n         [151, 153, 153],\n         [151, 153, 153],\n         [151, 153, 153]],\n\n        [[148, 154, 153],\n         [149, 155, 154],\n         [150, 156, 155],\n         ...,\n         [149, 151, 151],\n         [150, 152, 152],\n         [150, 152, 152]],\n\n        [[150, 156, 155],\n         [150, 156, 155],\n         [150, 156, 155],\n         ...,\n         [146, 148, 148],\n         [148, 150, 150],\n         [149, 151, 151]],\n\n        ...,\n\n        [[ 70,  71,  69],\n         [ 69,  70,  68],\n         [ 69,  70,  68],\n         ...,\n         [ 73,  73,  73],\n         [ 73,  73,  73],\n         [ 73,  73,  73]],\n\n        [[ 79,  80,  78],\n         [ 76,  77,  75],\n         [ 74,  75,  73],\n         ...,\n         [ 82,  82,  82],\n         [ 82,  82,  82],\n         [ 80,  80,  80]],\n\n        [[ 71,  72,  70],\n         [ 73,  74,  72],\n         [ 78,  79,  77],\n         ...,\n         [ 78,  78,  78],\n         [ 77,  77,  77],\n         [ 83,  83,  83]]]], dtype=uint8)"
     },
     "execution_count": 16,
     "metadata": {},
     "output_type": "execute_result"
    }
   ],
   "source": [
    "val_x = np.asarray(val_x)\n",
    "val_x"
   ],
   "metadata": {
    "collapsed": false,
    "pycharm": {
     "name": "#%%\n"
    }
   }
  },
  {
   "cell_type": "code",
   "execution_count": 7,
   "outputs": [
    {
     "name": "stdout",
     "output_type": "stream",
     "text": [
      "Model: \"sequential\"\n",
      "_________________________________________________________________\n",
      " Layer (type)                Output Shape              Param #   \n",
      "=================================================================\n",
      " flatten (Flatten)           (None, 49152)             0         \n",
      "                                                                 \n",
      " dense (Dense)               (None, 512)               25166336  \n",
      "                                                                 \n",
      " dense_1 (Dense)             (None, 512)               262656    \n",
      "                                                                 \n",
      " dense_2 (Dense)             (None, 512)               262656    \n",
      "                                                                 \n",
      " dense_3 (Dense)             (None, 42)                21546     \n",
      "                                                                 \n",
      "=================================================================\n",
      "Total params: 25,713,194\n",
      "Trainable params: 25,713,194\n",
      "Non-trainable params: 0\n",
      "_________________________________________________________________\n"
     ]
    }
   ],
   "source": [
    "baseline_1 = Sequential()\n",
    "\n",
    "baseline_1.add(InputLayer(input_shape=(128, 128, 3)))\n",
    "baseline_1.add(Flatten())\n",
    "baseline_1.add(Dense(units=512, activation=relu))\n",
    "baseline_1.add(Dense(units=512, activation=relu))\n",
    "baseline_1.add(Dense(units=512, activation=relu))\n",
    "baseline_1.add(Dense(units=42, activation=sigmoid))\n",
    "\n",
    "baseline_1.summary()"
   ],
   "metadata": {
    "collapsed": false,
    "pycharm": {
     "name": "#%%\n"
    }
   }
  },
  {
   "cell_type": "code",
   "execution_count": 8,
   "outputs": [
    {
     "data": {
      "image/png": "[encoded data removed]",
      "text/plain": "<IPython.core.display.Image object>"
     },
     "execution_count": 8,
     "metadata": {},
     "output_type": "execute_result"
    }
   ],
   "source": [
    "plot_model(baseline_1,\n",
    "           to_file='../models/baseline_1.png',\n",
    "           show_shapes=True,\n",
    "           show_dtype=True,\n",
    "           show_layer_names=True)"
   ],
   "metadata": {
    "collapsed": false,
    "pycharm": {
     "name": "#%%\n"
    }
   }
  },
  {
   "cell_type": "code",
   "execution_count": 17,
   "outputs": [],
   "source": [
    "train_generator = ImageDataGenerator(rescale=1. / 255)\n",
    "val_generator = ImageDataGenerator(rescale=1. / 255)\n",
    "\n",
    "train_gen = train_generator.flow(X, y, batch_size=32)\n",
    "val_gen = val_generator.flow(val_x, val_y, batch_size=32)"
   ],
   "metadata": {
    "collapsed": false,
    "pycharm": {
     "name": "#%%\n"
    }
   }
  },
  {
   "cell_type": "code",
   "execution_count": 19,
   "outputs": [
    {
     "name": "stdout",
     "output_type": "stream",
     "text": [
      "Epoch 1/20\n",
      "1218/1218 [==============================] - 69s 54ms/step - loss: 0.1403 - accuracy: 0.2149 - val_loss: 0.0973 - val_accuracy: 0.2732\n",
      "Epoch 2/20\n",
      "1218/1218 [==============================] - 44s 36ms/step - loss: 0.0874 - accuracy: 0.2753 - val_loss: 0.0853 - val_accuracy: 0.3098\n",
      "Epoch 3/20\n",
      "1218/1218 [==============================] - 44s 36ms/step - loss: 0.0755 - accuracy: 0.3129 - val_loss: 0.0810 - val_accuracy: 0.3494\n",
      "Epoch 4/20\n",
      "1218/1218 [==============================] - 44s 36ms/step - loss: 0.0696 - accuracy: 0.3171 - val_loss: 0.0766 - val_accuracy: 0.3121\n",
      "Epoch 5/20\n",
      "1218/1218 [==============================] - 44s 36ms/step - loss: 0.0629 - accuracy: 0.3273 - val_loss: 0.0606 - val_accuracy: 0.3152\n",
      "Epoch 6/20\n",
      "1218/1218 [==============================] - 45s 37ms/step - loss: 0.0589 - accuracy: 0.3285 - val_loss: 0.0622 - val_accuracy: 0.3325\n",
      "Epoch 7/20\n",
      "1218/1218 [==============================] - 46s 38ms/step - loss: 0.0563 - accuracy: 0.3415 - val_loss: 0.0587 - val_accuracy: 0.2798\n",
      "Epoch 8/20\n",
      "1218/1218 [==============================] - 47s 38ms/step - loss: 0.0536 - accuracy: 0.3499 - val_loss: 0.0571 - val_accuracy: 0.3339\n",
      "Epoch 9/20\n",
      "1218/1218 [==============================] - 46s 38ms/step - loss: 0.0513 - accuracy: 0.3657 - val_loss: 0.0569 - val_accuracy: 0.3575\n",
      "Epoch 10/20\n",
      "1218/1218 [==============================] - 45s 37ms/step - loss: 0.0503 - accuracy: 0.3566 - val_loss: 0.0562 - val_accuracy: 0.3633\n",
      "Epoch 11/20\n",
      "1218/1218 [==============================] - 46s 38ms/step - loss: 0.0481 - accuracy: 0.3681 - val_loss: 0.0539 - val_accuracy: 0.3568\n",
      "Epoch 12/20\n",
      "1218/1218 [==============================] - 45s 37ms/step - loss: 0.0472 - accuracy: 0.3681 - val_loss: 0.0516 - val_accuracy: 0.3895\n",
      "Epoch 13/20\n",
      "1218/1218 [==============================] - 46s 37ms/step - loss: 0.0461 - accuracy: 0.3623 - val_loss: 0.0589 - val_accuracy: 0.3299\n",
      "Epoch 14/20\n",
      "1218/1218 [==============================] - 46s 37ms/step - loss: 0.0446 - accuracy: 0.3780 - val_loss: 0.0538 - val_accuracy: 0.3478\n",
      "Epoch 15/20\n",
      "1218/1218 [==============================] - 48s 39ms/step - loss: 0.0439 - accuracy: 0.3832 - val_loss: 0.0560 - val_accuracy: 0.4028\n",
      "Epoch 16/20\n",
      "1218/1218 [==============================] - 46s 38ms/step - loss: 0.0432 - accuracy: 0.4005 - val_loss: 0.0561 - val_accuracy: 0.3704\n",
      "Epoch 17/20\n",
      "1218/1218 [==============================] - 48s 40ms/step - loss: 0.0410 - accuracy: 0.3825 - val_loss: 0.0608 - val_accuracy: 0.3664\n",
      "Epoch 18/20\n",
      "1218/1218 [==============================] - 46s 38ms/step - loss: 0.0412 - accuracy: 0.3885 - val_loss: 0.0567 - val_accuracy: 0.3488\n",
      "Epoch 19/20\n",
      "1218/1218 [==============================] - 46s 37ms/step - loss: 0.0409 - accuracy: 0.3967 - val_loss: 0.0519 - val_accuracy: 0.3641\n",
      "Epoch 20/20\n",
      "1218/1218 [==============================] - 46s 38ms/step - loss: 0.0396 - accuracy: 0.3842 - val_loss: 0.0541 - val_accuracy: 0.3568\n"
     ]
    }
   ],
   "source": [
    "baseline_1.compile(optimizer=Adam(),\n",
    "                   loss=binary_crossentropy,\n",
    "                   metrics=['accuracy'])\n",
    "\n",
    "history = baseline_1.fit(train_gen,batch_size=32,epochs=20,validation_data=val_gen)"
   ],
   "metadata": {
    "collapsed": false,
    "pycharm": {
     "name": "#%%\n"
    }
   }
  }
 ],
 "metadata": {
  "kernelspec": {
   "display_name": "Python 3",
   "language": "python",
   "name": "python3"
  },
  "language_info": {
   "codemirror_mode": {
    "name": "ipython",
    "version": 2
   },
   "file_extension": ".py",
   "mimetype": "text/x-python",
   "name": "python",
   "nbconvert_exporter": "python",
   "pygments_lexer": "ipython2",
   "version": "2.7.6"
  }
 },
 "nbformat": 4,
 "nbformat_minor": 0
}