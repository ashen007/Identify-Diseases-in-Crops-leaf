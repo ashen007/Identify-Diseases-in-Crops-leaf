{
 "cells": [
  {
   "cell_type": "markdown",
   "source": [
    "## Experimental convolutions net"
   ],
   "metadata": {
    "collapsed": false,
    "pycharm": {
     "name": "#%% md\n"
    }
   }
  },
  {
   "cell_type": "code",
   "execution_count": null,
   "metadata": {
    "collapsed": true
   },
   "outputs": [],
   "source": [
    "import os\n",
    "import numpy as np\n",
    "import pandas as pd\n",
    "import seaborn as sns\n",
    "import cv2 as cv\n",
    "\n",
    "import tensorflow as tf\n",
    "from matplotlib import pyplot as plt\n",
    "from sklearn.preprocessing import MultiLabelBinarizer\n",
    "from tensorflow.keras.preprocessing.image import ImageDataGenerator\n",
    "from tensorflow.keras.models import Sequential\n",
    "from tensorflow.keras.layers import InputLayer, Dense, Flatten, Conv2D, MaxPooling2D, Dropout, BatchNormalization\n",
    "from tensorflow.keras.activations import relu, sigmoid\n",
    "from tensorflow.keras.optimizers import RMSprop, Adam\n",
    "from tensorflow.keras.losses import binary_crossentropy\n",
    "from tensorflow.keras.metrics import Precision, Recall, AUC\n",
    "from tensorflow.keras.utils import plot_model\n",
    "from tensorflow.keras.callbacks import ModelCheckpoint, EarlyStopping"
   ]
  },
  {
   "cell_type": "code",
   "execution_count": null,
   "outputs": [],
   "source": [
    "tree_types = os.listdir('../data/image data/train')\n",
    "X = []\n",
    "y = []\n",
    "val_x = []\n",
    "val_y = []\n",
    "\n",
    "for tree in tree_types:\n",
    "    tree_path = os.path.join('../data/image data/train', tree)\n",
    "    tree_disease_types = os.listdir(tree_path)\n",
    "\n",
    "    for disease in tree_disease_types:\n",
    "        img_name = os.listdir(os.path.join(tree_path, disease))\n",
    "\n",
    "        for img in img_name:\n",
    "            image_path = os.path.join(tree_path, disease, img)\n",
    "            image = cv.resize(cv.imread(image_path), dsize=(96, 96))\n",
    "            X.append(tf.image.rgb_to_grayscale(image))\n",
    "            y.append([tree, disease])\n",
    "\n",
    "for tree in tree_types:\n",
    "    tree_path = os.path.join('../data/image data/validation', tree)\n",
    "    tree_disease_types = os.listdir(tree_path)\n",
    "\n",
    "    for disease in tree_disease_types:\n",
    "        img_name = os.listdir(os.path.join(tree_path, disease))\n",
    "\n",
    "        for img in img_name:\n",
    "            image_path = os.path.join(tree_path, disease, img)\n",
    "            image = cv.resize(cv.imread(image_path), dsize=(96, 96))\n",
    "            val_x.append(tf.image.rgb_to_grayscale(image))\n",
    "            val_y.append([tree, disease])"
   ],
   "metadata": {
    "collapsed": false,
    "pycharm": {
     "name": "#%%\n"
    }
   }
  },
  {
   "cell_type": "code",
   "execution_count": null,
   "outputs": [],
   "source": [
    "X = np.asarray(X)\n",
    "val_x = np.asarray(val_x)\n",
    "mlb = MultiLabelBinarizer()\n",
    "y = mlb.fit_transform(y)\n",
    "val_y = mlb.transform(val_y)"
   ],
   "metadata": {
    "collapsed": false,
    "pycharm": {
     "name": "#%%\n"
    }
   }
  },
  {
   "cell_type": "code",
   "execution_count": null,
   "outputs": [],
   "source": [
    "train_generator = ImageDataGenerator(rescale=1. / 255)\n",
    "val_generator = ImageDataGenerator(rescale=1. / 255)\n",
    "\n",
    "train_gen = train_generator.flow(X, y, batch_size=64)\n",
    "val_gen = val_generator.flow(val_x, val_y, batch_size=64)"
   ],
   "metadata": {
    "collapsed": false,
    "pycharm": {
     "name": "#%%\n"
    }
   }
  },
  {
   "cell_type": "code",
   "execution_count": null,
   "outputs": [],
   "source": [
    "check_pointer = ModelCheckpoint(filepath='checkpoints/exp_conv_3.hdf5',\n",
    "                                save_best_only=True)\n",
    "\n",
    "early_stop = EarlyStopping(monitor='val_loss',\n",
    "                           patience=15,\n",
    "                           min_delta=0)"
   ],
   "metadata": {
    "collapsed": false,
    "pycharm": {
     "name": "#%%\n"
    }
   }
  },
  {
   "cell_type": "code",
   "execution_count": null,
   "outputs": [],
   "source": [
    "exp_conv = Sequential()\n",
    "\n",
    "exp_conv.add(InputLayer(input_shape=(96, 96, 3)))\n",
    "exp_conv.add(Conv2D(filters=32, kernel_size=(3, 3), padding='same', activation=relu))\n",
    "exp_conv.add(MaxPooling2D(pool_size=(2, 2)))\n",
    "exp_conv.add(Dropout(0.25))\n",
    "\n",
    "exp_conv.add(Conv2D(filters=64, kernel_size=(3, 3), padding='same', activation=relu))\n",
    "\n",
    "exp_conv.add(Conv2D(filters=64, kernel_size=(3, 3), padding='same', activation=relu))\n",
    "exp_conv.add(MaxPooling2D(pool_size=(2, 2)))\n",
    "exp_conv.add(Dropout(0.25))\n",
    "\n",
    "exp_conv.add(Conv2D(filters=128, kernel_size=(3, 3), padding='same', activation=relu))\n",
    "exp_conv.add(MaxPooling2D(pool_size=(2, 2)))\n",
    "exp_conv.add(Dropout(0.35))\n",
    "\n",
    "exp_conv.add(Flatten())\n",
    "exp_conv.add(Dense(units=512, activation=relu))\n",
    "exp_conv.add(Dropout(0.3))\n",
    "exp_conv.add(Dense(units=42, activation=sigmoid))\n",
    "\n",
    "exp_conv.summary()"
   ],
   "metadata": {
    "collapsed": false,
    "pycharm": {
     "name": "#%%\n"
    }
   }
  },
  {
   "cell_type": "code",
   "execution_count": null,
   "outputs": [],
   "source": [
    "plot_model(exp_conv,\n",
    "           to_file='../models/exp_conv_3.png',\n",
    "           show_shapes=True,\n",
    "           show_dtype=True,\n",
    "           show_layer_names=True)"
   ],
   "metadata": {
    "collapsed": false,
    "pycharm": {
     "name": "#%%\n"
    }
   }
  },
  {
   "cell_type": "code",
   "execution_count": null,
   "outputs": [],
   "source": [
    "exp_conv.compile(optimizer=Adam(),\n",
    "                 loss=binary_crossentropy,\n",
    "                 metrics=[Recall, Precision])\n",
    "\n",
    "history = exp_conv.fit(train_gen,\n",
    "                       epochs=50,\n",
    "                       validation_data=val_gen,\n",
    "                       callbacks=[check_pointer],\n",
    "                       shuffle=True)"
   ],
   "metadata": {
    "collapsed": false,
    "pycharm": {
     "name": "#%%\n"
    }
   }
  }
 ],
 "metadata": {
  "kernelspec": {
   "display_name": "Python 3",
   "language": "python",
   "name": "python3"
  },
  "language_info": {
   "codemirror_mode": {
    "name": "ipython",
    "version": 2
   },
   "file_extension": ".py",
   "mimetype": "text/x-python",
   "name": "python",
   "nbconvert_exporter": "python",
   "pygments_lexer": "ipython2",
   "version": "2.7.6"
  }
 },
 "nbformat": 4,
 "nbformat_minor": 0
}