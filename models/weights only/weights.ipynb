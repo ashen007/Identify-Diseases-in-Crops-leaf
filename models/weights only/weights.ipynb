{
 "cells": [
  {
   "cell_type": "markdown",
   "source": [
    "## weights of models fully trained"
   ],
   "metadata": {
    "collapsed": false
   }
  },
  {
   "cell_type": "code",
   "execution_count": 8,
   "metadata": {
    "collapsed": true
   },
   "outputs": [],
   "source": [
    "import os\n",
    "import tensorflow as tf\n",
    "from tensorflow.keras.models import load_model"
   ]
  },
  {
   "cell_type": "code",
   "execution_count": 2,
   "outputs": [
    {
     "data": {
      "text/plain": "<keras.engine.sequential.Sequential at 0x195daca57f0>"
     },
     "execution_count": 2,
     "metadata": {},
     "output_type": "execute_result"
    }
   ],
   "source": [
    "model = load_model(filepath='../checkpoints/exp_conv_3.hdf5')\n",
    "model"
   ],
   "metadata": {
    "collapsed": false,
    "pycharm": {
     "name": "#%%\n"
    }
   }
  },
  {
   "cell_type": "code",
   "execution_count": 5,
   "outputs": [
    {
     "data": {
      "text/plain": "[<keras.layers.convolutional.Conv2D at 0x195815e9460>,\n <keras.layers.pooling.MaxPooling2D at 0x195815e9340>,\n <keras.layers.convolutional.Conv2D at 0x1958161bd30>,\n <keras.layers.pooling.MaxPooling2D at 0x1958060e340>,\n <keras.layers.convolutional.Conv2D at 0x19580600e80>,\n <keras.layers.pooling.MaxPooling2D at 0x195806051f0>,\n <keras.layers.core.flatten.Flatten at 0x19580603370>,\n <keras.layers.core.dropout.Dropout at 0x19580600d90>,\n <keras.layers.core.dense.Dense at 0x19580605f10>,\n <keras.layers.core.dropout.Dropout at 0x19580600670>,\n <keras.layers.core.dense.Dense at 0x195815e9700>]"
     },
     "execution_count": 5,
     "metadata": {},
     "output_type": "execute_result"
    }
   ],
   "source": [
    "model.layers"
   ],
   "metadata": {
    "collapsed": false,
    "pycharm": {
     "name": "#%%\n"
    }
   }
  },
  {
   "cell_type": "code",
   "execution_count": 7,
   "outputs": [],
   "source": [
    "model.save_weights('exp_conv_3.h5')"
   ],
   "metadata": {
    "collapsed": false,
    "pycharm": {
     "name": "#%%\n"
    }
   }
  },
  {
   "cell_type": "code",
   "execution_count": 9,
   "outputs": [],
   "source": [
    "for file in os.listdir('../checkpoints'):\n",
    "    load_model(os.path.join('../checkpoints',file)).save_weights(file)"
   ],
   "metadata": {
    "collapsed": false,
    "pycharm": {
     "name": "#%%\n"
    }
   }
  },
  {
   "cell_type": "code",
   "execution_count": 10,
   "outputs": [],
   "source": [
    "load_model('../architecture/experiment/modified inception.hdf5').save_weights('modified_inception.hdf5')"
   ],
   "metadata": {
    "collapsed": false,
    "pycharm": {
     "name": "#%%\n"
    }
   }
  },
  {
   "cell_type": "code",
   "execution_count": 11,
   "outputs": [
    {
     "name": "stdout",
     "output_type": "stream",
     "text": [
      "INFO:tensorflow:Assets written to: ../best models/MI_WOAD_BE\\assets\n"
     ]
    }
   ],
   "source": [
    "tf.saved_model.save(obj=load_model('../architecture/experiment/modified inception.hdf5'),\n",
    "                    export_dir='../best models/MI_WOAD_BE')"
   ],
   "metadata": {
    "collapsed": false,
    "pycharm": {
     "name": "#%%\n"
    }
   }
  }
 ],
 "metadata": {
  "kernelspec": {
   "display_name": "Python 3",
   "language": "python",
   "name": "python3"
  },
  "language_info": {
   "codemirror_mode": {
    "name": "ipython",
    "version": 2
   },
   "file_extension": ".py",
   "mimetype": "text/x-python",
   "name": "python",
   "nbconvert_exporter": "python",
   "pygments_lexer": "ipython2",
   "version": "2.7.6"
  }
 },
 "nbformat": 4,
 "nbformat_minor": 0
}