{
 "cells": [
  {
   "cell_type": "markdown",
   "source": [
    "## Convolutional Baseline modeling"
   ],
   "metadata": {
    "collapsed": false
   }
  },
  {
   "cell_type": "code",
   "execution_count": 1,
   "metadata": {
    "collapsed": true
   },
   "outputs": [],
   "source": [
    "import os\n",
    "import numpy as np\n",
    "import pandas as pd\n",
    "import seaborn as sns\n",
    "import cv2 as cv\n",
    "\n",
    "from matplotlib import pyplot as plt\n",
    "from sklearn.preprocessing import MultiLabelBinarizer\n",
    "from tensorflow.keras.preprocessing.image import ImageDataGenerator\n",
    "from tensorflow.keras.models import Sequential\n",
    "from tensorflow.keras.layers import InputLayer, Dense, Flatten, Conv2D, MaxPooling2D\n",
    "from tensorflow.keras.activations import relu, sigmoid\n",
    "from tensorflow.keras.optimizers import Adam\n",
    "from tensorflow.keras.losses import binary_crossentropy\n",
    "from tensorflow.keras.utils import plot_model"
   ]
  },
  {
   "cell_type": "code",
   "execution_count": 2,
   "outputs": [],
   "source": [
    "tree_types = os.listdir('../data/image data/train')\n",
    "X = []\n",
    "y = []\n",
    "\n",
    "for tree in tree_types:\n",
    "    tree_path = os.path.join('../data/image data/train', tree)\n",
    "    tree_disease_types = os.listdir(tree_path)\n",
    "\n",
    "    for disease in tree_disease_types:\n",
    "        img_name = os.listdir(os.path.join(tree_path, disease))\n",
    "\n",
    "        for img in img_name:\n",
    "            image_path = os.path.join(tree_path, disease, img)\n",
    "            image = cv.resize(cv.imread(image_path), dsize=(128, 128))\n",
    "            X.append(image)\n",
    "            y.append([tree, disease])"
   ],
   "metadata": {
    "collapsed": false,
    "pycharm": {
     "name": "#%%\n"
    }
   }
  },
  {
   "cell_type": "code",
   "execution_count": 3,
   "outputs": [],
   "source": [
    "val_x = []\n",
    "val_y = []\n",
    "\n",
    "for tree in tree_types:\n",
    "    tree_path = os.path.join('../data/image data/validation', tree)\n",
    "    tree_disease_types = os.listdir(tree_path)\n",
    "\n",
    "    for disease in tree_disease_types:\n",
    "        img_name = os.listdir(os.path.join(tree_path, disease))\n",
    "\n",
    "        for img in img_name:\n",
    "            image_path = os.path.join(tree_path, disease, img)\n",
    "            image = cv.resize(cv.imread(image_path), dsize=(128, 128))\n",
    "            val_x.append(image)\n",
    "            val_y.append([tree, disease])"
   ],
   "metadata": {
    "collapsed": false,
    "pycharm": {
     "name": "#%%\n"
    }
   }
  },
  {
   "cell_type": "code",
   "execution_count": 4,
   "outputs": [],
   "source": [
    "X = np.asarray(X)\n",
    "val_x = np.asarray(val_x)"
   ],
   "metadata": {
    "collapsed": false,
    "pycharm": {
     "name": "#%%\n"
    }
   }
  },
  {
   "cell_type": "code",
   "execution_count": 5,
   "outputs": [],
   "source": [
    "mlb = MultiLabelBinarizer()\n",
    "y = mlb.fit_transform(y)\n",
    "val_y = mlb.transform(val_y)"
   ],
   "metadata": {
    "collapsed": false,
    "pycharm": {
     "name": "#%%\n"
    }
   }
  },
  {
   "cell_type": "code",
   "execution_count": 6,
   "outputs": [],
   "source": [
    "train_generator = ImageDataGenerator(rescale=1. / 255)\n",
    "val_generator = ImageDataGenerator(rescale=1. / 255)\n",
    "\n",
    "train_gen = train_generator.flow(X, y, batch_size=32)\n",
    "val_gen = val_generator.flow(val_x, val_y, batch_size=32)"
   ],
   "metadata": {
    "collapsed": false,
    "pycharm": {
     "name": "#%%\n"
    }
   }
  },
  {
   "cell_type": "code",
   "execution_count": null,
   "outputs": [],
   "source": [],
   "metadata": {
    "collapsed": false,
    "pycharm": {
     "name": "#%%\n"
    }
   }
  }
 ],
 "metadata": {
  "kernelspec": {
   "display_name": "Python 3",
   "language": "python",
   "name": "python3"
  },
  "language_info": {
   "codemirror_mode": {
    "name": "ipython",
    "version": 2
   },
   "file_extension": ".py",
   "mimetype": "text/x-python",
   "name": "python",
   "nbconvert_exporter": "python",
   "pygments_lexer": "ipython2",
   "version": "2.7.6"
  }
 },
 "nbformat": 4,
 "nbformat_minor": 0
}