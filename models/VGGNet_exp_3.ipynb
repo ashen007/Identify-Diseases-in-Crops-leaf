{
 "metadata": {
  "kernelspec": {
   "language": "python",
   "display_name": "Python 3",
   "name": "python3"
  },
  "language_info": {
   "name": "python",
   "version": "3.7.12",
   "mimetype": "text/x-python",
   "codemirror_mode": {
    "name": "ipython",
    "version": 3
   },
   "pygments_lexer": "ipython3",
   "nbconvert_exporter": "python",
   "file_extension": ".py"
  }
 },
 "nbformat_minor": 4,
 "nbformat": 4,
 "cells": [
  {
   "cell_type": "code",
   "source": [
    "import os\n",
    "import shutil\n",
    "import numpy as np\n",
    "import pandas as pd\n",
    "import seaborn as sns\n",
    "import cv2 as cv\n",
    "\n",
    "import tensorflow as tf\n",
    "from matplotlib import pyplot as plt\n",
    "from sklearn.preprocessing import MultiLabelBinarizer\n",
    "from sklearn.metrics import multilabel_confusion_matrix\n",
    "from tensorflow.keras.preprocessing.image import ImageDataGenerator\n",
    "from tensorflow.keras.models import Sequential\n",
    "from tensorflow.keras.layers import InputLayer, Dense, Flatten, Conv2D, MaxPooling2D, Dropout, BatchNormalization\n",
    "from tensorflow.keras.activations import relu, sigmoid\n",
    "from tensorflow.keras.optimizers import Adam\n",
    "from tensorflow.keras.losses import binary_crossentropy\n",
    "from tensorflow.keras.metrics import Precision, Recall, AUC\n",
    "from tensorflow.keras.utils import plot_model, save_img\n",
    "from tensorflow.keras.callbacks import ModelCheckpoint, EarlyStopping, ReduceLROnPlateau\n",
    "from tensorflow.keras.preprocessing.image import load_img, img_to_array"
   ],
   "metadata": {
    "_uuid": "8f2839f25d086af736a60e9eeb907d3b93b6e0e5",
    "_cell_guid": "b1076dfc-b9ad-4769-8c92-a6c4dae69d19",
    "execution": {
     "iopub.status.busy": "2022-01-04T04:07:44.567396Z",
     "iopub.execute_input": "2022-01-04T04:07:44.567802Z",
     "iopub.status.idle": "2022-01-04T04:07:50.441179Z",
     "shell.execute_reply.started": "2022-01-04T04:07:44.567687Z",
     "shell.execute_reply": "2022-01-04T04:07:50.440437Z"
    },
    "trusted": true
   },
   "execution_count": 1,
   "outputs": []
  },
  {
   "cell_type": "code",
   "source": [
    "base_dir = '../input'"
   ],
   "metadata": {
    "execution": {
     "iopub.status.busy": "2022-01-04T04:07:50.442878Z",
     "iopub.execute_input": "2022-01-04T04:07:50.443119Z",
     "iopub.status.idle": "2022-01-04T04:07:50.449662Z",
     "shell.execute_reply.started": "2022-01-04T04:07:50.443086Z",
     "shell.execute_reply": "2022-01-04T04:07:50.448510Z"
    },
    "trusted": true
   },
   "execution_count": 2,
   "outputs": []
  },
  {
   "cell_type": "code",
   "source": [
    "cassava_dir = os.path.join(base_dir, 'cassava-leaf-disease-classification')\n",
    "plant_village_dir = os.path.join(base_dir, 'plantvillage-dataset')\n",
    "rice_dir = os.path.join(base_dir, 'rice-leaf-images/rice_images')"
   ],
   "metadata": {
    "execution": {
     "iopub.status.busy": "2022-01-04T04:07:50.450708Z",
     "iopub.execute_input": "2022-01-04T04:07:50.451075Z",
     "iopub.status.idle": "2022-01-04T04:07:50.464995Z",
     "shell.execute_reply.started": "2022-01-04T04:07:50.451042Z",
     "shell.execute_reply": "2022-01-04T04:07:50.464237Z"
    },
    "trusted": true
   },
   "execution_count": 3,
   "outputs": []
  },
  {
   "cell_type": "code",
   "source": [
    "fnames = []\n",
    "\n",
    "for dir in os.listdir(os.path.join(plant_village_dir, 'color')):\n",
    "    columns = dir.split('___')\n",
    "    columns.append(dir)\n",
    "    fnames.append(columns)"
   ],
   "metadata": {
    "execution": {
     "iopub.status.busy": "2022-01-04T04:07:50.466038Z",
     "iopub.execute_input": "2022-01-04T04:07:50.466401Z",
     "iopub.status.idle": "2022-01-04T04:07:50.483056Z",
     "shell.execute_reply.started": "2022-01-04T04:07:50.466367Z",
     "shell.execute_reply": "2022-01-04T04:07:50.482439Z"
    },
    "trusted": true
   },
   "execution_count": 4,
   "outputs": []
  },
  {
   "cell_type": "code",
   "source": [
    "fnames = pd.DataFrame(fnames, columns=['Tree type', 'Disease', 'Folder'])\n",
    "fnames"
   ],
   "metadata": {
    "execution": {
     "iopub.status.busy": "2022-01-04T04:07:50.485292Z",
     "iopub.execute_input": "2022-01-04T04:07:50.485559Z",
     "iopub.status.idle": "2022-01-04T04:07:50.509022Z",
     "shell.execute_reply.started": "2022-01-04T04:07:50.485524Z",
     "shell.execute_reply": "2022-01-04T04:07:50.508329Z"
    },
    "trusted": true
   },
   "execution_count": 5,
   "outputs": []
  },
  {
   "cell_type": "code",
   "source": [
    "fnames.drop([4, 17, 33], axis=0, inplace=True)"
   ],
   "metadata": {
    "execution": {
     "iopub.status.busy": "2022-01-04T04:07:50.510324Z",
     "iopub.execute_input": "2022-01-04T04:07:50.510578Z",
     "iopub.status.idle": "2022-01-04T04:07:50.516346Z",
     "shell.execute_reply.started": "2022-01-04T04:07:50.510546Z",
     "shell.execute_reply": "2022-01-04T04:07:50.515490Z"
    },
    "trusted": true
   },
   "execution_count": 6,
   "outputs": []
  },
  {
   "cell_type": "code",
   "source": [
    "fnames['Disease'] = fnames['Disease'].str.replace('_', ' ')\n",
    "fnames['Disease'] = fnames['Disease'].str.lstrip()\n",
    "fnames['Tree type'] = fnames['Tree type'].str.replace('_', ' ')\n",
    "fnames['Tree type'] = fnames['Tree type'].str.lstrip()\n",
    "fnames"
   ],
   "metadata": {
    "execution": {
     "iopub.status.busy": "2022-01-04T04:07:50.517521Z",
     "iopub.execute_input": "2022-01-04T04:07:50.518039Z",
     "iopub.status.idle": "2022-01-04T04:07:50.539229Z",
     "shell.execute_reply.started": "2022-01-04T04:07:50.518005Z",
     "shell.execute_reply": "2022-01-04T04:07:50.538582Z"
    },
    "trusted": true
   },
   "execution_count": 7,
   "outputs": []
  },
  {
   "cell_type": "code",
   "source": [
    "os.mkdir('image data')"
   ],
   "metadata": {
    "execution": {
     "iopub.status.busy": "2022-01-04T04:07:50.541100Z",
     "iopub.execute_input": "2022-01-04T04:07:50.541311Z",
     "iopub.status.idle": "2022-01-04T04:07:50.545679Z",
     "shell.execute_reply.started": "2022-01-04T04:07:50.541287Z",
     "shell.execute_reply": "2022-01-04T04:07:50.544829Z"
    },
    "trusted": true
   },
   "execution_count": 8,
   "outputs": []
  },
  {
   "cell_type": "code",
   "source": [
    "os.mkdir(os.path.join('image data', 'train'))\n",
    "os.mkdir(os.path.join('image data', 'validation'))\n",
    "os.mkdir(os.path.join('image data', 'test'))"
   ],
   "metadata": {
    "execution": {
     "iopub.status.busy": "2022-01-04T04:07:50.547289Z",
     "iopub.execute_input": "2022-01-04T04:07:50.547558Z",
     "iopub.status.idle": "2022-01-04T04:07:50.553523Z",
     "shell.execute_reply.started": "2022-01-04T04:07:50.547524Z",
     "shell.execute_reply": "2022-01-04T04:07:50.552639Z"
    },
    "trusted": true
   },
   "execution_count": 9,
   "outputs": []
  },
  {
   "cell_type": "code",
   "source": [
    "train_path = os.path.join('image data/train')\n",
    "val_path = os.path.join('image data/validation')\n",
    "test_path = os.path.join('image data/test')"
   ],
   "metadata": {
    "execution": {
     "iopub.status.busy": "2022-01-04T04:07:50.555013Z",
     "iopub.execute_input": "2022-01-04T04:07:50.555381Z",
     "iopub.status.idle": "2022-01-04T04:07:50.561256Z",
     "shell.execute_reply.started": "2022-01-04T04:07:50.555348Z",
     "shell.execute_reply": "2022-01-04T04:07:50.560615Z"
    },
    "trusted": true
   },
   "execution_count": 10,
   "outputs": []
  },
  {
   "cell_type": "code",
   "source": [
    "for tree in fnames['Tree type'].unique().tolist():\n",
    "    # create directory for tree\n",
    "    path_1 = os.path.join(train_path, tree)\n",
    "    path_2 = os.path.join(test_path, tree)\n",
    "    path_3 = os.path.join(val_path, tree)\n",
    "\n",
    "    os.mkdir(path_1)\n",
    "    os.mkdir(path_2)\n",
    "    os.mkdir(path_3)\n",
    "\n",
    "    for disease, folder in fnames[fnames['Tree type'] == tree][['Disease', 'Folder']].values.tolist():\n",
    "        # create directory to each disease\n",
    "        sub_path_1 = os.path.join(path_1, disease.strip())\n",
    "        sub_path_2 = os.path.join(path_2, disease.strip())\n",
    "        sub_path_3 = os.path.join(path_3, disease.strip())\n",
    "\n",
    "        os.mkdir(sub_path_1)\n",
    "        os.mkdir(sub_path_2)\n",
    "        os.mkdir(sub_path_3)\n",
    "\n",
    "        # read data from source folder\n",
    "        src = os.path.join(plant_village_dir, 'color', folder)\n",
    "        image_count = len(os.listdir(src))\n",
    "        test_img_count = image_count // 10\n",
    "        val_img_count = (image_count - test_img_count) // 5\n",
    "        train_img_count = image_count - (test_img_count + val_img_count)\n",
    "        counts = [train_img_count, test_img_count, val_img_count]\n",
    "        splits = [sub_path_1, sub_path_2, sub_path_3]\n",
    "\n",
    "        for i in range(3):\n",
    "            images = os.listdir(src)\n",
    "            for j in images[:counts[i]]:\n",
    "                shutil.copyfile(src=os.path.join(src, j),\n",
    "                                dst=os.path.join(splits[i], j))"
   ],
   "metadata": {
    "execution": {
     "iopub.status.busy": "2022-01-04T04:07:50.562761Z",
     "iopub.execute_input": "2022-01-04T04:07:50.563053Z",
     "iopub.status.idle": "2022-01-04T04:11:11.870564Z",
     "shell.execute_reply.started": "2022-01-04T04:07:50.563018Z",
     "shell.execute_reply": "2022-01-04T04:11:11.869812Z"
    },
    "trusted": true
   },
   "execution_count": 11,
   "outputs": []
  },
  {
   "cell_type": "code",
   "source": [
    "os.mkdir(os.path.join(train_path, 'Rice'))\n",
    "os.mkdir(os.path.join(test_path, 'Rice'))\n",
    "os.mkdir(os.path.join(val_path, 'Rice'))"
   ],
   "metadata": {
    "execution": {
     "iopub.status.busy": "2022-01-04T04:11:11.872073Z",
     "iopub.execute_input": "2022-01-04T04:11:11.872325Z",
     "iopub.status.idle": "2022-01-04T04:11:11.880217Z",
     "shell.execute_reply.started": "2022-01-04T04:11:11.872289Z",
     "shell.execute_reply": "2022-01-04T04:11:11.879489Z"
    },
    "trusted": true
   },
   "execution_count": 12,
   "outputs": []
  },
  {
   "cell_type": "code",
   "source": [
    "source_dirs = os.listdir(rice_dir)\n",
    "\n",
    "for source in source_dirs:\n",
    "    src = os.path.join(rice_dir, source)\n",
    "    image_count = len(os.listdir(src))\n",
    "    test_img_count = image_count // 10\n",
    "    val_img_count = (image_count - test_img_count) // 5\n",
    "    train_img_count = image_count - (test_img_count + val_img_count)\n",
    "    path_1 = os.path.join('image data/train/Rice', source.replace('_', ''))\n",
    "    path_2 = os.path.join('image data/test/Rice', source.replace('_', ''))\n",
    "    path_3 = os.path.join('image data/validation/Rice', source.replace('_', ''))\n",
    "\n",
    "    os.mkdir(path_1)\n",
    "    os.mkdir(path_2)\n",
    "    os.mkdir(path_3)\n",
    "    paths = [path_1, path_2, path_3]\n",
    "    split_counts = [train_img_count, test_img_count, val_img_count]\n",
    "\n",
    "    for i in range(3):\n",
    "        images = os.listdir(src)\n",
    "        for j in images[:split_counts[i]]:\n",
    "            shutil.copyfile(src=os.path.join(src, j),\n",
    "                            dst=os.path.join(paths[i], j))"
   ],
   "metadata": {
    "execution": {
     "iopub.status.busy": "2022-01-04T04:11:11.881782Z",
     "iopub.execute_input": "2022-01-04T04:11:11.882059Z",
     "iopub.status.idle": "2022-01-04T04:11:23.342186Z",
     "shell.execute_reply.started": "2022-01-04T04:11:11.882029Z",
     "shell.execute_reply": "2022-01-04T04:11:23.341410Z"
    },
    "trusted": true
   },
   "execution_count": 13,
   "outputs": []
  },
  {
   "cell_type": "code",
   "source": [
    "disease_map = {0: \"Bacterial Blight (CBB)\",\n",
    "               1: \"Brown Streak Disease (CBSD)\",\n",
    "               2: \"Green Mottle (CGM)\",\n",
    "               3: \"Mosaic Disease (CMD)\",\n",
    "               4: \"Healthy\"}"
   ],
   "metadata": {
    "execution": {
     "iopub.status.busy": "2022-01-04T04:11:23.345901Z",
     "iopub.execute_input": "2022-01-04T04:11:23.346112Z",
     "iopub.status.idle": "2022-01-04T04:11:23.349328Z",
     "shell.execute_reply.started": "2022-01-04T04:11:23.346088Z",
     "shell.execute_reply": "2022-01-04T04:11:23.348507Z"
    },
    "trusted": true
   },
   "execution_count": 14,
   "outputs": []
  },
  {
   "cell_type": "code",
   "source": [
    "pd.read_csv('../input/cassava-leaf-disease-classification/train.csv')['label'].value_counts()"
   ],
   "metadata": {
    "execution": {
     "iopub.status.busy": "2022-01-04T04:11:23.350943Z",
     "iopub.execute_input": "2022-01-04T04:11:23.351256Z",
     "iopub.status.idle": "2022-01-04T04:11:23.358159Z",
     "shell.execute_reply.started": "2022-01-04T04:11:23.351222Z",
     "shell.execute_reply": "2022-01-04T04:11:23.357442Z"
    },
    "trusted": true
   },
   "execution_count": 15,
   "outputs": []
  },
  {
   "cell_type": "code",
   "source": [
    "os.mkdir(os.path.join(train_path, 'Cassava'))\n",
    "os.mkdir(os.path.join(test_path, 'Cassava'))\n",
    "os.mkdir(os.path.join(val_path, 'Cassava'))"
   ],
   "metadata": {
    "execution": {
     "iopub.status.busy": "2022-01-04T04:11:23.359531Z",
     "iopub.execute_input": "2022-01-04T04:11:23.359934Z",
     "iopub.status.idle": "2022-01-04T04:11:23.365555Z",
     "shell.execute_reply.started": "2022-01-04T04:11:23.359890Z",
     "shell.execute_reply": "2022-01-04T04:11:23.364901Z"
    },
    "trusted": true
   },
   "execution_count": 16,
   "outputs": []
  },
  {
   "cell_type": "code",
   "source": [
    "for disease in disease_map.values():\n",
    "    os.mkdir(os.path.join('image data/train/Cassava', disease))\n",
    "    os.mkdir(os.path.join('image data/test/Cassava', disease))\n",
    "    os.mkdir(os.path.join('image data/validation/Cassava', disease))"
   ],
   "metadata": {
    "execution": {
     "iopub.status.busy": "2022-01-04T04:11:23.366620Z",
     "iopub.execute_input": "2022-01-04T04:11:23.366919Z",
     "iopub.status.idle": "2022-01-04T04:11:23.372734Z",
     "shell.execute_reply.started": "2022-01-04T04:11:23.366881Z",
     "shell.execute_reply": "2022-01-04T04:11:23.371859Z"
    },
    "trusted": true
   },
   "execution_count": 17,
   "outputs": []
  },
  {
   "cell_type": "code",
   "source": [
    "df = pd.read_csv('../input/cassava-leaf-disease-classification/train.csv')\n",
    "\n",
    "for img in df[df['label'] == 0].reset_index().loc[:378, 'image_id']:\n",
    "    src = os.path.join(cassava_dir, 'train_images', img)\n",
    "    dst = os.path.join('image data/train/Cassava', disease_map[0], img)\n",
    "\n",
    "    if os.path.isfile(src):\n",
    "        img_ = img_to_array(load_img(src))\n",
    "        cropped = tf.image.central_crop(img_, central_fraction=0.65)\n",
    "        save_img(dst, cv.resize(src=img_to_array(cropped), dsize=(256, 256)))\n",
    "\n",
    "for img in df[df['label'] == 0].reset_index().loc[378:486, 'image_id']:\n",
    "    src = os.path.join(cassava_dir, 'train_images', img)\n",
    "    dst = os.path.join('image data/test/Cassava', disease_map[0], img)\n",
    "\n",
    "    if os.path.isfile(src):\n",
    "        img_ = img_to_array(load_img(src))\n",
    "        cropped = tf.image.central_crop(img_, central_fraction=0.65)\n",
    "        save_img(dst, cv.resize(src=img_to_array(cropped), dsize=(256, 256)))\n",
    "\n",
    "for img in df[df['label'] == 0].reset_index().loc[486:540, 'image_id']:\n",
    "    src = os.path.join(cassava_dir, 'train_images', img)\n",
    "    dst = os.path.join('image data/validation/Cassava', disease_map[0], img)\n",
    "\n",
    "    if os.path.isfile(src):\n",
    "        img_ = img_to_array(load_img(src))\n",
    "        cropped = tf.image.central_crop(img_, central_fraction=0.65)\n",
    "        save_img(dst, cv.resize(src=img_to_array(cropped), dsize=(256, 256)))"
   ],
   "metadata": {
    "execution": {
     "iopub.status.busy": "2022-01-04T04:11:23.374551Z",
     "iopub.execute_input": "2022-01-04T04:11:23.374863Z",
     "iopub.status.idle": "2022-01-04T04:11:23.380695Z",
     "shell.execute_reply.started": "2022-01-04T04:11:23.374830Z",
     "shell.execute_reply": "2022-01-04T04:11:23.379869Z"
    },
    "trusted": true
   },
   "execution_count": 18,
   "outputs": []
  },
  {
   "cell_type": "code",
   "source": [
    "for i in range(1, 4):\n",
    "    for img in df[df['label'] == i].reset_index().loc[:448, 'image_id']:\n",
    "        src = os.path.join(cassava_dir, 'train_images', img)\n",
    "        dst = os.path.join('image data/train/Cassava', disease_map[i], img)\n",
    "\n",
    "        if os.path.isfile(src):\n",
    "            img_ = img_to_array(load_img(src))\n",
    "            cropped = tf.image.central_crop(img_, central_fraction=0.65)\n",
    "            save_img(dst, cv.resize(src=img_to_array(cropped), dsize=(256, 256)))\n",
    "\n",
    "    for img in df[df['label'] == i].reset_index().loc[448:572, 'image_id']:\n",
    "        src = os.path.join(cassava_dir, 'train_images', img)\n",
    "        dst = os.path.join('image data/test/Cassava', disease_map[i], img)\n",
    "\n",
    "        if os.path.isfile(src):\n",
    "            img_ = img_to_array(load_img(src))\n",
    "            cropped = tf.image.central_crop(img_, central_fraction=0.65)\n",
    "            save_img(dst, cv.resize(src=img_to_array(cropped), dsize=(256, 256)))\n",
    "\n",
    "    for img in df[df['label'] == i].reset_index().loc[572:634, 'image_id']:\n",
    "        src = os.path.join(cassava_dir, 'train_images', img)\n",
    "        dst = os.path.join('image data/validation/Cassava', disease_map[i], img)\n",
    "\n",
    "        if os.path.isfile(src):\n",
    "            img_ = img_to_array(load_img(src))\n",
    "            cropped = tf.image.central_crop(img_, central_fraction=0.65)\n",
    "            save_img(dst, cv.resize(src=img_to_array(cropped), dsize=(256, 256)))"
   ],
   "metadata": {
    "execution": {
     "iopub.status.busy": "2022-01-04T04:11:23.382006Z",
     "iopub.execute_input": "2022-01-04T04:11:23.382369Z",
     "iopub.status.idle": "2022-01-04T04:11:23.390283Z",
     "shell.execute_reply.started": "2022-01-04T04:11:23.382255Z",
     "shell.execute_reply": "2022-01-04T04:11:23.389480Z"
    },
    "trusted": true
   },
   "execution_count": 19,
   "outputs": []
  },
  {
   "cell_type": "code",
   "source": [
    "for img in df[df['label'] == 4].reset_index().loc[:708, 'image_id']:\n",
    "    src = os.path.join(cassava_dir, 'train_images', img)\n",
    "    dst = os.path.join('image data/train/Cassava', disease_map[4], img)\n",
    "\n",
    "    if os.path.isfile(src):\n",
    "        img_ = img_to_array(load_img(src))\n",
    "        cropped = tf.image.central_crop(img_, central_fraction=0.65)\n",
    "        save_img(dst, cv.resize(src=img_to_array(cropped), dsize=(256, 256)))\n",
    "\n",
    "for img in df[df['label'] == 4].reset_index().loc[708:910, 'image_id']:\n",
    "    src = os.path.join(cassava_dir, 'train_images', img)\n",
    "    dst = os.path.join('image data/test/Cassava', disease_map[4], img)\n",
    "\n",
    "    if os.path.isfile(src):\n",
    "        img_ = img_to_array(load_img(src))\n",
    "        cropped = tf.image.central_crop(img_, central_fraction=0.65)\n",
    "        save_img(dst, cv.resize(src=img_to_array(cropped), dsize=(256, 256)))\n",
    "\n",
    "for img in df[df['label'] == 4].reset_index().loc[910:1011, 'image_id']:\n",
    "    src = os.path.join(cassava_dir, 'train_images', img)\n",
    "    dst = os.path.join('image data/validation/Cassava', disease_map[4], img)\n",
    "\n",
    "    if os.path.isfile(src):\n",
    "        img_ = img_to_array(load_img(src))\n",
    "        cropped = tf.image.central_crop(img_, central_fraction=0.65)\n",
    "        save_img(dst, cv.resize(src=img_to_array(cropped), dsize=(256, 256)))"
   ],
   "metadata": {
    "execution": {
     "iopub.status.busy": "2022-01-04T04:11:23.393248Z",
     "iopub.execute_input": "2022-01-04T04:11:23.393471Z",
     "iopub.status.idle": "2022-01-04T04:11:23.399385Z",
     "shell.execute_reply.started": "2022-01-04T04:11:23.393429Z",
     "shell.execute_reply": "2022-01-04T04:11:23.398691Z"
    },
    "trusted": true
   },
   "execution_count": 20,
   "outputs": []
  },
  {
   "cell_type": "markdown",
   "source": [
    "## modeling"
   ],
   "metadata": {}
  },
  {
   "cell_type": "code",
   "source": [
    "X = []\n",
    "y = []\n",
    "val_x = []\n",
    "val_y = []\n",
    "test_x = []\n",
    "test_y = []\n",
    "tree_types = os.listdir('image data/train')\n",
    "\n",
    "for tree in tree_types:\n",
    "    tree_path = os.path.join('image data/train', tree)\n",
    "    tree_disease_types = os.listdir(tree_path)\n",
    "\n",
    "    for disease in tree_disease_types:\n",
    "        img_name = os.listdir(os.path.join(tree_path, disease))\n",
    "\n",
    "        for img in img_name:\n",
    "            image_path = os.path.join(tree_path, disease, img)\n",
    "            image = cv.resize(cv.imread(image_path), dsize=(56, 56))\n",
    "            X.append(image)\n",
    "            y.append([tree, disease])\n",
    "\n",
    "for tree in tree_types:\n",
    "    tree_path = os.path.join('image data/validation', tree)\n",
    "    tree_disease_types = os.listdir(tree_path)\n",
    "\n",
    "    for disease in tree_disease_types:\n",
    "        img_name = os.listdir(os.path.join(tree_path, disease))\n",
    "\n",
    "        for img in img_name:\n",
    "            image_path = os.path.join(tree_path, disease, img)\n",
    "            image = cv.resize(cv.imread(image_path), dsize=(56, 56))\n",
    "            val_x.append(image)\n",
    "            val_y.append([tree, disease])\n",
    "\n",
    "for tree in tree_types:\n",
    "    tree_path = os.path.join('image data/test', tree)\n",
    "    tree_disease_types = os.listdir(tree_path)\n",
    "\n",
    "    for disease in tree_disease_types:\n",
    "        img_name = os.listdir(os.path.join(tree_path, disease))\n",
    "\n",
    "        for img in img_name:\n",
    "            image_path = os.path.join(tree_path, disease, img)\n",
    "            image = cv.resize(cv.imread(image_path), dsize=(56, 56))\n",
    "            test_x.append(image)\n",
    "            test_y.append([tree, disease])"
   ],
   "metadata": {
    "execution": {
     "iopub.status.busy": "2022-01-04T04:11:23.401951Z",
     "iopub.execute_input": "2022-01-04T04:11:23.402149Z",
     "iopub.status.idle": "2022-01-04T04:12:09.617835Z",
     "shell.execute_reply.started": "2022-01-04T04:11:23.402126Z",
     "shell.execute_reply": "2022-01-04T04:12:09.617095Z"
    },
    "trusted": true
   },
   "execution_count": 21,
   "outputs": []
  },
  {
   "cell_type": "code",
   "source": [
    "mlb = MultiLabelBinarizer()\n",
    "\n",
    "X = np.array(X)\n",
    "val_x = np.array(val_x)\n",
    "y = mlb.fit_transform(y)\n",
    "val_y = mlb.transform(val_y)\n",
    "test_y = mlb.transform(test_y)\n",
    "test_x = np.array(test_x) / 255\n",
    "val_x = val_x / 255\n",
    "X.shape, y.shape"
   ],
   "metadata": {
    "execution": {
     "iopub.status.busy": "2022-01-04T04:12:09.619134Z",
     "iopub.execute_input": "2022-01-04T04:12:09.619370Z",
     "iopub.status.idle": "2022-01-04T04:12:10.194994Z",
     "shell.execute_reply.started": "2022-01-04T04:12:09.619339Z",
     "shell.execute_reply": "2022-01-04T04:12:10.194315Z"
    },
    "trusted": true
   },
   "execution_count": 22,
   "outputs": []
  },
  {
   "cell_type": "code",
   "source": [
    "generator = ImageDataGenerator(rescale=1. / 255,\n",
    "                               rotation_range=15,\n",
    "                               width_shift_range=0.1,\n",
    "                               height_shift_range=0.1,\n",
    "                               horizontal_flip=True,\n",
    "                               vertical_flip=True\n",
    "                               )\n",
    "generator.fit(X)"
   ],
   "metadata": {
    "execution": {
     "iopub.status.busy": "2022-01-04T04:12:10.196397Z",
     "iopub.execute_input": "2022-01-04T04:12:10.196693Z",
     "iopub.status.idle": "2022-01-04T04:12:11.150912Z",
     "shell.execute_reply.started": "2022-01-04T04:12:10.196659Z",
     "shell.execute_reply": "2022-01-04T04:12:11.150181Z"
    },
    "trusted": true
   },
   "execution_count": 23,
   "outputs": []
  },
  {
   "cell_type": "code",
   "source": [
    "check_pointer = ModelCheckpoint(filepath='exp_conv_8.hdf5',\n",
    "                                save_best_only=True)\n",
    "\n",
    "early_stop = EarlyStopping(monitor='val_loss',\n",
    "                           patience=40,\n",
    "                           min_delta=0,\n",
    "                           restore_best_weights=True)\n",
    "\n",
    "reduce_lr = ReduceLROnPlateau(monitor='val_loss',\n",
    "                              factor=0.1,\n",
    "                              patience=20)"
   ],
   "metadata": {
    "execution": {
     "iopub.status.busy": "2022-01-04T04:12:11.152316Z",
     "iopub.execute_input": "2022-01-04T04:12:11.152597Z",
     "iopub.status.idle": "2022-01-04T04:12:11.157521Z",
     "shell.execute_reply.started": "2022-01-04T04:12:11.152552Z",
     "shell.execute_reply": "2022-01-04T04:12:11.156680Z"
    },
    "trusted": true
   },
   "execution_count": 24,
   "outputs": []
  },
  {
   "cell_type": "code",
   "source": [
    "# TODO: increase depth of network\n",
    "# TODO: add fully connected layers\n",
    "# TODO: decrease weight decay\n",
    "\n",
    "base_units = 32\n",
    "weight_decay = 1e-4\n",
    "exp_conv = Sequential()\n",
    "\n",
    "exp_conv.add(InputLayer(input_shape=(56, 56, 3)))\n",
    "\n",
    "# conv 1\n",
    "exp_conv.add(Conv2D(filters=base_units * 2, kernel_size=(3, 3), padding='same', activation=relu))\n",
    "exp_conv.add(BatchNormalization())\n",
    "\n",
    "# conv 2\n",
    "exp_conv.add(Conv2D(filters=base_units * 2, kernel_size=(3, 3), padding='same', activation=relu))\n",
    "exp_conv.add(BatchNormalization())\n",
    "\n",
    "# pool and dropout\n",
    "exp_conv.add(MaxPooling2D(pool_size=(2, 2)))\n",
    "exp_conv.add(Dropout(0.2))\n",
    "\n",
    "# conv 3\n",
    "exp_conv.add(Conv2D(filters=base_units * 4, kernel_size=(3, 3), padding='same', activation=relu))\n",
    "exp_conv.add(BatchNormalization())\n",
    "\n",
    "# conv 4\n",
    "exp_conv.add(Conv2D(filters=base_units * 4, kernel_size=(3, 3), padding='same', activation=relu))\n",
    "exp_conv.add(BatchNormalization())\n",
    "\n",
    "# pool and dropout\n",
    "exp_conv.add(MaxPooling2D(pool_size=(2, 2)))\n",
    "exp_conv.add(Dropout(0.3))\n",
    "\n",
    "# conv 5\n",
    "exp_conv.add(Conv2D(filters=base_units * 8, kernel_size=(3, 3), padding='same', activation=relu))\n",
    "exp_conv.add(BatchNormalization())\n",
    "\n",
    "# conv 6\n",
    "exp_conv.add(Conv2D(filters=base_units * 8, kernel_size=(3, 3), padding='same', activation=relu))\n",
    "exp_conv.add(BatchNormalization())\n",
    "\n",
    "# conv 7\n",
    "exp_conv.add(Conv2D(filters=base_units * 8, kernel_size=(3, 3), padding='same', activation=relu))\n",
    "exp_conv.add(BatchNormalization())\n",
    "\n",
    "# conv 8\n",
    "\n",
    "# pool and dropout\n",
    "exp_conv.add(MaxPooling2D(pool_size=(2, 2)))\n",
    "exp_conv.add(Dropout(0.4))\n",
    "\n",
    "# conv 9\n",
    "exp_conv.add(Conv2D(filters=base_units * 16, kernel_size=(3, 3), padding='same', activation=relu))\n",
    "exp_conv.add(BatchNormalization())\n",
    "\n",
    "# conv 10\n",
    "exp_conv.add(Conv2D(filters=base_units * 16, kernel_size=(3, 3), padding='same', activation=relu))\n",
    "exp_conv.add(BatchNormalization())\n",
    "\n",
    "# pool and dropout\n",
    "exp_conv.add(MaxPooling2D(pool_size=(2, 2)))\n",
    "exp_conv.add(Dropout(0.4))\n",
    "\n",
    "# fully connected\n",
    "exp_conv.add(Flatten())\n",
    "exp_conv.add(Dense(units=1024, activation=relu))\n",
    "exp_conv.add(Dropout(0.5))\n",
    "exp_conv.add(Dense(units=1024, activation=relu))\n",
    "exp_conv.add(Dropout(0.5))\n",
    "exp_conv.add(Dense(units=y.shape[1], activation=sigmoid))\n",
    "\n",
    "exp_conv.summary()"
   ],
   "metadata": {
    "execution": {
     "iopub.status.busy": "2022-01-04T04:12:11.158931Z",
     "iopub.execute_input": "2022-01-04T04:12:11.159437Z",
     "iopub.status.idle": "2022-01-04T04:12:13.515158Z",
     "shell.execute_reply.started": "2022-01-04T04:12:11.159402Z",
     "shell.execute_reply": "2022-01-04T04:12:13.514507Z"
    },
    "trusted": true
   },
   "execution_count": 25,
   "outputs": []
  },
  {
   "cell_type": "code",
   "source": [
    "plot_model(exp_conv,\n",
    "           to_file='baseline_conv_10_exp.png',\n",
    "           show_shapes=True,\n",
    "           show_dtype=True,\n",
    "           show_layer_names=True)"
   ],
   "metadata": {
    "execution": {
     "iopub.status.busy": "2022-01-04T04:12:13.519207Z",
     "iopub.execute_input": "2022-01-04T04:12:13.521309Z",
     "iopub.status.idle": "2022-01-04T04:12:14.396857Z",
     "shell.execute_reply.started": "2022-01-04T04:12:13.521271Z",
     "shell.execute_reply": "2022-01-04T04:12:14.394328Z"
    },
    "trusted": true
   },
   "execution_count": 26,
   "outputs": []
  },
  {
   "cell_type": "code",
   "source": [
    "exp_conv.compile(optimizer=Adam(),\n",
    "                 loss=binary_crossentropy,\n",
    "                 metrics=[Recall(), Precision(), 'accuracy', AUC()])\n",
    "\n",
    "history = exp_conv.fit(generator.flow(X, y, batch_size=64),\n",
    "                       epochs=500,\n",
    "                       validation_data=(val_x, val_y),\n",
    "                       callbacks=[early_stop, check_pointer, reduce_lr])"
   ],
   "metadata": {
    "execution": {
     "iopub.status.busy": "2022-01-04T04:12:14.398113Z",
     "iopub.execute_input": "2022-01-04T04:12:14.398382Z"
    },
    "trusted": true
   },
   "execution_count": null,
   "outputs": []
  },
  {
   "cell_type": "code",
   "source": [
    "exp_conv.evaluate(test_x, test_y)"
   ],
   "metadata": {
    "trusted": true
   },
   "execution_count": null,
   "outputs": []
  },
  {
   "cell_type": "code",
   "source": [
    "figure, axes = plt.subplots(nrows=1, ncols=3, figsize=[18, 6], dpi=300)\n",
    "axes = axes.ravel()\n",
    "epochs = list(range(len(history.history['loss'])))\n",
    "\n",
    "sns.lineplot(x=epochs, y=history.history['loss'], ax=axes[0], label='loss')\n",
    "sns.lineplot(x=epochs, y=history.history['val_loss'], ax=axes[0], label='val loss')\n",
    "sns.lineplot(x=epochs, y=history.history['precision'], ax=axes[1], label='precision')\n",
    "sns.lineplot(x=epochs, y=history.history['val_precision'], ax=axes[1], label='val precision')\n",
    "sns.lineplot(x=epochs, y=history.history['recall'], color='#025918', ax=axes[1], label='recall')\n",
    "sns.lineplot(x=epochs, y=history.history['val_recall'], color='#D9B504', ax=axes[1], label='val recall')\n",
    "sns.lineplot(x=epochs, y=history.history['accuracy'], ax=axes[2], label='accuracy')\n",
    "sns.lineplot(x=epochs, y=history.history['val_accuracy'], ax=axes[2], label='val accuracy')\n",
    "axes[0].set_xlabel('epoch')\n",
    "axes[0].set_ylabel('loss')\n",
    "axes[1].set_xlabel('epoch')\n",
    "axes[1].set_ylabel('precision and recall')\n",
    "axes[2].set_xlabel('epoch')\n",
    "axes[2].set_ylabel('accuracy')\n",
    "plt.savefig('VGGNet_base_conv_train_history.png')\n",
    "plt.show()"
   ],
   "metadata": {
    "trusted": true
   },
   "execution_count": null,
   "outputs": []
  },
  {
   "cell_type": "code",
   "source": [
    "figure, axes = plt.subplots(nrows=1, ncols=2, figsize=[12, 6], dpi=300)\n",
    "axes = axes.ravel()\n",
    "\n",
    "sns.lineplot(x=epochs, y=history.history['lr'], ax=axes[0], label='learning rate')\n",
    "sns.lineplot(x=history.history['lr'], y=history.history['val_accuracy'], ax=axes[1], label='accuracy & lr')\n",
    "axes[0].set_xlabel('epoch')\n",
    "axes[0].set_ylabel('learning rate')\n",
    "axes[1].set_xlabel('learning rate')\n",
    "axes[1].set_ylabel('accuracy')\n",
    "\n",
    "plt.savefig('VGGNet_base_conv_lr_history.png')\n",
    "plt.show()"
   ],
   "metadata": {
    "trusted": true
   },
   "execution_count": null,
   "outputs": []
  },
  {
   "cell_type": "code",
   "source": [
    "# Plot confusion matrix\n",
    "fig, axes = plt.subplots(nrows=13, ncols=3, figsize=[24, 56], dpi=300)\n",
    "axes = axes.ravel()\n",
    "\n",
    "preds = np.where(exp_conv.predict(test_x) < 0.65, 0, 1)\n",
    "confusion = multilabel_confusion_matrix(test_y, preds)\n",
    "\n",
    "for i, (label, matrix) in enumerate(zip(mlb.classes_, confusion)):\n",
    "    labels = [f'not_{label}', label]\n",
    "    sns.heatmap(matrix, annot=True, square=True, fmt='d', cbar=False, cmap='Blues',\n",
    "                xticklabels=labels, yticklabels=labels, linecolor='black', linewidth=1,\n",
    "                ax=axes[i])\n",
    "    axes[i].set_title(labels[0])\n",
    "\n",
    "plt.savefig('VGGNet_base_conv_7_cm.png')\n",
    "plt.show()"
   ],
   "metadata": {
    "trusted": true
   },
   "execution_count": null,
   "outputs": []
  },
  {
   "cell_type": "code",
   "source": [
    "fig, axes = plt.subplots(nrows=5, ncols=2, figsize=(8, 24))\n",
    "preds = exp_conv.predict(test_x[:10])\n",
    "axes = axes.ravel()\n",
    "\n",
    "for i in range(len(preds)):\n",
    "    p = zip(list(mlb.classes_), list(preds[i]))\n",
    "    p = sorted(list(p), key=lambda z: z[1], reverse=True)[:2]\n",
    "    axes[i].imshow(test_x[i])\n",
    "    axes[i].set_title(f'{p[0][0]}: {round(p[0][1] * 100, 2)}% \\n {p[1][0]}: {round(p[1][1] * 100, 2)}%')\n",
    "    "
   ],
   "metadata": {
    "trusted": true
   },
   "execution_count": null,
   "outputs": []
  }
 ]
}