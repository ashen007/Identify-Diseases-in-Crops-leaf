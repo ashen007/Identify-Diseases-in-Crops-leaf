{
 "cells": [
  {
   "cell_type": "code",
   "execution_count": null,
   "metadata": {
    "collapsed": true
   },
   "outputs": [],
   "source": [
    "import seaborn as sns\n",
    "import tensorflow as tf\n",
    "from matplotlib import pyplot as plt\n",
    "from tensorflow.keras.models import Sequential, Model\n",
    "from tensorflow.keras.layers import Input, Dense, Flatten, Conv2D, MaxPooling2D\n",
    "from tensorflow.keras.layers import Dropout, BatchNormalization, concatenate\n",
    "from tensorflow.keras.activations import relu, sigmoid\n",
    "from tensorflow.keras.utils import plot_model"
   ]
  },
  {
   "cell_type": "code",
   "execution_count": null,
   "outputs": [],
   "source": [
    "def inception_module(x, filter_1x1, filter_3x3_reduce, filter_3x3, filter_5x5_reduce, filter_5x5, filters_pool_proj,\n",
    "                     name=None):\n",
    "    # reduction layer\n",
    "    conv_3x3_reducer = Conv2D(filters=filter_3x3_reduce, kernel_size=(1, 1), activation=relu, padding='same')(x)\n",
    "    conv_5x5_reducer = Conv2D(filters=filter_5x5_reduce, kernel_size=(1, 1), activation=relu, padding='same')(x)\n",
    "    pool_3x3 = MaxPooling2D(pool_size=(3, 3), strides=(1, 1), padding='same')(x)\n",
    "\n",
    "    # extraction layer\n",
    "    conv_3x3 = Conv2D(filters=filter_3x3,kernel_size=(3,3),activation=relu,padding='same')(conv_3x3_reducer)\n",
    "    conv_5x5 = Conv2D(filters=filter_5x5,kernel_size=(5,5),activation=relu,padding='same')(conv_5x5_reducer)\n",
    "    conv_1x1_proj = Conv2D(filters=filters_pool_proj,kernel_size=(1,1),activation=relu,padding='same')(pool_3x3)\n",
    "\n",
    "    # projection layer\n",
    "    proj = Conv2D(filters=filter_1x1, kernel_size=(1,1), activation=relu, padding='same')(x)\n",
    "\n",
    "    # output\n",
    "    x = concatenate(proj, conv_1x1_proj, conv_3x3, conv_5x5)(x)\n",
    "\n",
    "    return x"
   ],
   "metadata": {
    "collapsed": false,
    "pycharm": {
     "name": "#%%\n"
    }
   }
  }
 ],
 "metadata": {
  "kernelspec": {
   "display_name": "Python 3",
   "language": "python",
   "name": "python3"
  },
  "language_info": {
   "codemirror_mode": {
    "name": "ipython",
    "version": 2
   },
   "file_extension": ".py",
   "mimetype": "text/x-python",
   "name": "python",
   "nbconvert_exporter": "python",
   "pygments_lexer": "ipython2",
   "version": "2.7.6"
  }
 },
 "nbformat": 4,
 "nbformat_minor": 0
}