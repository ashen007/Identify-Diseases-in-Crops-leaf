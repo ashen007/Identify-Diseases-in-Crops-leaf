{
 "cells": [
  {
   "cell_type": "markdown",
   "source": [
    "## DeepWideNet Architecture"
   ],
   "metadata": {
    "collapsed": false
   }
  },
  {
   "cell_type": "code",
   "execution_count": 1,
   "metadata": {
    "collapsed": true
   },
   "outputs": [],
   "source": [
    "from tensorflow.keras.models import Model\n",
    "from tensorflow.keras.layers import Conv2D, MaxPooling2D, Dense, Flatten, Input, Dropout, concatenate\n",
    "from tensorflow.keras.layers import AveragePooling2D, BatchNormalization, Add, Activation\n",
    "from tensorflow.keras.regularizers import l2\n",
    "from tensorflow.keras.initializers import glorot_uniform, constant\n",
    "from tensorflow.keras.activations import selu, softmax\n",
    "from tensorflow.keras.optimizers import Adam\n",
    "from tensorflow.keras.losses import categorical_crossentropy\n",
    "from tensorflow.keras.callbacks import ModelCheckpoint, ReduceLROnPlateau, EarlyStopping\n",
    "from tensorflow.keras.utils import plot_model"
   ]
  },
  {
   "cell_type": "code",
   "execution_count": 2,
   "outputs": [],
   "source": [
    "def wide_block(x, filters, name):\n",
    "    f1, f2, f3 = filters\n",
    "    prev_layer = x\n",
    "\n",
    "    # wide shortcut\n",
    "    conv_1x1_shortcut = Conv2D(filters=f1, kernel_size=(1, 1), activation=selu, padding='same')(prev_layer)\n",
    "    conv_1x1_shortcut = BatchNormalization(axis=3)(conv_1x1_shortcut)\n",
    "\n",
    "    # sub-deep path\n",
    "    conv_5x5 = Conv2D(filters=f2, kernel_size=(5, 5), strides=(2, 2), activation=selu, padding='same')(prev_layer)\n",
    "    conv_5x5 = BatchNormalization(axis=3)(conv_5x5)\n",
    "    conv_3x3 = Conv2D(filters=f3, kernel_size=(3, 3), strides=(1, 1), activation=selu, padding='same')(conv_5x5)\n",
    "    conv_3x3 = BatchNormalization(axis=3)(conv_3x3)\n",
    "\n",
    "    # concatenation block 1\n",
    "    sub_deep_block = concatenate([prev_layer, conv_3x3], axis=3)\n",
    "    sub_deep_block = BatchNormalization(axis=3)(sub_deep_block)\n",
    "\n",
    "    # concatenation block 2\n",
    "    final_concat = concatenate([conv_1x1_shortcut, sub_deep_block], axis=3, name=name)\n",
    "\n",
    "    return final_concat"
   ],
   "metadata": {
    "collapsed": false,
    "pycharm": {
     "name": "#%%\n"
    }
   }
  }
 ],
 "metadata": {
  "kernelspec": {
   "display_name": "Python 3",
   "language": "python",
   "name": "python3"
  },
  "language_info": {
   "codemirror_mode": {
    "name": "ipython",
    "version": 2
   },
   "file_extension": ".py",
   "mimetype": "text/x-python",
   "name": "python",
   "nbconvert_exporter": "python",
   "pygments_lexer": "ipython2",
   "version": "2.7.6"
  }
 },
 "nbformat": 4,
 "nbformat_minor": 0
}