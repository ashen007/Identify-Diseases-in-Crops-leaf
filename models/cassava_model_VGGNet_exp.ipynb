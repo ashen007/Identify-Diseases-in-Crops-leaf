{
 "cells": [
  {
   "cell_type": "markdown",
   "source": [
    "## Cassava only model"
   ],
   "metadata": {
    "collapsed": false
   }
  },
  {
   "cell_type": "code",
   "execution_count": 1,
   "metadata": {
    "collapsed": true
   },
   "outputs": [],
   "source": [
    "import numpy as np\n",
    "import cv2 as cv\n",
    "\n",
    "from tensorflow.keras.models import Sequential\n",
    "from tensorflow.keras.layers import InputLayer, Dense, Dropout, BatchNormalization, Conv2D, MaxPooling2D\n",
    "from tensorflow.keras.activations import relu, sigmoid\n",
    "from tensorflow.keras.optimizers import Adam\n",
    "from tensorflow.keras.losses import binary_crossentropy\n",
    "from tensorflow.keras.metrics import Precision, Recall\n",
    "from tensorflow.keras.preprocessing.image import ImageDataGenerator\n",
    "from tensorflow.keras.callbacks import EarlyStopping, ModelCheckpoint, ReduceLROnPlateau"
   ]
  },
  {
   "cell_type": "code",
   "execution_count": 2,
   "outputs": [],
   "source": [
    "train_dir = '../data/image data/train/Cassava'\n",
    "test_dir = '../data/image data/test/Cassava'\n",
    "val_dir = '../data/image data/validation/Cassava'"
   ],
   "metadata": {
    "collapsed": false,
    "pycharm": {
     "name": "#%%\n"
    }
   }
  },
  {
   "cell_type": "code",
   "execution_count": 3,
   "outputs": [
    {
     "name": "stdout",
     "output_type": "stream",
     "text": [
      "Found 2435 images belonging to 5 classes.\n",
      "Found 682 images belonging to 5 classes.\n",
      "Found 341 images belonging to 5 classes.\n"
     ]
    }
   ],
   "source": [
    "# data generators\n",
    "train_generator = ImageDataGenerator(rescale=1. / 255)\n",
    "test_generator = ImageDataGenerator(rescale=1. / 255)\n",
    "val_generator = ImageDataGenerator(rescale=1. / 255)\n",
    "\n",
    "train_data = train_generator.flow_from_directory(directory=train_dir)\n",
    "test_data = test_generator.flow_from_directory(directory=test_dir)\n",
    "val_data = val_generator.flow_from_directory(directory=val_dir)"
   ],
   "metadata": {
    "collapsed": false,
    "pycharm": {
     "name": "#%%\n"
    }
   }
  }
 ],
 "metadata": {
  "kernelspec": {
   "display_name": "Python 3",
   "language": "python",
   "name": "python3"
  },
  "language_info": {
   "codemirror_mode": {
    "name": "ipython",
    "version": 2
   },
   "file_extension": ".py",
   "mimetype": "text/x-python",
   "name": "python",
   "nbconvert_exporter": "python",
   "pygments_lexer": "ipython2",
   "version": "2.7.6"
  }
 },
 "nbformat": 4,
 "nbformat_minor": 0
}