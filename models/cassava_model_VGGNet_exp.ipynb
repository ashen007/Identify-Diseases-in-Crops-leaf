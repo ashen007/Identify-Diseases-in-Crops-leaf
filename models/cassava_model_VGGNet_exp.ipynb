{
 "cells": [
  {
   "cell_type": "markdown",
   "source": [
    "## Cassava only model"
   ],
   "metadata": {
    "collapsed": false
   }
  },
  {
   "cell_type": "code",
   "execution_count": 7,
   "metadata": {
    "collapsed": true
   },
   "outputs": [],
   "source": [
    "import numpy as np\n",
    "import cv2 as cv\n",
    "\n",
    "from tensorflow.keras.models import Sequential\n",
    "from tensorflow.keras.layers import InputLayer, Dense, Dropout, BatchNormalization, Conv2D, MaxPooling2D, Flatten\n",
    "from tensorflow.keras.activations import relu, softmax\n",
    "from tensorflow.keras.optimizers import Adam\n",
    "from tensorflow.keras.losses import binary_crossentropy\n",
    "from tensorflow.keras.metrics import Precision, Recall\n",
    "from tensorflow.keras.preprocessing.image import ImageDataGenerator\n",
    "from tensorflow.keras.callbacks import EarlyStopping, ModelCheckpoint, ReduceLROnPlateau"
   ]
  },
  {
   "cell_type": "code",
   "execution_count": 2,
   "outputs": [],
   "source": [
    "train_dir = '../data/image data/train/Cassava'\n",
    "test_dir = '../data/image data/test/Cassava'\n",
    "val_dir = '../data/image data/validation/Cassava'"
   ],
   "metadata": {
    "collapsed": false,
    "pycharm": {
     "name": "#%%\n"
    }
   }
  },
  {
   "cell_type": "code",
   "execution_count": 5,
   "outputs": [
    {
     "name": "stdout",
     "output_type": "stream",
     "text": [
      "Found 2435 images belonging to 5 classes.\n",
      "Found 682 images belonging to 5 classes.\n",
      "Found 341 images belonging to 5 classes.\n"
     ]
    }
   ],
   "source": [
    "# data generators\n",
    "train_generator = ImageDataGenerator(rescale=1. / 255)\n",
    "test_generator = ImageDataGenerator(rescale=1. / 255)\n",
    "val_generator = ImageDataGenerator(rescale=1. / 255)\n",
    "\n",
    "train_data = train_generator.flow_from_directory(directory=train_dir, target_size=(56, 56))\n",
    "test_data = test_generator.flow_from_directory(directory=test_dir, target_size=(56, 56))\n",
    "val_data = val_generator.flow_from_directory(directory=val_dir, target_size=(56, 56))"
   ],
   "metadata": {
    "collapsed": false,
    "pycharm": {
     "name": "#%%\n"
    }
   }
  },
  {
   "cell_type": "code",
   "execution_count": 8,
   "outputs": [
    {
     "name": "stdout",
     "output_type": "stream",
     "text": [
      "Model: \"sequential\"\n",
      "_________________________________________________________________\n",
      " Layer (type)                Output Shape              Param #   \n",
      "=================================================================\n",
      " conv2d (Conv2D)             (None, 56, 56, 32)        896       \n",
      "                                                                 \n",
      " batch_normalization (BatchN  (None, 56, 56, 32)       128       \n",
      " ormalization)                                                   \n",
      "                                                                 \n",
      " conv2d_1 (Conv2D)           (None, 56, 56, 32)        9248      \n",
      "                                                                 \n",
      " batch_normalization_1 (Batc  (None, 56, 56, 32)       128       \n",
      " hNormalization)                                                 \n",
      "                                                                 \n",
      " max_pooling2d (MaxPooling2D  (None, 28, 28, 32)       0         \n",
      " )                                                               \n",
      "                                                                 \n",
      " dropout (Dropout)           (None, 28, 28, 32)        0         \n",
      "                                                                 \n",
      " conv2d_2 (Conv2D)           (None, 28, 28, 64)        18496     \n",
      "                                                                 \n",
      " batch_normalization_2 (Batc  (None, 28, 28, 64)       256       \n",
      " hNormalization)                                                 \n",
      "                                                                 \n",
      " conv2d_3 (Conv2D)           (None, 28, 28, 64)        36928     \n",
      "                                                                 \n",
      " batch_normalization_3 (Batc  (None, 28, 28, 64)       256       \n",
      " hNormalization)                                                 \n",
      "                                                                 \n",
      " max_pooling2d_1 (MaxPooling  (None, 14, 14, 64)       0         \n",
      " 2D)                                                             \n",
      "                                                                 \n",
      " dropout_1 (Dropout)         (None, 14, 14, 64)        0         \n",
      "                                                                 \n",
      " conv2d_4 (Conv2D)           (None, 14, 14, 128)       73856     \n",
      "                                                                 \n",
      " batch_normalization_4 (Batc  (None, 14, 14, 128)      512       \n",
      " hNormalization)                                                 \n",
      "                                                                 \n",
      " conv2d_5 (Conv2D)           (None, 14, 14, 128)       147584    \n",
      "                                                                 \n",
      " batch_normalization_5 (Batc  (None, 14, 14, 128)      512       \n",
      " hNormalization)                                                 \n",
      "                                                                 \n",
      " max_pooling2d_2 (MaxPooling  (None, 7, 7, 128)        0         \n",
      " 2D)                                                             \n",
      "                                                                 \n",
      " dropout_2 (Dropout)         (None, 7, 7, 128)         0         \n",
      "                                                                 \n",
      " flatten (Flatten)           (None, 6272)              0         \n",
      "                                                                 \n",
      " dense (Dense)               (None, 512)               3211776   \n",
      "                                                                 \n",
      " dropout_3 (Dropout)         (None, 512)               0         \n",
      "                                                                 \n",
      " dense_1 (Dense)             (None, 5)                 2565      \n",
      "                                                                 \n",
      "=================================================================\n",
      "Total params: 3,503,141\n",
      "Trainable params: 3,502,245\n",
      "Non-trainable params: 896\n",
      "_________________________________________________________________\n"
     ]
    }
   ],
   "source": [
    "base_filters = 32\n",
    "cassava_model = Sequential()\n",
    "\n",
    "cassava_model.add(InputLayer(input_shape=(56, 56, 3)))\n",
    "\n",
    "# conv 1\n",
    "cassava_model.add(Conv2D(filters=base_filters, kernel_size=(3, 3), padding='same', activation=relu))\n",
    "cassava_model.add(BatchNormalization())\n",
    "\n",
    "# conv 2\n",
    "cassava_model.add(Conv2D(filters=base_filters, kernel_size=(3, 3), padding='same', activation=relu))\n",
    "cassava_model.add(BatchNormalization())\n",
    "\n",
    "# pooling and dropout\n",
    "cassava_model.add(MaxPooling2D(pool_size=(2, 2)))\n",
    "cassava_model.add(Dropout(0.2))\n",
    "\n",
    "# conv 3\n",
    "cassava_model.add(Conv2D(filters=base_filters * 2, kernel_size=(3, 3), padding='same', activation=relu))\n",
    "cassava_model.add(BatchNormalization())\n",
    "\n",
    "# conv 4\n",
    "cassava_model.add(Conv2D(filters=base_filters * 2, kernel_size=(3, 3), padding='same', activation=relu))\n",
    "cassava_model.add(BatchNormalization())\n",
    "\n",
    "# pooling and dropout\n",
    "cassava_model.add(MaxPooling2D(pool_size=(2, 2)))\n",
    "cassava_model.add(Dropout(0.3))\n",
    "\n",
    "# conv 5\n",
    "cassava_model.add(Conv2D(filters=base_filters * 4, kernel_size=(3, 3), padding='same', activation=relu))\n",
    "cassava_model.add(BatchNormalization())\n",
    "\n",
    "# conv 6\n",
    "cassava_model.add(Conv2D(filters=base_filters * 4, kernel_size=(3, 3), padding='same', activation=relu))\n",
    "cassava_model.add(BatchNormalization())\n",
    "\n",
    "# pooling and dropout\n",
    "cassava_model.add(MaxPooling2D(pool_size=(2, 2)))\n",
    "cassava_model.add(Dropout(0.4))\n",
    "\n",
    "# classifier\n",
    "cassava_model.add(Flatten())\n",
    "cassava_model.add(Dense(units=512, activation=relu))\n",
    "cassava_model.add(Dropout(0.5))\n",
    "cassava_model.add(Dense(units=5, activation=softmax))\n",
    "\n",
    "cassava_model.summary()"
   ],
   "metadata": {
    "collapsed": false,
    "pycharm": {
     "name": "#%%\n"
    }
   }
  }
 ],
 "metadata": {
  "kernelspec": {
   "display_name": "Python 3",
   "language": "python",
   "name": "python3"
  },
  "language_info": {
   "codemirror_mode": {
    "name": "ipython",
    "version": 2
   },
   "file_extension": ".py",
   "mimetype": "text/x-python",
   "name": "python",
   "nbconvert_exporter": "python",
   "pygments_lexer": "ipython2",
   "version": "2.7.6"
  }
 },
 "nbformat": 4,
 "nbformat_minor": 0
}